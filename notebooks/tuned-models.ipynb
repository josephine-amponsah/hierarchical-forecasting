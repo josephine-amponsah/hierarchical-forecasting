{
 "cells": [
  {
   "cell_type": "code",
   "execution_count": 1,
   "metadata": {},
   "outputs": [],
   "source": [
    "import pandas as pd\n",
    "import numpy as np\n",
    "import matplotlib.pyplot as plt\n",
    "import seaborn as sns\n",
    "import sklearn\n",
    "import statsmodels\n",
    "#import xgboost as xgb"
   ]
  },
  {
   "cell_type": "code",
   "execution_count": 2,
   "metadata": {},
   "outputs": [],
   "source": [
    "Y_data = pd.read_csv(r\"../data/forecast.csv\", index_col=0)"
   ]
  },
  {
   "cell_type": "code",
   "execution_count": 3,
   "metadata": {},
   "outputs": [
    {
     "name": "stdout",
     "output_type": "stream",
     "text": [
      "<class 'pandas.core.frame.DataFrame'>\n",
      "Int64Index: 9240 entries, 0 to 9239\n",
      "Data columns (total 5 columns):\n",
      " #   Column             Non-Null Count  Dtype  \n",
      "---  ------             --------------  -----  \n",
      " 0   CustomerContinent  9240 non-null   object \n",
      " 1   ProductCategory    9240 non-null   object \n",
      " 2   dateOfPurchase     9240 non-null   object \n",
      " 3   TotalQuantity      6611 non-null   float64\n",
      " 4   TotalRevenue       6611 non-null   float64\n",
      "dtypes: float64(2), object(3)\n",
      "memory usage: 433.1+ KB\n"
     ]
    }
   ],
   "source": [
    "Y_data.info()"
   ]
  },
  {
   "cell_type": "code",
   "execution_count": 4,
   "metadata": {},
   "outputs": [],
   "source": [
    "Y_data[\"dateOfPurchase\"] = pd.to_datetime(Y_data[\"dateOfPurchase\"]).dt.to_period('M')"
   ]
  },
  {
   "cell_type": "code",
   "execution_count": 5,
   "metadata": {},
   "outputs": [
    {
     "name": "stdout",
     "output_type": "stream",
     "text": [
      "<class 'pandas.core.frame.DataFrame'>\n",
      "Int64Index: 9240 entries, 0 to 9239\n",
      "Data columns (total 5 columns):\n",
      " #   Column             Non-Null Count  Dtype    \n",
      "---  ------             --------------  -----    \n",
      " 0   CustomerContinent  9240 non-null   object   \n",
      " 1   ProductCategory    9240 non-null   object   \n",
      " 2   dateOfPurchase     9240 non-null   period[M]\n",
      " 3   TotalQuantity      6611 non-null   float64  \n",
      " 4   TotalRevenue       6611 non-null   float64  \n",
      "dtypes: float64(2), object(2), period[M](1)\n",
      "memory usage: 433.1+ KB\n"
     ]
    }
   ],
   "source": [
    "Y_data.info()"
   ]
  },
  {
   "cell_type": "code",
   "execution_count": 6,
   "metadata": {},
   "outputs": [],
   "source": [
    "Y_data = Y_data.groupby([\"CustomerContinent\", \"ProductCategory\", \"dateOfPurchase\"]).agg(\n",
    "                                TotalQuantity = pd.NamedAgg(column = \"TotalQuantity\", aggfunc=sum),\n",
    "                                TotalRevenue = pd.NamedAgg(column = \"TotalRevenue\", aggfunc = sum)\n",
    ")"
   ]
  },
  {
   "cell_type": "code",
   "execution_count": 7,
   "metadata": {},
   "outputs": [],
   "source": [
    "y_train = Y_data[Y_data.index.get_level_values('dateOfPurchase')<\"2019-01\"]\n",
    "y_validate = Y_data[Y_data.index.get_level_values('dateOfPurchase')>=\"2019-01\"]"
   ]
  },
  {
   "cell_type": "code",
   "execution_count": 8,
   "metadata": {},
   "outputs": [],
   "source": [
    "#standardizing data\n",
    "from sklearn.preprocessing import StandardScaler\n",
    "\n",
    "scaler = StandardScaler()\n",
    "y_train.values\n",
    "index = y_train.index\n",
    "columns = y_train.columns\n",
    "scaled_values = scaler.fit_transform(y_train.values)"
   ]
  },
  {
   "cell_type": "code",
   "execution_count": 9,
   "metadata": {},
   "outputs": [
    {
     "data": {
      "text/plain": [
       "array([[-0.87405298, -0.68006979],\n",
       "       [ 1.40614653,  0.50069846],\n",
       "       [ 0.10317539,  0.47950609],\n",
       "       ...,\n",
       "       [-0.65689112, -0.33744483],\n",
       "       [ 1.62330839,  2.06909531],\n",
       "       [-0.11398647,  0.09687404]])"
      ]
     },
     "execution_count": 9,
     "metadata": {},
     "output_type": "execute_result"
    }
   ],
   "source": [
    "scaled_values"
   ]
  },
  {
   "cell_type": "code",
   "execution_count": 10,
   "metadata": {},
   "outputs": [
    {
     "data": {
      "text/html": [
       "<div>\n",
       "<style scoped>\n",
       "    .dataframe tbody tr th:only-of-type {\n",
       "        vertical-align: middle;\n",
       "    }\n",
       "\n",
       "    .dataframe tbody tr th {\n",
       "        vertical-align: top;\n",
       "    }\n",
       "\n",
       "    .dataframe thead th {\n",
       "        text-align: right;\n",
       "    }\n",
       "</style>\n",
       "<table border=\"1\" class=\"dataframe\">\n",
       "  <thead>\n",
       "    <tr style=\"text-align: right;\">\n",
       "      <th></th>\n",
       "      <th></th>\n",
       "      <th></th>\n",
       "      <th>TotalQuantity</th>\n",
       "      <th>TotalRevenue</th>\n",
       "    </tr>\n",
       "    <tr>\n",
       "      <th>CustomerContinent</th>\n",
       "      <th>ProductCategory</th>\n",
       "      <th>dateOfPurchase</th>\n",
       "      <th></th>\n",
       "      <th></th>\n",
       "    </tr>\n",
       "  </thead>\n",
       "  <tbody>\n",
       "    <tr>\n",
       "      <th rowspan=\"5\" valign=\"top\">Africa</th>\n",
       "      <th rowspan=\"5\" valign=\"top\">Automotive</th>\n",
       "      <th>2016-01</th>\n",
       "      <td>-0.874053</td>\n",
       "      <td>-0.680070</td>\n",
       "    </tr>\n",
       "    <tr>\n",
       "      <th>2016-02</th>\n",
       "      <td>1.406147</td>\n",
       "      <td>0.500698</td>\n",
       "    </tr>\n",
       "    <tr>\n",
       "      <th>2016-03</th>\n",
       "      <td>0.103175</td>\n",
       "      <td>0.479506</td>\n",
       "    </tr>\n",
       "    <tr>\n",
       "      <th>2016-04</th>\n",
       "      <td>1.514727</td>\n",
       "      <td>1.294496</td>\n",
       "    </tr>\n",
       "    <tr>\n",
       "      <th>2016-05</th>\n",
       "      <td>0.971823</td>\n",
       "      <td>0.794730</td>\n",
       "    </tr>\n",
       "  </tbody>\n",
       "</table>\n",
       "</div>"
      ],
      "text/plain": [
       "                                                  TotalQuantity  TotalRevenue\n",
       "CustomerContinent ProductCategory dateOfPurchase                             \n",
       "Africa            Automotive      2016-01             -0.874053     -0.680070\n",
       "                                  2016-02              1.406147      0.500698\n",
       "                                  2016-03              0.103175      0.479506\n",
       "                                  2016-04              1.514727      1.294496\n",
       "                                  2016-05              0.971823      0.794730"
      ]
     },
     "execution_count": 10,
     "metadata": {},
     "output_type": "execute_result"
    }
   ],
   "source": [
    "scaled_y = pd.DataFrame(scaled_values, columns = columns, index = index)\n",
    "scaled_y.head()"
   ]
  },
  {
   "cell_type": "code",
   "execution_count": 11,
   "metadata": {},
   "outputs": [
    {
     "data": {
      "text/plain": [
       "ForecastingHorizon(['2019-01', '2019-02', '2019-03', '2019-04', '2019-05', '2019-06',\n",
       "             '2019-07', '2019-08', '2019-09', '2019-10', '2019-11', '2019-12',\n",
       "             '2020-01', '2020-02', '2020-03', '2020-04', '2020-05', '2020-06',\n",
       "             '2020-07', '2020-08', '2020-09', '2020-10', '2020-11', '2020-12'],\n",
       "            dtype='period[M]', is_relative=False)"
      ]
     },
     "execution_count": 11,
     "metadata": {},
     "output_type": "execute_result"
    }
   ],
   "source": [
    "from sktime.forecasting.base import ForecastingHorizon\n",
    "fh = ForecastingHorizon(\n",
    "    pd.PeriodIndex(pd.date_range(\"2019-01\", periods= 24, freq=\"M\")), is_relative=False\n",
    ")\n",
    "fh"
   ]
  },
  {
   "cell_type": "code",
   "execution_count": 12,
   "metadata": {},
   "outputs": [],
   "source": [
    "from sktime.forecasting.var import VAR\n",
    "from sktime.forecasting.varmax import VARMAX\n",
    "from sktime.forecasting.dynamic_factor import DynamicFactor\n",
    "from sktime.forecasting.model_selection._tune import ForecastingGridSearchCV\n",
    "from sktime.forecasting.compose._pipeline import Permute\n",
    "from sktime.forecasting.compose._pipeline import TransformedTargetForecaster\n",
    "from sktime.forecasting.compose._hierarchy_ensemble import HierarchyEnsembleForecaster\n",
    "from sktime.forecasting.compose._ensemble import EnsembleForecaster\n",
    "import statsmodels\n",
    "\n",
    "forecaster_set = [(\"var\", VAR()), \n",
    "                  (\"varmax\", VARMAX())]\n"
   ]
  },
  {
   "attachments": {},
   "cell_type": "markdown",
   "metadata": {},
   "source": [
    "To improve the performance of Ensemble Forecaster with VAR and VARMAX as base estimators, we will tune hyperparamters with GrisdSearch CV"
   ]
  },
  {
   "cell_type": "code",
   "execution_count": 17,
   "metadata": {},
   "outputs": [],
   "source": [
    "\n",
    "\n",
    "from sktime.forecasting.model_selection import SlidingWindowSplitter\n",
    "from sktime.forecasting.model_selection import SingleWindowSplitter\n",
    "forecaster_set = [(\"var\", VAR()), \n",
    "                  (\"varmax\", VARMAX())]\n",
    "forecaster = EnsembleForecaster(forecasters= forecaster_set, weights= [4,10])\n",
    "# fh = ForecastingHorizon(\n",
    "#     pd.PeriodIndex(pd.date_range(\"2019-01\", periods= 24, freq=\"M\")), is_relative=False\n",
    "# )\n",
    "fh = pd.PeriodIndex(pd.date_range(\"2019-01\", periods= 24, freq=\"M\"))\n",
    "horizon=pd.Series({\"CustomerContinent\": fh, \"ProductCategory\": fh})\n",
    "# cv = SlidingWindowSplitter(fh=horizon, window_length= 24)\n",
    "cv = SingleWindowSplitter(fh = 24)\n"
   ]
  },
  {
   "cell_type": "code",
   "execution_count": null,
   "metadata": {},
   "outputs": [
    {
     "data": {
      "text/plain": [
       "dict_keys(['aggfunc', 'forecasters', 'n_jobs', 'weights', 'var', 'varmax', 'var__dates', 'var__freq', 'var__ic', 'var__maxlags', 'var__method', 'var__missing', 'var__random_state', 'var__trend', 'var__verbose', 'varmax__callback', 'varmax__cov_kwds', 'varmax__cov_type', 'varmax__disp', 'varmax__dynamic', 'varmax__enforce_invertibility', 'varmax__enforce_stationarity', 'varmax__error_cov_type', 'varmax__flags', 'varmax__full_output', 'varmax__includes_fixed', 'varmax__information_set', 'varmax__low_memory', 'varmax__maxiter', 'varmax__measurement_error', 'varmax__method', 'varmax__optim_complex_step', 'varmax__optim_hessian', 'varmax__optim_score', 'varmax__order', 'varmax__return_params', 'varmax__signal_only', 'varmax__start_params', 'varmax__suppress_warnings', 'varmax__transformed', 'varmax__trend', 'varmax__trend_offset'])"
      ]
     },
     "execution_count": 14,
     "metadata": {},
     "output_type": "execute_result"
    }
   ],
   "source": [
    "EnsembleForecaster(forecaster_set).get_params().keys()"
   ]
  },
  {
   "cell_type": "code",
   "execution_count": 19,
   "metadata": {},
   "outputs": [],
   "source": [
    "param_grid = {\n",
    "    'var__ic': ['aic', 'fpe', 'hqic', 'bic', None],\n",
    "    'var__method' :[\"ols\",\"gls\", \"gmm\",\"ml\", \"irf\",\"mvd\"],\n",
    "    'var__trend':[\"c\", \"ct\", \"ctt\", \"n\"],\n",
    "    'varmax__method':[\"newton\",\"nf\",\"bfgs\",\"lbfgs\", \"powell\",\"cg\",\"ncg\",\"basinhopping\"],\n",
    "    'varmax__trend':[\"n\", \"c\",\"t\", \"ct\"],\n",
    "    'weights': [(0.33, 0.67), (0.6, 0.4), (0.5,0.5)],\n",
    "    'n_jobs':[-1],\n",
    "    'aggfunc':['mean', 'median', 'min', 'max']\n",
    "}"
   ]
  },
  {
   "cell_type": "code",
   "execution_count": 20,
   "metadata": {},
   "outputs": [],
   "source": [
    "from sktime.performance_metrics.forecasting import mean_absolute_percentage_error\n",
    "gscv = ForecastingGridSearchCV(forecaster= forecaster, cv=cv, scoring= mean_absolute_percentage_error, param_grid= param_grid)"
   ]
  },
  {
   "cell_type": "code",
   "execution_count": null,
   "metadata": {},
   "outputs": [
    {
     "data": {
      "text/plain": [
       "CustomerContinent    (2019-01, 2019-02, 2019-03, 2019-04, 2019-05, ...\n",
       "ProductCategory      (2019-01, 2019-02, 2019-03, 2019-04, 2019-05, ...\n",
       "dtype: object"
      ]
     },
     "execution_count": 17,
     "metadata": {},
     "output_type": "execute_result"
    }
   ],
   "source": [
    "horizon"
   ]
  },
  {
   "cell_type": "code",
   "execution_count": null,
   "metadata": {},
   "outputs": [],
   "source": [
    "#model failed to fit to E-F, will resort to random search with feweer params\n",
    "# tuned_model_one = gscv.fit(y=scaled_y, fh= fh)\n"
   ]
  },
  {
   "cell_type": "code",
   "execution_count": null,
   "metadata": {},
   "outputs": [],
   "source": []
  },
  {
   "cell_type": "code",
   "execution_count": null,
   "metadata": {},
   "outputs": [],
   "source": [
    "# model_eight = model_eight.fit(y = scaled_y, fh =fh)\n",
    "# predict_eight = model_eight.predict()\n",
    "# predict_eight.head()\n",
    "\n",
    "# predicted_index = predict_eight.index\n",
    "# predicted_columns = predict_eight.columns\n",
    "\n",
    "# inversed_prediction = scaler.inverse_transform(predict_eight)\n",
    "# inversed_prediction\n",
    "# predicted_data = pd.DataFrame(inversed_prediction, index = predicted_index, columns = predicted_columns)\n",
    "# predicted_data.head()\n",
    "\n",
    "# score_eight = r2_score(y_validate, predicted_data)\n",
    "# score_eight"
   ]
  }
 ],
 "metadata": {
  "kernelspec": {
   "display_name": ".venv",
   "language": "python",
   "name": "python3"
  },
  "language_info": {
   "codemirror_mode": {
    "name": "ipython",
    "version": 3
   },
   "file_extension": ".py",
   "mimetype": "text/x-python",
   "name": "python",
   "nbconvert_exporter": "python",
   "pygments_lexer": "ipython3",
   "version": "3.9.13"
  },
  "orig_nbformat": 4
 },
 "nbformat": 4,
 "nbformat_minor": 2
}
