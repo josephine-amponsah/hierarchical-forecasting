{
  "cells": [
    {
      "cell_type": "code",
      "source": [
        "!pip install sktime"
      ],
      "metadata": {
        "id": "xnrn2A5Q0HcU",
        "outputId": "1b90c42b-848d-498c-ed39-f5a9ad63b5e2",
        "colab": {
          "base_uri": "https://localhost:8080/"
        }
      },
      "execution_count": 1,
      "outputs": [
        {
          "output_type": "stream",
          "name": "stdout",
          "text": [
            "Looking in indexes: https://pypi.org/simple, https://us-python.pkg.dev/colab-wheels/public/simple/\n",
            "Collecting sktime\n",
            "  Downloading sktime-0.16.1-py3-none-any.whl (16.0 MB)\n",
            "\u001b[2K     \u001b[90m━━━━━━━━━━━━━━━━━━━━━━━━━━━━━━━━━━━━━━━━\u001b[0m \u001b[32m16.0/16.0 MB\u001b[0m \u001b[31m58.0 MB/s\u001b[0m eta \u001b[36m0:00:00\u001b[0m\n",
            "\u001b[?25hRequirement already satisfied: scikit-learn<1.3.0,>=0.24.0 in /usr/local/lib/python3.9/dist-packages (from sktime) (1.2.2)\n",
            "Requirement already satisfied: numba>=0.53 in /usr/local/lib/python3.9/dist-packages (from sktime) (0.56.4)\n",
            "Requirement already satisfied: scipy<2.0.0,>=1.2.0 in /usr/local/lib/python3.9/dist-packages (from sktime) (1.10.1)\n",
            "Requirement already satisfied: pandas<1.6.0,>=1.1.0 in /usr/local/lib/python3.9/dist-packages (from sktime) (1.4.4)\n",
            "Requirement already satisfied: numpy<1.25,>=1.21.0 in /usr/local/lib/python3.9/dist-packages (from sktime) (1.22.4)\n",
            "Collecting deprecated>=1.2.13\n",
            "  Downloading Deprecated-1.2.13-py2.py3-none-any.whl (9.6 kB)\n",
            "Requirement already satisfied: wrapt<2,>=1.10 in /usr/local/lib/python3.9/dist-packages (from deprecated>=1.2.13->sktime) (1.14.1)\n",
            "Requirement already satisfied: setuptools in /usr/local/lib/python3.9/dist-packages (from numba>=0.53->sktime) (67.6.1)\n",
            "Requirement already satisfied: llvmlite<0.40,>=0.39.0dev0 in /usr/local/lib/python3.9/dist-packages (from numba>=0.53->sktime) (0.39.1)\n",
            "Requirement already satisfied: pytz>=2020.1 in /usr/local/lib/python3.9/dist-packages (from pandas<1.6.0,>=1.1.0->sktime) (2022.7.1)\n",
            "Requirement already satisfied: python-dateutil>=2.8.1 in /usr/local/lib/python3.9/dist-packages (from pandas<1.6.0,>=1.1.0->sktime) (2.8.2)\n",
            "Requirement already satisfied: threadpoolctl>=2.0.0 in /usr/local/lib/python3.9/dist-packages (from scikit-learn<1.3.0,>=0.24.0->sktime) (3.1.0)\n",
            "Requirement already satisfied: joblib>=1.1.1 in /usr/local/lib/python3.9/dist-packages (from scikit-learn<1.3.0,>=0.24.0->sktime) (1.1.1)\n",
            "Requirement already satisfied: six>=1.5 in /usr/local/lib/python3.9/dist-packages (from python-dateutil>=2.8.1->pandas<1.6.0,>=1.1.0->sktime) (1.16.0)\n",
            "Installing collected packages: deprecated, sktime\n",
            "Successfully installed deprecated-1.2.13 sktime-0.16.1\n"
          ]
        }
      ]
    },
    {
      "cell_type": "code",
      "execution_count": 2,
      "metadata": {
        "id": "06Nj9HENz_I2"
      },
      "outputs": [],
      "source": [
        "import pandas as pd\n",
        "import numpy as np\n",
        "import matplotlib.pyplot as plt\n",
        "import seaborn as sns\n",
        "import sklearn\n",
        "import statsmodels\n",
        "#import xgboost as xgb"
      ]
    },
    {
      "cell_type": "code",
      "execution_count": 3,
      "metadata": {
        "id": "oUDp0SCyz_I4"
      },
      "outputs": [],
      "source": [
        "Y_data = pd.read_csv(r\"https://raw.githubusercontent.com/ladyjossy77/hierarchical-forecasting/master/data/forecast.csv\", index_col=0)"
      ]
    },
    {
      "cell_type": "code",
      "execution_count": 4,
      "metadata": {
        "id": "gUzFtOYvz_I5",
        "outputId": "281c8205-c45e-4810-f8e1-b0c7c29cdc25",
        "colab": {
          "base_uri": "https://localhost:8080/"
        }
      },
      "outputs": [
        {
          "output_type": "stream",
          "name": "stdout",
          "text": [
            "<class 'pandas.core.frame.DataFrame'>\n",
            "Int64Index: 9240 entries, 0 to 9239\n",
            "Data columns (total 5 columns):\n",
            " #   Column             Non-Null Count  Dtype  \n",
            "---  ------             --------------  -----  \n",
            " 0   CustomerContinent  9240 non-null   object \n",
            " 1   ProductCategory    9240 non-null   object \n",
            " 2   dateOfPurchase     9240 non-null   object \n",
            " 3   TotalQuantity      6611 non-null   float64\n",
            " 4   TotalRevenue       6611 non-null   float64\n",
            "dtypes: float64(2), object(3)\n",
            "memory usage: 433.1+ KB\n"
          ]
        }
      ],
      "source": [
        "Y_data.info()"
      ]
    },
    {
      "cell_type": "code",
      "execution_count": 5,
      "metadata": {
        "id": "8tbFQnXkz_I5"
      },
      "outputs": [],
      "source": [
        "Y_data[\"dateOfPurchase\"] = pd.to_datetime(Y_data[\"dateOfPurchase\"]).dt.to_period('M')"
      ]
    },
    {
      "cell_type": "code",
      "execution_count": 6,
      "metadata": {
        "id": "uunzXsbOz_I6",
        "outputId": "8c5a6122-af64-43c3-fc79-e0fedac2684b",
        "colab": {
          "base_uri": "https://localhost:8080/"
        }
      },
      "outputs": [
        {
          "output_type": "stream",
          "name": "stdout",
          "text": [
            "<class 'pandas.core.frame.DataFrame'>\n",
            "Int64Index: 9240 entries, 0 to 9239\n",
            "Data columns (total 5 columns):\n",
            " #   Column             Non-Null Count  Dtype    \n",
            "---  ------             --------------  -----    \n",
            " 0   CustomerContinent  9240 non-null   object   \n",
            " 1   ProductCategory    9240 non-null   object   \n",
            " 2   dateOfPurchase     9240 non-null   period[M]\n",
            " 3   TotalQuantity      6611 non-null   float64  \n",
            " 4   TotalRevenue       6611 non-null   float64  \n",
            "dtypes: float64(2), object(2), period[M](1)\n",
            "memory usage: 433.1+ KB\n"
          ]
        }
      ],
      "source": [
        "Y_data.info()"
      ]
    },
    {
      "cell_type": "code",
      "execution_count": 7,
      "metadata": {
        "id": "4wVxeOOcz_I6"
      },
      "outputs": [],
      "source": [
        "Y_data = Y_data.groupby([\"CustomerContinent\", \"ProductCategory\", \"dateOfPurchase\"]).agg(\n",
        "                                TotalQuantity = pd.NamedAgg(column = \"TotalQuantity\", aggfunc=sum),\n",
        "                                TotalRevenue = pd.NamedAgg(column = \"TotalRevenue\", aggfunc = sum)\n",
        ")"
      ]
    },
    {
      "cell_type": "code",
      "execution_count": 8,
      "metadata": {
        "id": "2eBuVzERz_I6"
      },
      "outputs": [],
      "source": [
        "y_train = Y_data[Y_data.index.get_level_values('dateOfPurchase')<\"2019-01\"]\n",
        "y_validate = Y_data[Y_data.index.get_level_values('dateOfPurchase')>=\"2019-01\"]"
      ]
    },
    {
      "cell_type": "code",
      "execution_count": 9,
      "metadata": {
        "id": "pEx__edXz_I6"
      },
      "outputs": [],
      "source": [
        "#standardizing data\n",
        "from sklearn.preprocessing import StandardScaler\n",
        "\n",
        "scaler = StandardScaler()\n",
        "y_train.values\n",
        "index = y_train.index\n",
        "columns = y_train.columns\n",
        "scaled_values = scaler.fit_transform(y_train.values)"
      ]
    },
    {
      "cell_type": "code",
      "execution_count": 10,
      "metadata": {
        "id": "mlT9jFGoz_I7",
        "outputId": "2bb26676-6f03-4afc-f978-dd23af3bf367",
        "colab": {
          "base_uri": "https://localhost:8080/"
        }
      },
      "outputs": [
        {
          "output_type": "execute_result",
          "data": {
            "text/plain": [
              "array([[-0.87405298, -0.68006979],\n",
              "       [ 1.40614653,  0.50069846],\n",
              "       [ 0.10317539,  0.47950609],\n",
              "       ...,\n",
              "       [-0.65689112, -0.33744483],\n",
              "       [ 1.62330839,  2.06909531],\n",
              "       [-0.11398647,  0.09687404]])"
            ]
          },
          "metadata": {},
          "execution_count": 10
        }
      ],
      "source": [
        "scaled_values"
      ]
    },
    {
      "cell_type": "code",
      "execution_count": 11,
      "metadata": {
        "id": "IA-HYoOrz_I7",
        "outputId": "6516b4fa-896a-489a-cad2-7cf82a503c6d",
        "colab": {
          "base_uri": "https://localhost:8080/",
          "height": 238
        }
      },
      "outputs": [
        {
          "output_type": "execute_result",
          "data": {
            "text/plain": [
              "                                                  TotalQuantity  TotalRevenue\n",
              "CustomerContinent ProductCategory dateOfPurchase                             \n",
              "Africa            Automotive      2016-01             -0.874053     -0.680070\n",
              "                                  2016-02              1.406147      0.500698\n",
              "                                  2016-03              0.103175      0.479506\n",
              "                                  2016-04              1.514727      1.294496\n",
              "                                  2016-05              0.971823      0.794730"
            ],
            "text/html": [
              "\n",
              "  <div id=\"df-4a863899-8021-49ca-97db-1db95334d868\">\n",
              "    <div class=\"colab-df-container\">\n",
              "      <div>\n",
              "<style scoped>\n",
              "    .dataframe tbody tr th:only-of-type {\n",
              "        vertical-align: middle;\n",
              "    }\n",
              "\n",
              "    .dataframe tbody tr th {\n",
              "        vertical-align: top;\n",
              "    }\n",
              "\n",
              "    .dataframe thead th {\n",
              "        text-align: right;\n",
              "    }\n",
              "</style>\n",
              "<table border=\"1\" class=\"dataframe\">\n",
              "  <thead>\n",
              "    <tr style=\"text-align: right;\">\n",
              "      <th></th>\n",
              "      <th></th>\n",
              "      <th></th>\n",
              "      <th>TotalQuantity</th>\n",
              "      <th>TotalRevenue</th>\n",
              "    </tr>\n",
              "    <tr>\n",
              "      <th>CustomerContinent</th>\n",
              "      <th>ProductCategory</th>\n",
              "      <th>dateOfPurchase</th>\n",
              "      <th></th>\n",
              "      <th></th>\n",
              "    </tr>\n",
              "  </thead>\n",
              "  <tbody>\n",
              "    <tr>\n",
              "      <th rowspan=\"5\" valign=\"top\">Africa</th>\n",
              "      <th rowspan=\"5\" valign=\"top\">Automotive</th>\n",
              "      <th>2016-01</th>\n",
              "      <td>-0.874053</td>\n",
              "      <td>-0.680070</td>\n",
              "    </tr>\n",
              "    <tr>\n",
              "      <th>2016-02</th>\n",
              "      <td>1.406147</td>\n",
              "      <td>0.500698</td>\n",
              "    </tr>\n",
              "    <tr>\n",
              "      <th>2016-03</th>\n",
              "      <td>0.103175</td>\n",
              "      <td>0.479506</td>\n",
              "    </tr>\n",
              "    <tr>\n",
              "      <th>2016-04</th>\n",
              "      <td>1.514727</td>\n",
              "      <td>1.294496</td>\n",
              "    </tr>\n",
              "    <tr>\n",
              "      <th>2016-05</th>\n",
              "      <td>0.971823</td>\n",
              "      <td>0.794730</td>\n",
              "    </tr>\n",
              "  </tbody>\n",
              "</table>\n",
              "</div>\n",
              "      <button class=\"colab-df-convert\" onclick=\"convertToInteractive('df-4a863899-8021-49ca-97db-1db95334d868')\"\n",
              "              title=\"Convert this dataframe to an interactive table.\"\n",
              "              style=\"display:none;\">\n",
              "        \n",
              "  <svg xmlns=\"http://www.w3.org/2000/svg\" height=\"24px\"viewBox=\"0 0 24 24\"\n",
              "       width=\"24px\">\n",
              "    <path d=\"M0 0h24v24H0V0z\" fill=\"none\"/>\n",
              "    <path d=\"M18.56 5.44l.94 2.06.94-2.06 2.06-.94-2.06-.94-.94-2.06-.94 2.06-2.06.94zm-11 1L8.5 8.5l.94-2.06 2.06-.94-2.06-.94L8.5 2.5l-.94 2.06-2.06.94zm10 10l.94 2.06.94-2.06 2.06-.94-2.06-.94-.94-2.06-.94 2.06-2.06.94z\"/><path d=\"M17.41 7.96l-1.37-1.37c-.4-.4-.92-.59-1.43-.59-.52 0-1.04.2-1.43.59L10.3 9.45l-7.72 7.72c-.78.78-.78 2.05 0 2.83L4 21.41c.39.39.9.59 1.41.59.51 0 1.02-.2 1.41-.59l7.78-7.78 2.81-2.81c.8-.78.8-2.07 0-2.86zM5.41 20L4 18.59l7.72-7.72 1.47 1.35L5.41 20z\"/>\n",
              "  </svg>\n",
              "      </button>\n",
              "      \n",
              "  <style>\n",
              "    .colab-df-container {\n",
              "      display:flex;\n",
              "      flex-wrap:wrap;\n",
              "      gap: 12px;\n",
              "    }\n",
              "\n",
              "    .colab-df-convert {\n",
              "      background-color: #E8F0FE;\n",
              "      border: none;\n",
              "      border-radius: 50%;\n",
              "      cursor: pointer;\n",
              "      display: none;\n",
              "      fill: #1967D2;\n",
              "      height: 32px;\n",
              "      padding: 0 0 0 0;\n",
              "      width: 32px;\n",
              "    }\n",
              "\n",
              "    .colab-df-convert:hover {\n",
              "      background-color: #E2EBFA;\n",
              "      box-shadow: 0px 1px 2px rgba(60, 64, 67, 0.3), 0px 1px 3px 1px rgba(60, 64, 67, 0.15);\n",
              "      fill: #174EA6;\n",
              "    }\n",
              "\n",
              "    [theme=dark] .colab-df-convert {\n",
              "      background-color: #3B4455;\n",
              "      fill: #D2E3FC;\n",
              "    }\n",
              "\n",
              "    [theme=dark] .colab-df-convert:hover {\n",
              "      background-color: #434B5C;\n",
              "      box-shadow: 0px 1px 3px 1px rgba(0, 0, 0, 0.15);\n",
              "      filter: drop-shadow(0px 1px 2px rgba(0, 0, 0, 0.3));\n",
              "      fill: #FFFFFF;\n",
              "    }\n",
              "  </style>\n",
              "\n",
              "      <script>\n",
              "        const buttonEl =\n",
              "          document.querySelector('#df-4a863899-8021-49ca-97db-1db95334d868 button.colab-df-convert');\n",
              "        buttonEl.style.display =\n",
              "          google.colab.kernel.accessAllowed ? 'block' : 'none';\n",
              "\n",
              "        async function convertToInteractive(key) {\n",
              "          const element = document.querySelector('#df-4a863899-8021-49ca-97db-1db95334d868');\n",
              "          const dataTable =\n",
              "            await google.colab.kernel.invokeFunction('convertToInteractive',\n",
              "                                                     [key], {});\n",
              "          if (!dataTable) return;\n",
              "\n",
              "          const docLinkHtml = 'Like what you see? Visit the ' +\n",
              "            '<a target=\"_blank\" href=https://colab.research.google.com/notebooks/data_table.ipynb>data table notebook</a>'\n",
              "            + ' to learn more about interactive tables.';\n",
              "          element.innerHTML = '';\n",
              "          dataTable['output_type'] = 'display_data';\n",
              "          await google.colab.output.renderOutput(dataTable, element);\n",
              "          const docLink = document.createElement('div');\n",
              "          docLink.innerHTML = docLinkHtml;\n",
              "          element.appendChild(docLink);\n",
              "        }\n",
              "      </script>\n",
              "    </div>\n",
              "  </div>\n",
              "  "
            ]
          },
          "metadata": {},
          "execution_count": 11
        }
      ],
      "source": [
        "scaled_y = pd.DataFrame(scaled_values, columns = columns, index = index)\n",
        "scaled_y.head()"
      ]
    },
    {
      "cell_type": "code",
      "execution_count": 12,
      "metadata": {
        "id": "8Jx6SU7cz_I7",
        "outputId": "38531c5d-d69b-4f24-e743-f677f9032c86",
        "colab": {
          "base_uri": "https://localhost:8080/"
        }
      },
      "outputs": [
        {
          "output_type": "execute_result",
          "data": {
            "text/plain": [
              "ForecastingHorizon(['2019-01', '2019-02', '2019-03', '2019-04', '2019-05', '2019-06',\n",
              "             '2019-07', '2019-08', '2019-09', '2019-10', '2019-11', '2019-12',\n",
              "             '2020-01', '2020-02', '2020-03', '2020-04', '2020-05', '2020-06',\n",
              "             '2020-07', '2020-08', '2020-09', '2020-10', '2020-11', '2020-12'],\n",
              "            dtype='period[M]', is_relative=False)"
            ]
          },
          "metadata": {},
          "execution_count": 12
        }
      ],
      "source": [
        "from sktime.forecasting.base import ForecastingHorizon\n",
        "fh = ForecastingHorizon(\n",
        "    pd.PeriodIndex(pd.date_range(\"2019-01\", periods= 24, freq=\"M\")), is_relative=False\n",
        ")\n",
        "fh"
      ]
    },
    {
      "cell_type": "code",
      "execution_count": 13,
      "metadata": {
        "id": "JtNIJLtjz_I8"
      },
      "outputs": [],
      "source": [
        "from sktime.forecasting.var import VAR\n",
        "from sktime.forecasting.varmax import VARMAX\n",
        "from sktime.forecasting.dynamic_factor import DynamicFactor\n",
        "from sktime.forecasting.model_selection._tune import ForecastingGridSearchCV\n",
        "from sktime.forecasting.compose._pipeline import Permute\n",
        "from sktime.forecasting.compose._pipeline import TransformedTargetForecaster\n",
        "from sktime.forecasting.compose._hierarchy_ensemble import HierarchyEnsembleForecaster\n",
        "from sktime.forecasting.compose._ensemble import EnsembleForecaster\n",
        "import statsmodels\n",
        "\n",
        "forecaster_set = [(\"var\", VAR()), \n",
        "                  (\"varmax\", VARMAX())]\n"
      ]
    },
    {
      "cell_type": "markdown",
      "metadata": {
        "id": "syc6E76hz_I8"
      },
      "source": [
        "To improve the performance of Ensemble Forecaster with VAR and VARMAX as base estimators, we will tune hyperparamters with GrisdSearch CV"
      ]
    },
    {
      "cell_type": "code",
      "execution_count": 14,
      "metadata": {
        "id": "Lsp26IhUz_I9"
      },
      "outputs": [],
      "source": [
        "\n",
        "\n",
        "from sktime.forecasting.model_selection import SlidingWindowSplitter\n",
        "from sktime.forecasting.model_selection import SingleWindowSplitter\n",
        "forecaster_set = [(\"var\", VAR()), \n",
        "                  (\"varmax\", VARMAX())]\n",
        "forecaster = EnsembleForecaster(forecasters= forecaster_set, weights= [4,10])\n",
        "# fh = ForecastingHorizon(\n",
        "#     pd.PeriodIndex(pd.date_range(\"2019-01\", periods= 24, freq=\"M\")), is_relative=False\n",
        "# )\n",
        "fh = pd.PeriodIndex(pd.date_range(\"2019-01\", periods= 24, freq=\"M\"))\n",
        "horizon=pd.Series({\"CustomerContinent\": fh, \"ProductCategory\": fh})\n",
        "# cv = SlidingWindowSplitter(fh=horizon, window_length= 24)\n",
        "cv = SingleWindowSplitter(fh = 24)\n"
      ]
    },
    {
      "cell_type": "code",
      "execution_count": 15,
      "metadata": {
        "id": "oUWOucCUz_I9",
        "outputId": "5f477f62-43e7-4309-d48c-0b2a8c4a9691",
        "colab": {
          "base_uri": "https://localhost:8080/"
        }
      },
      "outputs": [
        {
          "output_type": "execute_result",
          "data": {
            "text/plain": [
              "dict_keys(['aggfunc', 'forecasters', 'n_jobs', 'weights', 'var', 'varmax', 'var__dates', 'var__freq', 'var__ic', 'var__maxlags', 'var__method', 'var__missing', 'var__random_state', 'var__trend', 'var__verbose', 'varmax__callback', 'varmax__cov_kwds', 'varmax__cov_type', 'varmax__disp', 'varmax__dynamic', 'varmax__enforce_invertibility', 'varmax__enforce_stationarity', 'varmax__error_cov_type', 'varmax__flags', 'varmax__full_output', 'varmax__includes_fixed', 'varmax__information_set', 'varmax__low_memory', 'varmax__maxiter', 'varmax__measurement_error', 'varmax__method', 'varmax__optim_complex_step', 'varmax__optim_hessian', 'varmax__optim_score', 'varmax__order', 'varmax__return_params', 'varmax__signal_only', 'varmax__start_params', 'varmax__suppress_warnings', 'varmax__transformed', 'varmax__trend', 'varmax__trend_offset'])"
            ]
          },
          "metadata": {},
          "execution_count": 15
        }
      ],
      "source": [
        "EnsembleForecaster(forecaster_set).get_params().keys()"
      ]
    },
    {
      "cell_type": "code",
      "execution_count": 16,
      "metadata": {
        "id": "g9uGk7s7z_I-"
      },
      "outputs": [],
      "source": [
        "param_grid = {\n",
        "    'var__ic': ['aic', 'fpe', 'hqic', 'bic', None],\n",
        "    'var__method' :[\"ols\",\"gls\", \"gmm\",\"ml\", \"irf\",\"mvd\"],\n",
        "    'var__trend':[\"c\", \"ct\", \"ctt\", \"n\"],\n",
        "    'varmax__method':[\"newton\",\"nf\",\"bfgs\",\"lbfgs\", \"powell\",\"cg\",\"ncg\",\"basinhopping\"],\n",
        "    'varmax__trend':[\"n\", \"c\",\"t\", \"ct\"],\n",
        "    'weights': [(0.33, 0.67), (0.6, 0.4), (0.5,0.5)],\n",
        "    'n_jobs':[-1],\n",
        "    'aggfunc':['mean', 'median', 'min', 'max']\n",
        "}"
      ]
    },
    {
      "cell_type": "code",
      "execution_count": 17,
      "metadata": {
        "id": "rNPqR2Ryz_I-"
      },
      "outputs": [],
      "source": [
        "from sktime.performance_metrics.forecasting import mean_absolute_percentage_error\n",
        "gscv = ForecastingGridSearchCV(forecaster= forecaster, cv=cv, scoring= mean_absolute_percentage_error, param_grid= param_grid)"
      ]
    },
    {
      "cell_type": "code",
      "execution_count": 18,
      "metadata": {
        "id": "qWcJhInlz_I_",
        "outputId": "fdaa3d49-716b-4fd8-edff-24c21b23df5a",
        "colab": {
          "base_uri": "https://localhost:8080/"
        }
      },
      "outputs": [
        {
          "output_type": "execute_result",
          "data": {
            "text/plain": [
              "CustomerContinent    PeriodIndex(['2019-01', '2019-02', '2019-03', ...\n",
              "ProductCategory      PeriodIndex(['2019-01', '2019-02', '2019-03', ...\n",
              "dtype: object"
            ]
          },
          "metadata": {},
          "execution_count": 18
        }
      ],
      "source": [
        "horizon"
      ]
    },
    {
      "cell_type": "code",
      "execution_count": 19,
      "metadata": {
        "id": "OLVuh7Hsz_I_"
      },
      "outputs": [],
      "source": [
        "#model failed to fit to E-F, will resort to random search with feweer params\n",
        "# tuned_model_one = gscv.fit(y=scaled_y, fh= fh)\n"
      ]
    },
    {
      "cell_type": "code",
      "execution_count": 21,
      "metadata": {
        "id": "oepCiJ0yz_I_",
        "outputId": "da77ed24-cf83-461c-a575-3e1205738522",
        "colab": {
          "base_uri": "https://localhost:8080/"
        }
      },
      "outputs": [
        {
          "output_type": "execute_result",
          "data": {
            "text/plain": [
              "TotalQuantity    0\n",
              "TotalRevenue     0\n",
              "dtype: int64"
            ]
          },
          "metadata": {},
          "execution_count": 21
        }
      ],
      "source": [
        "y_train.isna().sum()"
      ]
    },
    {
      "cell_type": "code",
      "source": [
        "from sktime.forecasting.model_selection._tune import ForecastingRandomizedSearchCV"
      ],
      "metadata": {
        "id": "UmazHYSP2IaG"
      },
      "execution_count": 22,
      "outputs": []
    },
    {
      "cell_type": "code",
      "source": [
        "param_grid = {\n",
        "    'var__ic': ['aic', 'fpe', 'hqic'],\n",
        "    'var__method' :[\"ols\",\"gls\", \"gmm\"],\n",
        "    'var__trend':[\"c\", \"ct\"],\n",
        "    'varmax__method':[\"newton\",\"nf\",\"bfgs\"],\n",
        "    'varmax__trend':[\"n\", \"c\",\"t\", ],\n",
        "    'weights': [(0.33, 0.67), (0.6, 0.4), (0.5,0.5)],\n",
        "    'n_jobs':[-1],\n",
        "    'aggfunc':['mean', 'median']\n",
        "}"
      ],
      "metadata": {
        "id": "avw25IeZ5z83"
      },
      "execution_count": 23,
      "outputs": []
    },
    {
      "cell_type": "code",
      "source": [
        "rdscv = ForecastingRandomizedSearchCV(forecaster= forecaster, cv=cv, scoring= mean_absolute_percentage_error, param_distributions= param_grid)"
      ],
      "metadata": {
        "id": "eSTv5ml16DYQ"
      },
      "execution_count": 25,
      "outputs": []
    },
    {
      "cell_type": "code",
      "source": [
        "#model failed fitting\n",
        "\n",
        "# tuned_model_two = rdscv.fit(y=scaled_y, fh= fh)"
      ],
      "metadata": {
        "id": "y_crTsYj6aVL"
      },
      "execution_count": 27,
      "outputs": []
    },
    {
      "cell_type": "code",
      "source": [
        "#reducing fh\n",
        "fh  = pd.PeriodIndex(pd.date_range(\"2019-01\", periods= 6, freq=\"M\"))"
      ],
      "metadata": {
        "id": "50Hl8L467NaY"
      },
      "execution_count": 29,
      "outputs": []
    },
    {
      "cell_type": "code",
      "source": [
        "# tuned_model_three = rdscv.fit(y=scaled_y, fh= fh)\n",
        "\n",
        "#all fits failed even after using a shorter fh"
      ],
      "metadata": {
        "id": "zRvMeLTH7NW5"
      },
      "execution_count": 31,
      "outputs": []
    },
    {
      "cell_type": "markdown",
      "source": [
        "Using other base estimators to train model"
      ],
      "metadata": {
        "id": "dD3Bisb-7xrx"
      }
    },
    {
      "cell_type": "code",
      "source": [
        "from sktime.forecasting.dynamic_factor import DynamicFactor\n",
        "from sktime.forecasting.compose import TransformedTargetForecaster\n",
        "from sktime.transformations.series.impute import Imputer\n",
        "from sktime.transformations.series.detrend import Detrender"
      ],
      "metadata": {
        "id": "0I5VDIEy7NUa"
      },
      "execution_count": 33,
      "outputs": []
    },
    {
      "cell_type": "code",
      "source": [
        "TTF = TransformedTargetForecaster(steps=[\n",
        "    (\"imputer\", Imputer(method=\"mean\")),\n",
        "    (\"detrender\", Detrender()),\n",
        "    (\"forecaster\", VAR()),\n",
        "])"
      ],
      "metadata": {
        "id": "RTAfG2vq7NRl"
      },
      "execution_count": 34,
      "outputs": []
    },
    {
      "cell_type": "code",
      "source": [
        "forecasters = [(\"dynamic\", DynamicFactor()),\n",
        "               (\"transformer\", TTF)]"
      ],
      "metadata": {
        "id": "3TSyg4ow7NO0"
      },
      "execution_count": 36,
      "outputs": []
    },
    {
      "cell_type": "code",
      "source": [
        "forecaster = EnsembleForecaster(forecasters= forecasters)"
      ],
      "metadata": {
        "id": "0-UdtG147Los"
      },
      "execution_count": 37,
      "outputs": []
    },
    {
      "cell_type": "code",
      "source": [
        "tuned_model_four = forecaster.fit(y = scaled_y, fh = fh)"
      ],
      "metadata": {
        "id": "f_WskdGi_AiC"
      },
      "execution_count": 38,
      "outputs": []
    },
    {
      "cell_type": "code",
      "source": [
        "predict_tuned_four = tuned_model_four.predict()\n",
        "predict_tuned_four.head()"
      ],
      "metadata": {
        "id": "2wRf1U9K_W0G",
        "outputId": "5d78ff80-3447-47da-de4f-c2f2f71a249d",
        "colab": {
          "base_uri": "https://localhost:8080/",
          "height": 238
        }
      },
      "execution_count": 39,
      "outputs": [
        {
          "output_type": "execute_result",
          "data": {
            "text/plain": [
              "                                                  TotalQuantity  TotalRevenue\n",
              "CustomerContinent ProductCategory dateOfPurchase                             \n",
              "Africa            Automotive      2019-01              0.253502      0.350055\n",
              "                                  2019-02              0.212094      0.288692\n",
              "                                  2019-03              0.222176      0.311205\n",
              "                                  2019-04              0.219296      0.315622\n",
              "                                  2019-05              0.218654      0.323363"
            ],
            "text/html": [
              "\n",
              "  <div id=\"df-29b1a30d-bbe5-4ecf-bc2d-6a6058055838\">\n",
              "    <div class=\"colab-df-container\">\n",
              "      <div>\n",
              "<style scoped>\n",
              "    .dataframe tbody tr th:only-of-type {\n",
              "        vertical-align: middle;\n",
              "    }\n",
              "\n",
              "    .dataframe tbody tr th {\n",
              "        vertical-align: top;\n",
              "    }\n",
              "\n",
              "    .dataframe thead th {\n",
              "        text-align: right;\n",
              "    }\n",
              "</style>\n",
              "<table border=\"1\" class=\"dataframe\">\n",
              "  <thead>\n",
              "    <tr style=\"text-align: right;\">\n",
              "      <th></th>\n",
              "      <th></th>\n",
              "      <th></th>\n",
              "      <th>TotalQuantity</th>\n",
              "      <th>TotalRevenue</th>\n",
              "    </tr>\n",
              "    <tr>\n",
              "      <th>CustomerContinent</th>\n",
              "      <th>ProductCategory</th>\n",
              "      <th>dateOfPurchase</th>\n",
              "      <th></th>\n",
              "      <th></th>\n",
              "    </tr>\n",
              "  </thead>\n",
              "  <tbody>\n",
              "    <tr>\n",
              "      <th rowspan=\"5\" valign=\"top\">Africa</th>\n",
              "      <th rowspan=\"5\" valign=\"top\">Automotive</th>\n",
              "      <th>2019-01</th>\n",
              "      <td>0.253502</td>\n",
              "      <td>0.350055</td>\n",
              "    </tr>\n",
              "    <tr>\n",
              "      <th>2019-02</th>\n",
              "      <td>0.212094</td>\n",
              "      <td>0.288692</td>\n",
              "    </tr>\n",
              "    <tr>\n",
              "      <th>2019-03</th>\n",
              "      <td>0.222176</td>\n",
              "      <td>0.311205</td>\n",
              "    </tr>\n",
              "    <tr>\n",
              "      <th>2019-04</th>\n",
              "      <td>0.219296</td>\n",
              "      <td>0.315622</td>\n",
              "    </tr>\n",
              "    <tr>\n",
              "      <th>2019-05</th>\n",
              "      <td>0.218654</td>\n",
              "      <td>0.323363</td>\n",
              "    </tr>\n",
              "  </tbody>\n",
              "</table>\n",
              "</div>\n",
              "      <button class=\"colab-df-convert\" onclick=\"convertToInteractive('df-29b1a30d-bbe5-4ecf-bc2d-6a6058055838')\"\n",
              "              title=\"Convert this dataframe to an interactive table.\"\n",
              "              style=\"display:none;\">\n",
              "        \n",
              "  <svg xmlns=\"http://www.w3.org/2000/svg\" height=\"24px\"viewBox=\"0 0 24 24\"\n",
              "       width=\"24px\">\n",
              "    <path d=\"M0 0h24v24H0V0z\" fill=\"none\"/>\n",
              "    <path d=\"M18.56 5.44l.94 2.06.94-2.06 2.06-.94-2.06-.94-.94-2.06-.94 2.06-2.06.94zm-11 1L8.5 8.5l.94-2.06 2.06-.94-2.06-.94L8.5 2.5l-.94 2.06-2.06.94zm10 10l.94 2.06.94-2.06 2.06-.94-2.06-.94-.94-2.06-.94 2.06-2.06.94z\"/><path d=\"M17.41 7.96l-1.37-1.37c-.4-.4-.92-.59-1.43-.59-.52 0-1.04.2-1.43.59L10.3 9.45l-7.72 7.72c-.78.78-.78 2.05 0 2.83L4 21.41c.39.39.9.59 1.41.59.51 0 1.02-.2 1.41-.59l7.78-7.78 2.81-2.81c.8-.78.8-2.07 0-2.86zM5.41 20L4 18.59l7.72-7.72 1.47 1.35L5.41 20z\"/>\n",
              "  </svg>\n",
              "      </button>\n",
              "      \n",
              "  <style>\n",
              "    .colab-df-container {\n",
              "      display:flex;\n",
              "      flex-wrap:wrap;\n",
              "      gap: 12px;\n",
              "    }\n",
              "\n",
              "    .colab-df-convert {\n",
              "      background-color: #E8F0FE;\n",
              "      border: none;\n",
              "      border-radius: 50%;\n",
              "      cursor: pointer;\n",
              "      display: none;\n",
              "      fill: #1967D2;\n",
              "      height: 32px;\n",
              "      padding: 0 0 0 0;\n",
              "      width: 32px;\n",
              "    }\n",
              "\n",
              "    .colab-df-convert:hover {\n",
              "      background-color: #E2EBFA;\n",
              "      box-shadow: 0px 1px 2px rgba(60, 64, 67, 0.3), 0px 1px 3px 1px rgba(60, 64, 67, 0.15);\n",
              "      fill: #174EA6;\n",
              "    }\n",
              "\n",
              "    [theme=dark] .colab-df-convert {\n",
              "      background-color: #3B4455;\n",
              "      fill: #D2E3FC;\n",
              "    }\n",
              "\n",
              "    [theme=dark] .colab-df-convert:hover {\n",
              "      background-color: #434B5C;\n",
              "      box-shadow: 0px 1px 3px 1px rgba(0, 0, 0, 0.15);\n",
              "      filter: drop-shadow(0px 1px 2px rgba(0, 0, 0, 0.3));\n",
              "      fill: #FFFFFF;\n",
              "    }\n",
              "  </style>\n",
              "\n",
              "      <script>\n",
              "        const buttonEl =\n",
              "          document.querySelector('#df-29b1a30d-bbe5-4ecf-bc2d-6a6058055838 button.colab-df-convert');\n",
              "        buttonEl.style.display =\n",
              "          google.colab.kernel.accessAllowed ? 'block' : 'none';\n",
              "\n",
              "        async function convertToInteractive(key) {\n",
              "          const element = document.querySelector('#df-29b1a30d-bbe5-4ecf-bc2d-6a6058055838');\n",
              "          const dataTable =\n",
              "            await google.colab.kernel.invokeFunction('convertToInteractive',\n",
              "                                                     [key], {});\n",
              "          if (!dataTable) return;\n",
              "\n",
              "          const docLinkHtml = 'Like what you see? Visit the ' +\n",
              "            '<a target=\"_blank\" href=https://colab.research.google.com/notebooks/data_table.ipynb>data table notebook</a>'\n",
              "            + ' to learn more about interactive tables.';\n",
              "          element.innerHTML = '';\n",
              "          dataTable['output_type'] = 'display_data';\n",
              "          await google.colab.output.renderOutput(dataTable, element);\n",
              "          const docLink = document.createElement('div');\n",
              "          docLink.innerHTML = docLinkHtml;\n",
              "          element.appendChild(docLink);\n",
              "        }\n",
              "      </script>\n",
              "    </div>\n",
              "  </div>\n",
              "  "
            ]
          },
          "metadata": {},
          "execution_count": 39
        }
      ]
    },
    {
      "cell_type": "code",
      "execution_count": 40,
      "metadata": {
        "id": "sdkT1wzcz_JA",
        "outputId": "de8b1ee5-4de2-4baf-e5ae-2102264d89f1",
        "colab": {
          "base_uri": "https://localhost:8080/",
          "height": 238
        }
      },
      "outputs": [
        {
          "output_type": "execute_result",
          "data": {
            "text/plain": [
              "                                                  TotalQuantity  TotalRevenue\n",
              "CustomerContinent ProductCategory dateOfPurchase                             \n",
              "Africa            Automotive      2019-01             11.384469   6000.005516\n",
              "                                  2019-02             11.003111   5699.854354\n",
              "                                  2019-03             11.095959   5809.973193\n",
              "                                  2019-04             11.069435   5831.581188\n",
              "                                  2019-05             11.063525   5869.446501"
            ],
            "text/html": [
              "\n",
              "  <div id=\"df-f33e9ed5-e457-43c8-b2bf-1b1f63db6532\">\n",
              "    <div class=\"colab-df-container\">\n",
              "      <div>\n",
              "<style scoped>\n",
              "    .dataframe tbody tr th:only-of-type {\n",
              "        vertical-align: middle;\n",
              "    }\n",
              "\n",
              "    .dataframe tbody tr th {\n",
              "        vertical-align: top;\n",
              "    }\n",
              "\n",
              "    .dataframe thead th {\n",
              "        text-align: right;\n",
              "    }\n",
              "</style>\n",
              "<table border=\"1\" class=\"dataframe\">\n",
              "  <thead>\n",
              "    <tr style=\"text-align: right;\">\n",
              "      <th></th>\n",
              "      <th></th>\n",
              "      <th></th>\n",
              "      <th>TotalQuantity</th>\n",
              "      <th>TotalRevenue</th>\n",
              "    </tr>\n",
              "    <tr>\n",
              "      <th>CustomerContinent</th>\n",
              "      <th>ProductCategory</th>\n",
              "      <th>dateOfPurchase</th>\n",
              "      <th></th>\n",
              "      <th></th>\n",
              "    </tr>\n",
              "  </thead>\n",
              "  <tbody>\n",
              "    <tr>\n",
              "      <th rowspan=\"5\" valign=\"top\">Africa</th>\n",
              "      <th rowspan=\"5\" valign=\"top\">Automotive</th>\n",
              "      <th>2019-01</th>\n",
              "      <td>11.384469</td>\n",
              "      <td>6000.005516</td>\n",
              "    </tr>\n",
              "    <tr>\n",
              "      <th>2019-02</th>\n",
              "      <td>11.003111</td>\n",
              "      <td>5699.854354</td>\n",
              "    </tr>\n",
              "    <tr>\n",
              "      <th>2019-03</th>\n",
              "      <td>11.095959</td>\n",
              "      <td>5809.973193</td>\n",
              "    </tr>\n",
              "    <tr>\n",
              "      <th>2019-04</th>\n",
              "      <td>11.069435</td>\n",
              "      <td>5831.581188</td>\n",
              "    </tr>\n",
              "    <tr>\n",
              "      <th>2019-05</th>\n",
              "      <td>11.063525</td>\n",
              "      <td>5869.446501</td>\n",
              "    </tr>\n",
              "  </tbody>\n",
              "</table>\n",
              "</div>\n",
              "      <button class=\"colab-df-convert\" onclick=\"convertToInteractive('df-f33e9ed5-e457-43c8-b2bf-1b1f63db6532')\"\n",
              "              title=\"Convert this dataframe to an interactive table.\"\n",
              "              style=\"display:none;\">\n",
              "        \n",
              "  <svg xmlns=\"http://www.w3.org/2000/svg\" height=\"24px\"viewBox=\"0 0 24 24\"\n",
              "       width=\"24px\">\n",
              "    <path d=\"M0 0h24v24H0V0z\" fill=\"none\"/>\n",
              "    <path d=\"M18.56 5.44l.94 2.06.94-2.06 2.06-.94-2.06-.94-.94-2.06-.94 2.06-2.06.94zm-11 1L8.5 8.5l.94-2.06 2.06-.94-2.06-.94L8.5 2.5l-.94 2.06-2.06.94zm10 10l.94 2.06.94-2.06 2.06-.94-2.06-.94-.94-2.06-.94 2.06-2.06.94z\"/><path d=\"M17.41 7.96l-1.37-1.37c-.4-.4-.92-.59-1.43-.59-.52 0-1.04.2-1.43.59L10.3 9.45l-7.72 7.72c-.78.78-.78 2.05 0 2.83L4 21.41c.39.39.9.59 1.41.59.51 0 1.02-.2 1.41-.59l7.78-7.78 2.81-2.81c.8-.78.8-2.07 0-2.86zM5.41 20L4 18.59l7.72-7.72 1.47 1.35L5.41 20z\"/>\n",
              "  </svg>\n",
              "      </button>\n",
              "      \n",
              "  <style>\n",
              "    .colab-df-container {\n",
              "      display:flex;\n",
              "      flex-wrap:wrap;\n",
              "      gap: 12px;\n",
              "    }\n",
              "\n",
              "    .colab-df-convert {\n",
              "      background-color: #E8F0FE;\n",
              "      border: none;\n",
              "      border-radius: 50%;\n",
              "      cursor: pointer;\n",
              "      display: none;\n",
              "      fill: #1967D2;\n",
              "      height: 32px;\n",
              "      padding: 0 0 0 0;\n",
              "      width: 32px;\n",
              "    }\n",
              "\n",
              "    .colab-df-convert:hover {\n",
              "      background-color: #E2EBFA;\n",
              "      box-shadow: 0px 1px 2px rgba(60, 64, 67, 0.3), 0px 1px 3px 1px rgba(60, 64, 67, 0.15);\n",
              "      fill: #174EA6;\n",
              "    }\n",
              "\n",
              "    [theme=dark] .colab-df-convert {\n",
              "      background-color: #3B4455;\n",
              "      fill: #D2E3FC;\n",
              "    }\n",
              "\n",
              "    [theme=dark] .colab-df-convert:hover {\n",
              "      background-color: #434B5C;\n",
              "      box-shadow: 0px 1px 3px 1px rgba(0, 0, 0, 0.15);\n",
              "      filter: drop-shadow(0px 1px 2px rgba(0, 0, 0, 0.3));\n",
              "      fill: #FFFFFF;\n",
              "    }\n",
              "  </style>\n",
              "\n",
              "      <script>\n",
              "        const buttonEl =\n",
              "          document.querySelector('#df-f33e9ed5-e457-43c8-b2bf-1b1f63db6532 button.colab-df-convert');\n",
              "        buttonEl.style.display =\n",
              "          google.colab.kernel.accessAllowed ? 'block' : 'none';\n",
              "\n",
              "        async function convertToInteractive(key) {\n",
              "          const element = document.querySelector('#df-f33e9ed5-e457-43c8-b2bf-1b1f63db6532');\n",
              "          const dataTable =\n",
              "            await google.colab.kernel.invokeFunction('convertToInteractive',\n",
              "                                                     [key], {});\n",
              "          if (!dataTable) return;\n",
              "\n",
              "          const docLinkHtml = 'Like what you see? Visit the ' +\n",
              "            '<a target=\"_blank\" href=https://colab.research.google.com/notebooks/data_table.ipynb>data table notebook</a>'\n",
              "            + ' to learn more about interactive tables.';\n",
              "          element.innerHTML = '';\n",
              "          dataTable['output_type'] = 'display_data';\n",
              "          await google.colab.output.renderOutput(dataTable, element);\n",
              "          const docLink = document.createElement('div');\n",
              "          docLink.innerHTML = docLinkHtml;\n",
              "          element.appendChild(docLink);\n",
              "        }\n",
              "      </script>\n",
              "    </div>\n",
              "  </div>\n",
              "  "
            ]
          },
          "metadata": {},
          "execution_count": 40
        }
      ],
      "source": [
        "predicted_index = predict_tuned_four.index\n",
        "predicted_columns = predict_tuned_four.columns\n",
        "\n",
        "inversed_prediction = scaler.inverse_transform(predict_tuned_four)\n",
        "inversed_prediction\n",
        "predicted_data = pd.DataFrame(inversed_prediction, index = predicted_index, columns = predicted_columns)\n",
        "predicted_data.head()\n",
        "\n"
      ]
    },
    {
      "cell_type": "code",
      "source": [
        "y_test = y_validate[y_validate.index.get_level_values('dateOfPurchase')<\"2019-07\"]"
      ],
      "metadata": {
        "id": "7Bj-VIpb_z36"
      },
      "execution_count": 43,
      "outputs": []
    },
    {
      "cell_type": "code",
      "source": [
        "y_test.tail()"
      ],
      "metadata": {
        "id": "siVQOR_nAdom",
        "outputId": "3430d0c9-09cd-49de-c751-2cc07ea69903",
        "colab": {
          "base_uri": "https://localhost:8080/",
          "height": 238
        }
      },
      "execution_count": 44,
      "outputs": [
        {
          "output_type": "execute_result",
          "data": {
            "text/plain": [
              "                                                  TotalQuantity  TotalRevenue\n",
              "CustomerContinent ProductCategory dateOfPurchase                             \n",
              "South America     Toys            2019-02                  24.0      14165.73\n",
              "                                  2019-03                   5.0       1651.30\n",
              "                                  2019-04                   5.0       1205.75\n",
              "                                  2019-05                   0.0          0.00\n",
              "                                  2019-06                   7.0       6278.58"
            ],
            "text/html": [
              "\n",
              "  <div id=\"df-2c40ba83-34c5-4b82-af49-70f55df99025\">\n",
              "    <div class=\"colab-df-container\">\n",
              "      <div>\n",
              "<style scoped>\n",
              "    .dataframe tbody tr th:only-of-type {\n",
              "        vertical-align: middle;\n",
              "    }\n",
              "\n",
              "    .dataframe tbody tr th {\n",
              "        vertical-align: top;\n",
              "    }\n",
              "\n",
              "    .dataframe thead th {\n",
              "        text-align: right;\n",
              "    }\n",
              "</style>\n",
              "<table border=\"1\" class=\"dataframe\">\n",
              "  <thead>\n",
              "    <tr style=\"text-align: right;\">\n",
              "      <th></th>\n",
              "      <th></th>\n",
              "      <th></th>\n",
              "      <th>TotalQuantity</th>\n",
              "      <th>TotalRevenue</th>\n",
              "    </tr>\n",
              "    <tr>\n",
              "      <th>CustomerContinent</th>\n",
              "      <th>ProductCategory</th>\n",
              "      <th>dateOfPurchase</th>\n",
              "      <th></th>\n",
              "      <th></th>\n",
              "    </tr>\n",
              "  </thead>\n",
              "  <tbody>\n",
              "    <tr>\n",
              "      <th rowspan=\"5\" valign=\"top\">South America</th>\n",
              "      <th rowspan=\"5\" valign=\"top\">Toys</th>\n",
              "      <th>2019-02</th>\n",
              "      <td>24.0</td>\n",
              "      <td>14165.73</td>\n",
              "    </tr>\n",
              "    <tr>\n",
              "      <th>2019-03</th>\n",
              "      <td>5.0</td>\n",
              "      <td>1651.30</td>\n",
              "    </tr>\n",
              "    <tr>\n",
              "      <th>2019-04</th>\n",
              "      <td>5.0</td>\n",
              "      <td>1205.75</td>\n",
              "    </tr>\n",
              "    <tr>\n",
              "      <th>2019-05</th>\n",
              "      <td>0.0</td>\n",
              "      <td>0.00</td>\n",
              "    </tr>\n",
              "    <tr>\n",
              "      <th>2019-06</th>\n",
              "      <td>7.0</td>\n",
              "      <td>6278.58</td>\n",
              "    </tr>\n",
              "  </tbody>\n",
              "</table>\n",
              "</div>\n",
              "      <button class=\"colab-df-convert\" onclick=\"convertToInteractive('df-2c40ba83-34c5-4b82-af49-70f55df99025')\"\n",
              "              title=\"Convert this dataframe to an interactive table.\"\n",
              "              style=\"display:none;\">\n",
              "        \n",
              "  <svg xmlns=\"http://www.w3.org/2000/svg\" height=\"24px\"viewBox=\"0 0 24 24\"\n",
              "       width=\"24px\">\n",
              "    <path d=\"M0 0h24v24H0V0z\" fill=\"none\"/>\n",
              "    <path d=\"M18.56 5.44l.94 2.06.94-2.06 2.06-.94-2.06-.94-.94-2.06-.94 2.06-2.06.94zm-11 1L8.5 8.5l.94-2.06 2.06-.94-2.06-.94L8.5 2.5l-.94 2.06-2.06.94zm10 10l.94 2.06.94-2.06 2.06-.94-2.06-.94-.94-2.06-.94 2.06-2.06.94z\"/><path d=\"M17.41 7.96l-1.37-1.37c-.4-.4-.92-.59-1.43-.59-.52 0-1.04.2-1.43.59L10.3 9.45l-7.72 7.72c-.78.78-.78 2.05 0 2.83L4 21.41c.39.39.9.59 1.41.59.51 0 1.02-.2 1.41-.59l7.78-7.78 2.81-2.81c.8-.78.8-2.07 0-2.86zM5.41 20L4 18.59l7.72-7.72 1.47 1.35L5.41 20z\"/>\n",
              "  </svg>\n",
              "      </button>\n",
              "      \n",
              "  <style>\n",
              "    .colab-df-container {\n",
              "      display:flex;\n",
              "      flex-wrap:wrap;\n",
              "      gap: 12px;\n",
              "    }\n",
              "\n",
              "    .colab-df-convert {\n",
              "      background-color: #E8F0FE;\n",
              "      border: none;\n",
              "      border-radius: 50%;\n",
              "      cursor: pointer;\n",
              "      display: none;\n",
              "      fill: #1967D2;\n",
              "      height: 32px;\n",
              "      padding: 0 0 0 0;\n",
              "      width: 32px;\n",
              "    }\n",
              "\n",
              "    .colab-df-convert:hover {\n",
              "      background-color: #E2EBFA;\n",
              "      box-shadow: 0px 1px 2px rgba(60, 64, 67, 0.3), 0px 1px 3px 1px rgba(60, 64, 67, 0.15);\n",
              "      fill: #174EA6;\n",
              "    }\n",
              "\n",
              "    [theme=dark] .colab-df-convert {\n",
              "      background-color: #3B4455;\n",
              "      fill: #D2E3FC;\n",
              "    }\n",
              "\n",
              "    [theme=dark] .colab-df-convert:hover {\n",
              "      background-color: #434B5C;\n",
              "      box-shadow: 0px 1px 3px 1px rgba(0, 0, 0, 0.15);\n",
              "      filter: drop-shadow(0px 1px 2px rgba(0, 0, 0, 0.3));\n",
              "      fill: #FFFFFF;\n",
              "    }\n",
              "  </style>\n",
              "\n",
              "      <script>\n",
              "        const buttonEl =\n",
              "          document.querySelector('#df-2c40ba83-34c5-4b82-af49-70f55df99025 button.colab-df-convert');\n",
              "        buttonEl.style.display =\n",
              "          google.colab.kernel.accessAllowed ? 'block' : 'none';\n",
              "\n",
              "        async function convertToInteractive(key) {\n",
              "          const element = document.querySelector('#df-2c40ba83-34c5-4b82-af49-70f55df99025');\n",
              "          const dataTable =\n",
              "            await google.colab.kernel.invokeFunction('convertToInteractive',\n",
              "                                                     [key], {});\n",
              "          if (!dataTable) return;\n",
              "\n",
              "          const docLinkHtml = 'Like what you see? Visit the ' +\n",
              "            '<a target=\"_blank\" href=https://colab.research.google.com/notebooks/data_table.ipynb>data table notebook</a>'\n",
              "            + ' to learn more about interactive tables.';\n",
              "          element.innerHTML = '';\n",
              "          dataTable['output_type'] = 'display_data';\n",
              "          await google.colab.output.renderOutput(dataTable, element);\n",
              "          const docLink = document.createElement('div');\n",
              "          docLink.innerHTML = docLinkHtml;\n",
              "          element.appendChild(docLink);\n",
              "        }\n",
              "      </script>\n",
              "    </div>\n",
              "  </div>\n",
              "  "
            ]
          },
          "metadata": {},
          "execution_count": 44
        }
      ]
    },
    {
      "cell_type": "code",
      "source": [
        "predicted_data.tail()"
      ],
      "metadata": {
        "id": "Uu0vIed_Ah4T",
        "outputId": "82da2f1c-7bb6-42ca-f623-465f317c06b1",
        "colab": {
          "base_uri": "https://localhost:8080/",
          "height": 238
        }
      },
      "execution_count": 45,
      "outputs": [
        {
          "output_type": "execute_result",
          "data": {
            "text/plain": [
              "                                                  TotalQuantity  TotalRevenue\n",
              "CustomerContinent ProductCategory dateOfPurchase                             \n",
              "South America     Toys            2019-02              6.949002   3607.987326\n",
              "                                  2019-03              7.001069   3645.563807\n",
              "                                  2019-04              7.027273   3670.478193\n",
              "                                  2019-05              7.046126   3692.006322\n",
              "                                  2019-06              7.062783   3712.541021"
            ],
            "text/html": [
              "\n",
              "  <div id=\"df-0824221b-b3fc-46e6-af50-872a9de0ab46\">\n",
              "    <div class=\"colab-df-container\">\n",
              "      <div>\n",
              "<style scoped>\n",
              "    .dataframe tbody tr th:only-of-type {\n",
              "        vertical-align: middle;\n",
              "    }\n",
              "\n",
              "    .dataframe tbody tr th {\n",
              "        vertical-align: top;\n",
              "    }\n",
              "\n",
              "    .dataframe thead th {\n",
              "        text-align: right;\n",
              "    }\n",
              "</style>\n",
              "<table border=\"1\" class=\"dataframe\">\n",
              "  <thead>\n",
              "    <tr style=\"text-align: right;\">\n",
              "      <th></th>\n",
              "      <th></th>\n",
              "      <th></th>\n",
              "      <th>TotalQuantity</th>\n",
              "      <th>TotalRevenue</th>\n",
              "    </tr>\n",
              "    <tr>\n",
              "      <th>CustomerContinent</th>\n",
              "      <th>ProductCategory</th>\n",
              "      <th>dateOfPurchase</th>\n",
              "      <th></th>\n",
              "      <th></th>\n",
              "    </tr>\n",
              "  </thead>\n",
              "  <tbody>\n",
              "    <tr>\n",
              "      <th rowspan=\"5\" valign=\"top\">South America</th>\n",
              "      <th rowspan=\"5\" valign=\"top\">Toys</th>\n",
              "      <th>2019-02</th>\n",
              "      <td>6.949002</td>\n",
              "      <td>3607.987326</td>\n",
              "    </tr>\n",
              "    <tr>\n",
              "      <th>2019-03</th>\n",
              "      <td>7.001069</td>\n",
              "      <td>3645.563807</td>\n",
              "    </tr>\n",
              "    <tr>\n",
              "      <th>2019-04</th>\n",
              "      <td>7.027273</td>\n",
              "      <td>3670.478193</td>\n",
              "    </tr>\n",
              "    <tr>\n",
              "      <th>2019-05</th>\n",
              "      <td>7.046126</td>\n",
              "      <td>3692.006322</td>\n",
              "    </tr>\n",
              "    <tr>\n",
              "      <th>2019-06</th>\n",
              "      <td>7.062783</td>\n",
              "      <td>3712.541021</td>\n",
              "    </tr>\n",
              "  </tbody>\n",
              "</table>\n",
              "</div>\n",
              "      <button class=\"colab-df-convert\" onclick=\"convertToInteractive('df-0824221b-b3fc-46e6-af50-872a9de0ab46')\"\n",
              "              title=\"Convert this dataframe to an interactive table.\"\n",
              "              style=\"display:none;\">\n",
              "        \n",
              "  <svg xmlns=\"http://www.w3.org/2000/svg\" height=\"24px\"viewBox=\"0 0 24 24\"\n",
              "       width=\"24px\">\n",
              "    <path d=\"M0 0h24v24H0V0z\" fill=\"none\"/>\n",
              "    <path d=\"M18.56 5.44l.94 2.06.94-2.06 2.06-.94-2.06-.94-.94-2.06-.94 2.06-2.06.94zm-11 1L8.5 8.5l.94-2.06 2.06-.94-2.06-.94L8.5 2.5l-.94 2.06-2.06.94zm10 10l.94 2.06.94-2.06 2.06-.94-2.06-.94-.94-2.06-.94 2.06-2.06.94z\"/><path d=\"M17.41 7.96l-1.37-1.37c-.4-.4-.92-.59-1.43-.59-.52 0-1.04.2-1.43.59L10.3 9.45l-7.72 7.72c-.78.78-.78 2.05 0 2.83L4 21.41c.39.39.9.59 1.41.59.51 0 1.02-.2 1.41-.59l7.78-7.78 2.81-2.81c.8-.78.8-2.07 0-2.86zM5.41 20L4 18.59l7.72-7.72 1.47 1.35L5.41 20z\"/>\n",
              "  </svg>\n",
              "      </button>\n",
              "      \n",
              "  <style>\n",
              "    .colab-df-container {\n",
              "      display:flex;\n",
              "      flex-wrap:wrap;\n",
              "      gap: 12px;\n",
              "    }\n",
              "\n",
              "    .colab-df-convert {\n",
              "      background-color: #E8F0FE;\n",
              "      border: none;\n",
              "      border-radius: 50%;\n",
              "      cursor: pointer;\n",
              "      display: none;\n",
              "      fill: #1967D2;\n",
              "      height: 32px;\n",
              "      padding: 0 0 0 0;\n",
              "      width: 32px;\n",
              "    }\n",
              "\n",
              "    .colab-df-convert:hover {\n",
              "      background-color: #E2EBFA;\n",
              "      box-shadow: 0px 1px 2px rgba(60, 64, 67, 0.3), 0px 1px 3px 1px rgba(60, 64, 67, 0.15);\n",
              "      fill: #174EA6;\n",
              "    }\n",
              "\n",
              "    [theme=dark] .colab-df-convert {\n",
              "      background-color: #3B4455;\n",
              "      fill: #D2E3FC;\n",
              "    }\n",
              "\n",
              "    [theme=dark] .colab-df-convert:hover {\n",
              "      background-color: #434B5C;\n",
              "      box-shadow: 0px 1px 3px 1px rgba(0, 0, 0, 0.15);\n",
              "      filter: drop-shadow(0px 1px 2px rgba(0, 0, 0, 0.3));\n",
              "      fill: #FFFFFF;\n",
              "    }\n",
              "  </style>\n",
              "\n",
              "      <script>\n",
              "        const buttonEl =\n",
              "          document.querySelector('#df-0824221b-b3fc-46e6-af50-872a9de0ab46 button.colab-df-convert');\n",
              "        buttonEl.style.display =\n",
              "          google.colab.kernel.accessAllowed ? 'block' : 'none';\n",
              "\n",
              "        async function convertToInteractive(key) {\n",
              "          const element = document.querySelector('#df-0824221b-b3fc-46e6-af50-872a9de0ab46');\n",
              "          const dataTable =\n",
              "            await google.colab.kernel.invokeFunction('convertToInteractive',\n",
              "                                                     [key], {});\n",
              "          if (!dataTable) return;\n",
              "\n",
              "          const docLinkHtml = 'Like what you see? Visit the ' +\n",
              "            '<a target=\"_blank\" href=https://colab.research.google.com/notebooks/data_table.ipynb>data table notebook</a>'\n",
              "            + ' to learn more about interactive tables.';\n",
              "          element.innerHTML = '';\n",
              "          dataTable['output_type'] = 'display_data';\n",
              "          await google.colab.output.renderOutput(dataTable, element);\n",
              "          const docLink = document.createElement('div');\n",
              "          docLink.innerHTML = docLinkHtml;\n",
              "          element.appendChild(docLink);\n",
              "        }\n",
              "      </script>\n",
              "    </div>\n",
              "  </div>\n",
              "  "
            ]
          },
          "metadata": {},
          "execution_count": 45
        }
      ]
    },
    {
      "cell_type": "code",
      "source": [
        "from sklearn.metrics import r2_score"
      ],
      "metadata": {
        "id": "HuWErexFAuAT"
      },
      "execution_count": 47,
      "outputs": []
    },
    {
      "cell_type": "code",
      "source": [
        "score_tuned_four = r2_score(y_test, predicted_data)\n",
        "score_tuned_four"
      ],
      "metadata": {
        "id": "jQi2EOS7_qZZ",
        "outputId": "4141aef4-9401-4bc2-de37-95f40a87aaa8",
        "colab": {
          "base_uri": "https://localhost:8080/"
        }
      },
      "execution_count": 48,
      "outputs": [
        {
          "output_type": "execute_result",
          "data": {
            "text/plain": [
              "0.1848163974433557"
            ]
          },
          "metadata": {},
          "execution_count": 48
        }
      ]
    },
    {
      "cell_type": "markdown",
      "source": [
        "Generate exogenous data to improve model performance"
      ],
      "metadata": {
        "id": "_rfRfUASBj6V"
      }
    },
    {
      "cell_type": "code",
      "source": [],
      "metadata": {
        "id": "Ipukfec5As6-"
      },
      "execution_count": null,
      "outputs": []
    }
  ],
  "metadata": {
    "kernelspec": {
      "display_name": ".venv",
      "language": "python",
      "name": "python3"
    },
    "language_info": {
      "codemirror_mode": {
        "name": "ipython",
        "version": 3
      },
      "file_extension": ".py",
      "mimetype": "text/x-python",
      "name": "python",
      "nbconvert_exporter": "python",
      "pygments_lexer": "ipython3",
      "version": "3.9.13"
    },
    "orig_nbformat": 4,
    "colab": {
      "provenance": []
    }
  },
  "nbformat": 4,
  "nbformat_minor": 0
}