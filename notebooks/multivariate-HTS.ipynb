{
 "cells": [
  {
   "cell_type": "code",
   "execution_count": 1,
   "metadata": {},
   "outputs": [],
   "source": [
    "import pandas as pd \n",
    "import numpy as np \n",
    "import matplotlib.pyplot as plt  \n",
    "import seaborn as sns"
   ]
  },
  {
   "cell_type": "code",
   "execution_count": 2,
   "metadata": {},
   "outputs": [],
   "source": [
    "url = \"https://raw.githubusercontent.com/ladyjossy77/ecommerce-data-analysis/master/data/clean-data.csv\"\n",
    "data = pd.read_csv(url, index_col = 0)\n"
   ]
  },
  {
   "cell_type": "code",
   "execution_count": 3,
   "metadata": {},
   "outputs": [
    {
     "name": "stdout",
     "output_type": "stream",
     "text": [
      "<class 'pandas.core.frame.DataFrame'>\n",
      "Int64Index: 15300 entries, 0 to 15299\n",
      "Data columns (total 18 columns):\n",
      " #   Column               Non-Null Count  Dtype  \n",
      "---  ------               --------------  -----  \n",
      " 0   CustomerGender       15300 non-null  object \n",
      " 1   ProductName          15300 non-null  object \n",
      " 2   ProductPrice         15300 non-null  float64\n",
      " 3   CostOfGood           15300 non-null  float64\n",
      " 4   ProductCategory      15300 non-null  object \n",
      " 5   CustomerCountry      15300 non-null  object \n",
      " 6   CustomerContinent    15300 non-null  object \n",
      " 7   OrderTime            15300 non-null  object \n",
      " 8   OrderDay             15300 non-null  int64  \n",
      " 9   OrderMonth           15300 non-null  object \n",
      " 10  QuantitySold         15300 non-null  int64  \n",
      " 11  discountPerQuantity  15300 non-null  float64\n",
      " 12  salePrice            15300 non-null  float64\n",
      " 13  OrderYear            15300 non-null  int64  \n",
      " 14  ExpectedRevenue      15300 non-null  float64\n",
      " 15  PricePerQuantity     15300 non-null  float64\n",
      " 16  DiscountPercentage   15300 non-null  float64\n",
      " 17  dateOfPurchase       15300 non-null  object \n",
      "dtypes: float64(7), int64(3), object(8)\n",
      "memory usage: 2.2+ MB\n"
     ]
    }
   ],
   "source": [
    "data.info()"
   ]
  },
  {
   "cell_type": "code",
   "execution_count": 4,
   "metadata": {},
   "outputs": [
    {
     "data": {
      "text/plain": [
       "array([2017, 2020, 2019, 2018, 2016], dtype=int64)"
      ]
     },
     "execution_count": 4,
     "metadata": {},
     "output_type": "execute_result"
    }
   ],
   "source": [
    "data[\"OrderYear\"].unique()"
   ]
  },
  {
   "cell_type": "code",
   "execution_count": 5,
   "metadata": {},
   "outputs": [
    {
     "data": {
      "text/html": [
       "<div>\n",
       "<style scoped>\n",
       "    .dataframe tbody tr th:only-of-type {\n",
       "        vertical-align: middle;\n",
       "    }\n",
       "\n",
       "    .dataframe tbody tr th {\n",
       "        vertical-align: top;\n",
       "    }\n",
       "\n",
       "    .dataframe thead th {\n",
       "        text-align: right;\n",
       "    }\n",
       "</style>\n",
       "<table border=\"1\" class=\"dataframe\">\n",
       "  <thead>\n",
       "    <tr style=\"text-align: right;\">\n",
       "      <th></th>\n",
       "      <th>CustomerGender</th>\n",
       "      <th>ProductName</th>\n",
       "      <th>ProductPrice</th>\n",
       "      <th>CostOfGood</th>\n",
       "      <th>ProductCategory</th>\n",
       "      <th>CustomerCountry</th>\n",
       "      <th>CustomerContinent</th>\n",
       "      <th>OrderTime</th>\n",
       "      <th>OrderDay</th>\n",
       "      <th>OrderMonth</th>\n",
       "      <th>QuantitySold</th>\n",
       "      <th>discountPerQuantity</th>\n",
       "      <th>salePrice</th>\n",
       "      <th>OrderYear</th>\n",
       "      <th>ExpectedRevenue</th>\n",
       "      <th>PricePerQuantity</th>\n",
       "      <th>DiscountPercentage</th>\n",
       "      <th>dateOfPurchase</th>\n",
       "    </tr>\n",
       "  </thead>\n",
       "  <tbody>\n",
       "    <tr>\n",
       "      <th>0</th>\n",
       "      <td>Female</td>\n",
       "      <td>Hat</td>\n",
       "      <td>713.0</td>\n",
       "      <td>249.55</td>\n",
       "      <td>Movies</td>\n",
       "      <td>Seychelles</td>\n",
       "      <td>Africa</td>\n",
       "      <td>13:43:00</td>\n",
       "      <td>1</td>\n",
       "      <td>February</td>\n",
       "      <td>3</td>\n",
       "      <td>0.09</td>\n",
       "      <td>1946.49</td>\n",
       "      <td>2017</td>\n",
       "      <td>463.45</td>\n",
       "      <td>648.83</td>\n",
       "      <td>0.01</td>\n",
       "      <td>1 February 2017</td>\n",
       "    </tr>\n",
       "    <tr>\n",
       "      <th>1</th>\n",
       "      <td>Female</td>\n",
       "      <td>Cheese</td>\n",
       "      <td>60.0</td>\n",
       "      <td>47.40</td>\n",
       "      <td>Health</td>\n",
       "      <td>Qatar</td>\n",
       "      <td>Asia</td>\n",
       "      <td>12:25:00</td>\n",
       "      <td>11</td>\n",
       "      <td>February</td>\n",
       "      <td>5</td>\n",
       "      <td>0.02</td>\n",
       "      <td>294.00</td>\n",
       "      <td>2020</td>\n",
       "      <td>12.60</td>\n",
       "      <td>58.80</td>\n",
       "      <td>0.03</td>\n",
       "      <td>11 February 2020</td>\n",
       "    </tr>\n",
       "    <tr>\n",
       "      <th>2</th>\n",
       "      <td>Male</td>\n",
       "      <td>Chips</td>\n",
       "      <td>310.0</td>\n",
       "      <td>145.70</td>\n",
       "      <td>Sports</td>\n",
       "      <td>Cameroon</td>\n",
       "      <td>Africa</td>\n",
       "      <td>20:14:00</td>\n",
       "      <td>25</td>\n",
       "      <td>September</td>\n",
       "      <td>2</td>\n",
       "      <td>0.03</td>\n",
       "      <td>601.40</td>\n",
       "      <td>2020</td>\n",
       "      <td>164.30</td>\n",
       "      <td>300.70</td>\n",
       "      <td>0.01</td>\n",
       "      <td>25 September 2020</td>\n",
       "    </tr>\n",
       "    <tr>\n",
       "      <th>3</th>\n",
       "      <td>Female</td>\n",
       "      <td>Chair</td>\n",
       "      <td>468.0</td>\n",
       "      <td>149.76</td>\n",
       "      <td>Beauty</td>\n",
       "      <td>Guadeloupe</td>\n",
       "      <td>North America</td>\n",
       "      <td>13:13:00</td>\n",
       "      <td>30</td>\n",
       "      <td>June</td>\n",
       "      <td>1</td>\n",
       "      <td>0.10</td>\n",
       "      <td>421.20</td>\n",
       "      <td>2020</td>\n",
       "      <td>318.24</td>\n",
       "      <td>421.20</td>\n",
       "      <td>0.02</td>\n",
       "      <td>30 June 2020</td>\n",
       "    </tr>\n",
       "    <tr>\n",
       "      <th>4</th>\n",
       "      <td>Male</td>\n",
       "      <td>Chicken</td>\n",
       "      <td>360.0</td>\n",
       "      <td>140.40</td>\n",
       "      <td>Health</td>\n",
       "      <td>Swaziland</td>\n",
       "      <td>Africa</td>\n",
       "      <td>22:50:00</td>\n",
       "      <td>28</td>\n",
       "      <td>September</td>\n",
       "      <td>6</td>\n",
       "      <td>0.08</td>\n",
       "      <td>1987.20</td>\n",
       "      <td>2020</td>\n",
       "      <td>219.60</td>\n",
       "      <td>331.20</td>\n",
       "      <td>0.02</td>\n",
       "      <td>28 September 2020</td>\n",
       "    </tr>\n",
       "  </tbody>\n",
       "</table>\n",
       "</div>"
      ],
      "text/plain": [
       "  CustomerGender ProductName  ProductPrice  CostOfGood ProductCategory  \\\n",
       "0         Female         Hat         713.0      249.55          Movies   \n",
       "1         Female      Cheese          60.0       47.40          Health   \n",
       "2           Male       Chips         310.0      145.70          Sports   \n",
       "3         Female       Chair         468.0      149.76          Beauty   \n",
       "4           Male     Chicken         360.0      140.40          Health   \n",
       "\n",
       "  CustomerCountry CustomerContinent OrderTime  OrderDay OrderMonth  \\\n",
       "0      Seychelles            Africa  13:43:00         1   February   \n",
       "1           Qatar              Asia  12:25:00        11   February   \n",
       "2        Cameroon            Africa  20:14:00        25  September   \n",
       "3      Guadeloupe     North America  13:13:00        30       June   \n",
       "4       Swaziland            Africa  22:50:00        28  September   \n",
       "\n",
       "   QuantitySold  discountPerQuantity  salePrice  OrderYear  ExpectedRevenue  \\\n",
       "0             3                 0.09    1946.49       2017           463.45   \n",
       "1             5                 0.02     294.00       2020            12.60   \n",
       "2             2                 0.03     601.40       2020           164.30   \n",
       "3             1                 0.10     421.20       2020           318.24   \n",
       "4             6                 0.08    1987.20       2020           219.60   \n",
       "\n",
       "   PricePerQuantity  DiscountPercentage     dateOfPurchase  \n",
       "0            648.83                0.01    1 February 2017  \n",
       "1             58.80                0.03   11 February 2020  \n",
       "2            300.70                0.01  25 September 2020  \n",
       "3            421.20                0.02       30 June 2020  \n",
       "4            331.20                0.02  28 September 2020  "
      ]
     },
     "execution_count": 5,
     "metadata": {},
     "output_type": "execute_result"
    }
   ],
   "source": [
    "data.head()"
   ]
  },
  {
   "cell_type": "code",
   "execution_count": 6,
   "metadata": {},
   "outputs": [],
   "source": [
    "error_dates = data[(data[\"OrderDay\"] == 30) & (data[\"OrderMonth\"] == \"February\")]"
   ]
  },
  {
   "cell_type": "code",
   "execution_count": 7,
   "metadata": {},
   "outputs": [
    {
     "name": "stdout",
     "output_type": "stream",
     "text": [
      "<class 'pandas.core.frame.DataFrame'>\n",
      "Int64Index: 36 entries, 10 to 14314\n",
      "Data columns (total 18 columns):\n",
      " #   Column               Non-Null Count  Dtype  \n",
      "---  ------               --------------  -----  \n",
      " 0   CustomerGender       36 non-null     object \n",
      " 1   ProductName          36 non-null     object \n",
      " 2   ProductPrice         36 non-null     float64\n",
      " 3   CostOfGood           36 non-null     float64\n",
      " 4   ProductCategory      36 non-null     object \n",
      " 5   CustomerCountry      36 non-null     object \n",
      " 6   CustomerContinent    36 non-null     object \n",
      " 7   OrderTime            36 non-null     object \n",
      " 8   OrderDay             36 non-null     int64  \n",
      " 9   OrderMonth           36 non-null     object \n",
      " 10  QuantitySold         36 non-null     int64  \n",
      " 11  discountPerQuantity  36 non-null     float64\n",
      " 12  salePrice            36 non-null     float64\n",
      " 13  OrderYear            36 non-null     int64  \n",
      " 14  ExpectedRevenue      36 non-null     float64\n",
      " 15  PricePerQuantity     36 non-null     float64\n",
      " 16  DiscountPercentage   36 non-null     float64\n",
      " 17  dateOfPurchase       36 non-null     object \n",
      "dtypes: float64(7), int64(3), object(8)\n",
      "memory usage: 5.3+ KB\n"
     ]
    }
   ],
   "source": [
    "error_dates.info()"
   ]
  },
  {
   "cell_type": "code",
   "execution_count": 8,
   "metadata": {},
   "outputs": [
    {
     "data": {
      "text/plain": [
       "0.002352941176470588"
      ]
     },
     "execution_count": 8,
     "metadata": {},
     "output_type": "execute_result"
    }
   ],
   "source": [
    "36/15300"
   ]
  },
  {
   "cell_type": "code",
   "execution_count": 9,
   "metadata": {},
   "outputs": [],
   "source": [
    "data = data.drop(data[(data[\"OrderDay\"] == 30) & (data[\"OrderMonth\"] == \"February\")].index)\n",
    "non_leap = [2017, 2018, 2019]\n",
    "data = data.drop(data[(data[\"OrderDay\"] == 29) & (data[\"OrderMonth\"] == \"February\") & (data[\"OrderYear\"].isin(non_leap))].index)"
   ]
  },
  {
   "cell_type": "code",
   "execution_count": 10,
   "metadata": {},
   "outputs": [],
   "source": [
    "data[\"dateOfPurchase\"] = pd.to_datetime(data[\"dateOfPurchase\"])\n",
    "data[\"dateOfPurchase\"] = data[\"dateOfPurchase\"].dt.to_period('M')"
   ]
  },
  {
   "cell_type": "code",
   "execution_count": 11,
   "metadata": {},
   "outputs": [
    {
     "data": {
      "text/html": [
       "<div>\n",
       "<style scoped>\n",
       "    .dataframe tbody tr th:only-of-type {\n",
       "        vertical-align: middle;\n",
       "    }\n",
       "\n",
       "    .dataframe tbody tr th {\n",
       "        vertical-align: top;\n",
       "    }\n",
       "\n",
       "    .dataframe thead th {\n",
       "        text-align: right;\n",
       "    }\n",
       "</style>\n",
       "<table border=\"1\" class=\"dataframe\">\n",
       "  <thead>\n",
       "    <tr style=\"text-align: right;\">\n",
       "      <th></th>\n",
       "      <th>CustomerGender</th>\n",
       "      <th>ProductName</th>\n",
       "      <th>ProductPrice</th>\n",
       "      <th>CostOfGood</th>\n",
       "      <th>ProductCategory</th>\n",
       "      <th>CustomerCountry</th>\n",
       "      <th>CustomerContinent</th>\n",
       "      <th>OrderTime</th>\n",
       "      <th>OrderDay</th>\n",
       "      <th>OrderMonth</th>\n",
       "      <th>QuantitySold</th>\n",
       "      <th>discountPerQuantity</th>\n",
       "      <th>salePrice</th>\n",
       "      <th>OrderYear</th>\n",
       "      <th>ExpectedRevenue</th>\n",
       "      <th>PricePerQuantity</th>\n",
       "      <th>DiscountPercentage</th>\n",
       "      <th>dateOfPurchase</th>\n",
       "    </tr>\n",
       "  </thead>\n",
       "  <tbody>\n",
       "    <tr>\n",
       "      <th>0</th>\n",
       "      <td>Female</td>\n",
       "      <td>Hat</td>\n",
       "      <td>713.0</td>\n",
       "      <td>249.55</td>\n",
       "      <td>Movies</td>\n",
       "      <td>Seychelles</td>\n",
       "      <td>Africa</td>\n",
       "      <td>13:43:00</td>\n",
       "      <td>1</td>\n",
       "      <td>February</td>\n",
       "      <td>3</td>\n",
       "      <td>0.09</td>\n",
       "      <td>1946.49</td>\n",
       "      <td>2017</td>\n",
       "      <td>463.45</td>\n",
       "      <td>648.83</td>\n",
       "      <td>0.01</td>\n",
       "      <td>2017-02</td>\n",
       "    </tr>\n",
       "    <tr>\n",
       "      <th>1</th>\n",
       "      <td>Female</td>\n",
       "      <td>Cheese</td>\n",
       "      <td>60.0</td>\n",
       "      <td>47.40</td>\n",
       "      <td>Health</td>\n",
       "      <td>Qatar</td>\n",
       "      <td>Asia</td>\n",
       "      <td>12:25:00</td>\n",
       "      <td>11</td>\n",
       "      <td>February</td>\n",
       "      <td>5</td>\n",
       "      <td>0.02</td>\n",
       "      <td>294.00</td>\n",
       "      <td>2020</td>\n",
       "      <td>12.60</td>\n",
       "      <td>58.80</td>\n",
       "      <td>0.03</td>\n",
       "      <td>2020-02</td>\n",
       "    </tr>\n",
       "    <tr>\n",
       "      <th>2</th>\n",
       "      <td>Male</td>\n",
       "      <td>Chips</td>\n",
       "      <td>310.0</td>\n",
       "      <td>145.70</td>\n",
       "      <td>Sports</td>\n",
       "      <td>Cameroon</td>\n",
       "      <td>Africa</td>\n",
       "      <td>20:14:00</td>\n",
       "      <td>25</td>\n",
       "      <td>September</td>\n",
       "      <td>2</td>\n",
       "      <td>0.03</td>\n",
       "      <td>601.40</td>\n",
       "      <td>2020</td>\n",
       "      <td>164.30</td>\n",
       "      <td>300.70</td>\n",
       "      <td>0.01</td>\n",
       "      <td>2020-09</td>\n",
       "    </tr>\n",
       "    <tr>\n",
       "      <th>3</th>\n",
       "      <td>Female</td>\n",
       "      <td>Chair</td>\n",
       "      <td>468.0</td>\n",
       "      <td>149.76</td>\n",
       "      <td>Beauty</td>\n",
       "      <td>Guadeloupe</td>\n",
       "      <td>North America</td>\n",
       "      <td>13:13:00</td>\n",
       "      <td>30</td>\n",
       "      <td>June</td>\n",
       "      <td>1</td>\n",
       "      <td>0.10</td>\n",
       "      <td>421.20</td>\n",
       "      <td>2020</td>\n",
       "      <td>318.24</td>\n",
       "      <td>421.20</td>\n",
       "      <td>0.02</td>\n",
       "      <td>2020-06</td>\n",
       "    </tr>\n",
       "    <tr>\n",
       "      <th>4</th>\n",
       "      <td>Male</td>\n",
       "      <td>Chicken</td>\n",
       "      <td>360.0</td>\n",
       "      <td>140.40</td>\n",
       "      <td>Health</td>\n",
       "      <td>Swaziland</td>\n",
       "      <td>Africa</td>\n",
       "      <td>22:50:00</td>\n",
       "      <td>28</td>\n",
       "      <td>September</td>\n",
       "      <td>6</td>\n",
       "      <td>0.08</td>\n",
       "      <td>1987.20</td>\n",
       "      <td>2020</td>\n",
       "      <td>219.60</td>\n",
       "      <td>331.20</td>\n",
       "      <td>0.02</td>\n",
       "      <td>2020-09</td>\n",
       "    </tr>\n",
       "  </tbody>\n",
       "</table>\n",
       "</div>"
      ],
      "text/plain": [
       "  CustomerGender ProductName  ProductPrice  CostOfGood ProductCategory  \\\n",
       "0         Female         Hat         713.0      249.55          Movies   \n",
       "1         Female      Cheese          60.0       47.40          Health   \n",
       "2           Male       Chips         310.0      145.70          Sports   \n",
       "3         Female       Chair         468.0      149.76          Beauty   \n",
       "4           Male     Chicken         360.0      140.40          Health   \n",
       "\n",
       "  CustomerCountry CustomerContinent OrderTime  OrderDay OrderMonth  \\\n",
       "0      Seychelles            Africa  13:43:00         1   February   \n",
       "1           Qatar              Asia  12:25:00        11   February   \n",
       "2        Cameroon            Africa  20:14:00        25  September   \n",
       "3      Guadeloupe     North America  13:13:00        30       June   \n",
       "4       Swaziland            Africa  22:50:00        28  September   \n",
       "\n",
       "   QuantitySold  discountPerQuantity  salePrice  OrderYear  ExpectedRevenue  \\\n",
       "0             3                 0.09    1946.49       2017           463.45   \n",
       "1             5                 0.02     294.00       2020            12.60   \n",
       "2             2                 0.03     601.40       2020           164.30   \n",
       "3             1                 0.10     421.20       2020           318.24   \n",
       "4             6                 0.08    1987.20       2020           219.60   \n",
       "\n",
       "   PricePerQuantity  DiscountPercentage dateOfPurchase  \n",
       "0            648.83                0.01        2017-02  \n",
       "1             58.80                0.03        2020-02  \n",
       "2            300.70                0.01        2020-09  \n",
       "3            421.20                0.02        2020-06  \n",
       "4            331.20                0.02        2020-09  "
      ]
     },
     "execution_count": 11,
     "metadata": {},
     "output_type": "execute_result"
    }
   ],
   "source": [
    "data.head()"
   ]
  },
  {
   "cell_type": "code",
   "execution_count": 12,
   "metadata": {},
   "outputs": [],
   "source": [
    "#selecting columns of interest\n",
    "model_data = data[[\"CustomerContinent\", \"ProductCategory\", \"ProductName\", \"dateOfPurchase\", \"QuantitySold\", \"ProductPrice\", \"CostOfGood\", \"discountPerQuantity\"]]"
   ]
  },
  {
   "cell_type": "code",
   "execution_count": 13,
   "metadata": {},
   "outputs": [
    {
     "name": "stderr",
     "output_type": "stream",
     "text": [
      "C:\\Users\\HP\\AppData\\Local\\Temp\\ipykernel_19232\\310536122.py:1: SettingWithCopyWarning: \n",
      "A value is trying to be set on a copy of a slice from a DataFrame.\n",
      "Try using .loc[row_indexer,col_indexer] = value instead\n",
      "\n",
      "See the caveats in the documentation: https://pandas.pydata.org/pandas-docs/stable/user_guide/indexing.html#returning-a-view-versus-a-copy\n",
      "  model_data[\"Revenue\"] = model_data[\"ProductPrice\"] * model_data[\"QuantitySold\"] * (1-model_data[\"discountPerQuantity\"])\n"
     ]
    }
   ],
   "source": [
    "model_data[\"Revenue\"] = model_data[\"ProductPrice\"] * model_data[\"QuantitySold\"] * (1-model_data[\"discountPerQuantity\"])"
   ]
  },
  {
   "cell_type": "code",
   "execution_count": 14,
   "metadata": {},
   "outputs": [
    {
     "data": {
      "text/html": [
       "<div>\n",
       "<style scoped>\n",
       "    .dataframe tbody tr th:only-of-type {\n",
       "        vertical-align: middle;\n",
       "    }\n",
       "\n",
       "    .dataframe tbody tr th {\n",
       "        vertical-align: top;\n",
       "    }\n",
       "\n",
       "    .dataframe thead th {\n",
       "        text-align: right;\n",
       "    }\n",
       "</style>\n",
       "<table border=\"1\" class=\"dataframe\">\n",
       "  <thead>\n",
       "    <tr style=\"text-align: right;\">\n",
       "      <th></th>\n",
       "      <th>CustomerContinent</th>\n",
       "      <th>ProductCategory</th>\n",
       "      <th>ProductName</th>\n",
       "      <th>dateOfPurchase</th>\n",
       "      <th>QuantitySold</th>\n",
       "      <th>ProductPrice</th>\n",
       "      <th>CostOfGood</th>\n",
       "      <th>discountPerQuantity</th>\n",
       "      <th>Revenue</th>\n",
       "    </tr>\n",
       "  </thead>\n",
       "  <tbody>\n",
       "    <tr>\n",
       "      <th>0</th>\n",
       "      <td>Africa</td>\n",
       "      <td>Movies</td>\n",
       "      <td>Hat</td>\n",
       "      <td>2017-02</td>\n",
       "      <td>3</td>\n",
       "      <td>713.0</td>\n",
       "      <td>249.55</td>\n",
       "      <td>0.09</td>\n",
       "      <td>1946.49</td>\n",
       "    </tr>\n",
       "    <tr>\n",
       "      <th>1</th>\n",
       "      <td>Asia</td>\n",
       "      <td>Health</td>\n",
       "      <td>Cheese</td>\n",
       "      <td>2020-02</td>\n",
       "      <td>5</td>\n",
       "      <td>60.0</td>\n",
       "      <td>47.40</td>\n",
       "      <td>0.02</td>\n",
       "      <td>294.00</td>\n",
       "    </tr>\n",
       "    <tr>\n",
       "      <th>2</th>\n",
       "      <td>Africa</td>\n",
       "      <td>Sports</td>\n",
       "      <td>Chips</td>\n",
       "      <td>2020-09</td>\n",
       "      <td>2</td>\n",
       "      <td>310.0</td>\n",
       "      <td>145.70</td>\n",
       "      <td>0.03</td>\n",
       "      <td>601.40</td>\n",
       "    </tr>\n",
       "    <tr>\n",
       "      <th>3</th>\n",
       "      <td>North America</td>\n",
       "      <td>Beauty</td>\n",
       "      <td>Chair</td>\n",
       "      <td>2020-06</td>\n",
       "      <td>1</td>\n",
       "      <td>468.0</td>\n",
       "      <td>149.76</td>\n",
       "      <td>0.10</td>\n",
       "      <td>421.20</td>\n",
       "    </tr>\n",
       "    <tr>\n",
       "      <th>4</th>\n",
       "      <td>Africa</td>\n",
       "      <td>Health</td>\n",
       "      <td>Chicken</td>\n",
       "      <td>2020-09</td>\n",
       "      <td>6</td>\n",
       "      <td>360.0</td>\n",
       "      <td>140.40</td>\n",
       "      <td>0.08</td>\n",
       "      <td>1987.20</td>\n",
       "    </tr>\n",
       "  </tbody>\n",
       "</table>\n",
       "</div>"
      ],
      "text/plain": [
       "  CustomerContinent ProductCategory ProductName dateOfPurchase  QuantitySold  \\\n",
       "0            Africa          Movies         Hat        2017-02             3   \n",
       "1              Asia          Health      Cheese        2020-02             5   \n",
       "2            Africa          Sports       Chips        2020-09             2   \n",
       "3     North America          Beauty       Chair        2020-06             1   \n",
       "4            Africa          Health     Chicken        2020-09             6   \n",
       "\n",
       "   ProductPrice  CostOfGood  discountPerQuantity  Revenue  \n",
       "0         713.0      249.55                 0.09  1946.49  \n",
       "1          60.0       47.40                 0.02   294.00  \n",
       "2         310.0      145.70                 0.03   601.40  \n",
       "3         468.0      149.76                 0.10   421.20  \n",
       "4         360.0      140.40                 0.08  1987.20  "
      ]
     },
     "execution_count": 14,
     "metadata": {},
     "output_type": "execute_result"
    }
   ],
   "source": [
    "model_data.head()"
   ]
  },
  {
   "attachments": {},
   "cell_type": "markdown",
   "metadata": {},
   "source": [
    "FEATURE ENGINEERING"
   ]
  },
  {
   "cell_type": "code",
   "execution_count": 15,
   "metadata": {},
   "outputs": [
    {
     "data": {
      "text/plain": [
       "Period('2020-12', 'M')"
      ]
     },
     "execution_count": 15,
     "metadata": {},
     "output_type": "execute_result"
    }
   ],
   "source": [
    "model_data[\"dateOfPurchase\"].max()"
   ]
  },
  {
   "cell_type": "code",
   "execution_count": 16,
   "metadata": {},
   "outputs": [],
   "source": [
    "model_data = model_data.groupby([\"CustomerContinent\", \"ProductCategory\", \"dateOfPurchase\"], as_index = False).agg(\n",
    "                                TotalQuantity = pd.NamedAgg(column = \"QuantitySold\", aggfunc=sum),\n",
    "                                TotalRevenue = pd.NamedAgg(column = \"Revenue\", aggfunc = sum),\n",
    "                                AvgPrice = pd.NamedAgg(column = \"ProductPrice\", aggfunc = np.mean),\n",
    "                                MedPrice = pd.NamedAgg(column=\"ProductPrice\", aggfunc = np.median),\n",
    "                                AvgCost = pd.NamedAgg(column = \"CostOfGood\", aggfunc = np.mean),\n",
    "                                AvgDiscount = pd.NamedAgg(column = \"discountPerQuantity\", aggfunc = np.mean)\n",
    ")"
   ]
  },
  {
   "cell_type": "code",
   "execution_count": 17,
   "metadata": {},
   "outputs": [
    {
     "data": {
      "text/html": [
       "<div>\n",
       "<style scoped>\n",
       "    .dataframe tbody tr th:only-of-type {\n",
       "        vertical-align: middle;\n",
       "    }\n",
       "\n",
       "    .dataframe tbody tr th {\n",
       "        vertical-align: top;\n",
       "    }\n",
       "\n",
       "    .dataframe thead th {\n",
       "        text-align: right;\n",
       "    }\n",
       "</style>\n",
       "<table border=\"1\" class=\"dataframe\">\n",
       "  <thead>\n",
       "    <tr style=\"text-align: right;\">\n",
       "      <th></th>\n",
       "      <th>CustomerContinent</th>\n",
       "      <th>ProductCategory</th>\n",
       "      <th>dateOfPurchase</th>\n",
       "      <th>TotalQuantity</th>\n",
       "      <th>TotalRevenue</th>\n",
       "      <th>AvgPrice</th>\n",
       "      <th>MedPrice</th>\n",
       "      <th>AvgCost</th>\n",
       "      <th>AvgDiscount</th>\n",
       "    </tr>\n",
       "  </thead>\n",
       "  <tbody>\n",
       "    <tr>\n",
       "      <th>0</th>\n",
       "      <td>Africa</td>\n",
       "      <td>Automotive</td>\n",
       "      <td>2016-01</td>\n",
       "      <td>1</td>\n",
       "      <td>961.27</td>\n",
       "      <td>991.00</td>\n",
       "      <td>991.0</td>\n",
       "      <td>307.2100</td>\n",
       "      <td>0.0300</td>\n",
       "    </tr>\n",
       "    <tr>\n",
       "      <th>1</th>\n",
       "      <td>Africa</td>\n",
       "      <td>Automotive</td>\n",
       "      <td>2016-02</td>\n",
       "      <td>22</td>\n",
       "      <td>6736.86</td>\n",
       "      <td>323.00</td>\n",
       "      <td>269.0</td>\n",
       "      <td>195.5600</td>\n",
       "      <td>0.0500</td>\n",
       "    </tr>\n",
       "    <tr>\n",
       "      <th>2</th>\n",
       "      <td>Africa</td>\n",
       "      <td>Automotive</td>\n",
       "      <td>2016-03</td>\n",
       "      <td>10</td>\n",
       "      <td>6633.20</td>\n",
       "      <td>721.00</td>\n",
       "      <td>721.0</td>\n",
       "      <td>591.2200</td>\n",
       "      <td>0.0800</td>\n",
       "    </tr>\n",
       "    <tr>\n",
       "      <th>3</th>\n",
       "      <td>Africa</td>\n",
       "      <td>Automotive</td>\n",
       "      <td>2016-04</td>\n",
       "      <td>23</td>\n",
       "      <td>10619.63</td>\n",
       "      <td>507.75</td>\n",
       "      <td>504.5</td>\n",
       "      <td>258.9825</td>\n",
       "      <td>0.0575</td>\n",
       "    </tr>\n",
       "    <tr>\n",
       "      <th>4</th>\n",
       "      <td>Africa</td>\n",
       "      <td>Automotive</td>\n",
       "      <td>2016-05</td>\n",
       "      <td>18</td>\n",
       "      <td>8175.08</td>\n",
       "      <td>479.25</td>\n",
       "      <td>437.5</td>\n",
       "      <td>238.2550</td>\n",
       "      <td>0.0650</td>\n",
       "    </tr>\n",
       "  </tbody>\n",
       "</table>\n",
       "</div>"
      ],
      "text/plain": [
       "  CustomerContinent ProductCategory dateOfPurchase  TotalQuantity  \\\n",
       "0            Africa      Automotive        2016-01              1   \n",
       "1            Africa      Automotive        2016-02             22   \n",
       "2            Africa      Automotive        2016-03             10   \n",
       "3            Africa      Automotive        2016-04             23   \n",
       "4            Africa      Automotive        2016-05             18   \n",
       "\n",
       "   TotalRevenue  AvgPrice  MedPrice   AvgCost  AvgDiscount  \n",
       "0        961.27    991.00     991.0  307.2100       0.0300  \n",
       "1       6736.86    323.00     269.0  195.5600       0.0500  \n",
       "2       6633.20    721.00     721.0  591.2200       0.0800  \n",
       "3      10619.63    507.75     504.5  258.9825       0.0575  \n",
       "4       8175.08    479.25     437.5  238.2550       0.0650  "
      ]
     },
     "execution_count": 17,
     "metadata": {},
     "output_type": "execute_result"
    }
   ],
   "source": [
    "model_data.head()"
   ]
  },
  {
   "cell_type": "code",
   "execution_count": 18,
   "metadata": {},
   "outputs": [
    {
     "data": {
      "text/html": [
       "<div>\n",
       "<style scoped>\n",
       "    .dataframe tbody tr th:only-of-type {\n",
       "        vertical-align: middle;\n",
       "    }\n",
       "\n",
       "    .dataframe tbody tr th {\n",
       "        vertical-align: top;\n",
       "    }\n",
       "\n",
       "    .dataframe thead th {\n",
       "        text-align: right;\n",
       "    }\n",
       "</style>\n",
       "<table border=\"1\" class=\"dataframe\">\n",
       "  <thead>\n",
       "    <tr style=\"text-align: right;\">\n",
       "      <th></th>\n",
       "      <th>CustomerContinent</th>\n",
       "      <th>ProductCategory</th>\n",
       "      <th>dateOfPurchase</th>\n",
       "      <th>TotalQuantity</th>\n",
       "      <th>TotalRevenue</th>\n",
       "      <th>AvgPrice</th>\n",
       "      <th>MedPrice</th>\n",
       "      <th>AvgCost</th>\n",
       "      <th>AvgDiscount</th>\n",
       "    </tr>\n",
       "  </thead>\n",
       "  <tbody>\n",
       "    <tr>\n",
       "      <th>6606</th>\n",
       "      <td>South America</td>\n",
       "      <td>Toys</td>\n",
       "      <td>2019-11</td>\n",
       "      <td>7</td>\n",
       "      <td>233.10</td>\n",
       "      <td>37.000000</td>\n",
       "      <td>37.0</td>\n",
       "      <td>7.77</td>\n",
       "      <td>0.10</td>\n",
       "    </tr>\n",
       "    <tr>\n",
       "      <th>6607</th>\n",
       "      <td>South America</td>\n",
       "      <td>Toys</td>\n",
       "      <td>2019-12</td>\n",
       "      <td>4</td>\n",
       "      <td>2227.20</td>\n",
       "      <td>580.000000</td>\n",
       "      <td>580.0</td>\n",
       "      <td>429.20</td>\n",
       "      <td>0.04</td>\n",
       "    </tr>\n",
       "    <tr>\n",
       "      <th>6608</th>\n",
       "      <td>South America</td>\n",
       "      <td>Toys</td>\n",
       "      <td>2020-02</td>\n",
       "      <td>4</td>\n",
       "      <td>2590.64</td>\n",
       "      <td>689.000000</td>\n",
       "      <td>689.0</td>\n",
       "      <td>351.39</td>\n",
       "      <td>0.06</td>\n",
       "    </tr>\n",
       "    <tr>\n",
       "      <th>6609</th>\n",
       "      <td>South America</td>\n",
       "      <td>Toys</td>\n",
       "      <td>2020-07</td>\n",
       "      <td>19</td>\n",
       "      <td>12641.16</td>\n",
       "      <td>581.333333</td>\n",
       "      <td>430.0</td>\n",
       "      <td>170.88</td>\n",
       "      <td>0.05</td>\n",
       "    </tr>\n",
       "    <tr>\n",
       "      <th>6610</th>\n",
       "      <td>South America</td>\n",
       "      <td>Toys</td>\n",
       "      <td>2020-08</td>\n",
       "      <td>4</td>\n",
       "      <td>190.12</td>\n",
       "      <td>49.000000</td>\n",
       "      <td>49.0</td>\n",
       "      <td>34.30</td>\n",
       "      <td>0.03</td>\n",
       "    </tr>\n",
       "  </tbody>\n",
       "</table>\n",
       "</div>"
      ],
      "text/plain": [
       "     CustomerContinent ProductCategory dateOfPurchase  TotalQuantity  \\\n",
       "6606     South America            Toys        2019-11              7   \n",
       "6607     South America            Toys        2019-12              4   \n",
       "6608     South America            Toys        2020-02              4   \n",
       "6609     South America            Toys        2020-07             19   \n",
       "6610     South America            Toys        2020-08              4   \n",
       "\n",
       "      TotalRevenue    AvgPrice  MedPrice  AvgCost  AvgDiscount  \n",
       "6606        233.10   37.000000      37.0     7.77         0.10  \n",
       "6607       2227.20  580.000000     580.0   429.20         0.04  \n",
       "6608       2590.64  689.000000     689.0   351.39         0.06  \n",
       "6609      12641.16  581.333333     430.0   170.88         0.05  \n",
       "6610        190.12   49.000000      49.0    34.30         0.03  "
      ]
     },
     "execution_count": 18,
     "metadata": {},
     "output_type": "execute_result"
    }
   ],
   "source": [
    "model_data.tail()"
   ]
  },
  {
   "cell_type": "code",
   "execution_count": 19,
   "metadata": {},
   "outputs": [],
   "source": [
    "model_data.to_csv(\"../data/clean_data.csv\")"
   ]
  },
  {
   "cell_type": "code",
   "execution_count": 20,
   "metadata": {},
   "outputs": [],
   "source": [
    "forecast_data = model_data[[\"CustomerContinent\", \"ProductCategory\", \"dateOfPurchase\", \"TotalQuantity\", \"TotalRevenue\"]]"
   ]
  },
  {
   "cell_type": "code",
   "execution_count": 21,
   "metadata": {},
   "outputs": [],
   "source": [
    "cat_combination = forecast_data[[\"CustomerContinent\", \"ProductCategory\"]].drop_duplicates()"
   ]
  },
  {
   "cell_type": "code",
   "execution_count": 22,
   "metadata": {},
   "outputs": [],
   "source": [
    "time = forecast_data[[\"dateOfPurchase\"]].drop_duplicates()"
   ]
  },
  {
   "cell_type": "code",
   "execution_count": 23,
   "metadata": {},
   "outputs": [
    {
     "data": {
      "text/plain": [
       "60"
      ]
     },
     "execution_count": 23,
     "metadata": {},
     "output_type": "execute_result"
    }
   ],
   "source": [
    "time[\"dateOfPurchase\"].nunique()"
   ]
  },
  {
   "cell_type": "code",
   "execution_count": 24,
   "metadata": {},
   "outputs": [],
   "source": [
    "indexes = cat_combination.merge(time, how='cross')"
   ]
  },
  {
   "cell_type": "code",
   "execution_count": 25,
   "metadata": {},
   "outputs": [
    {
     "data": {
      "text/html": [
       "<div>\n",
       "<style scoped>\n",
       "    .dataframe tbody tr th:only-of-type {\n",
       "        vertical-align: middle;\n",
       "    }\n",
       "\n",
       "    .dataframe tbody tr th {\n",
       "        vertical-align: top;\n",
       "    }\n",
       "\n",
       "    .dataframe thead th {\n",
       "        text-align: right;\n",
       "    }\n",
       "</style>\n",
       "<table border=\"1\" class=\"dataframe\">\n",
       "  <thead>\n",
       "    <tr style=\"text-align: right;\">\n",
       "      <th></th>\n",
       "      <th>CustomerContinent</th>\n",
       "      <th>ProductCategory</th>\n",
       "      <th>dateOfPurchase</th>\n",
       "    </tr>\n",
       "  </thead>\n",
       "  <tbody>\n",
       "    <tr>\n",
       "      <th>0</th>\n",
       "      <td>Africa</td>\n",
       "      <td>Automotive</td>\n",
       "      <td>2016-01</td>\n",
       "    </tr>\n",
       "    <tr>\n",
       "      <th>1</th>\n",
       "      <td>Africa</td>\n",
       "      <td>Automotive</td>\n",
       "      <td>2016-02</td>\n",
       "    </tr>\n",
       "    <tr>\n",
       "      <th>2</th>\n",
       "      <td>Africa</td>\n",
       "      <td>Automotive</td>\n",
       "      <td>2016-03</td>\n",
       "    </tr>\n",
       "    <tr>\n",
       "      <th>3</th>\n",
       "      <td>Africa</td>\n",
       "      <td>Automotive</td>\n",
       "      <td>2016-04</td>\n",
       "    </tr>\n",
       "    <tr>\n",
       "      <th>4</th>\n",
       "      <td>Africa</td>\n",
       "      <td>Automotive</td>\n",
       "      <td>2016-05</td>\n",
       "    </tr>\n",
       "  </tbody>\n",
       "</table>\n",
       "</div>"
      ],
      "text/plain": [
       "  CustomerContinent ProductCategory dateOfPurchase\n",
       "0            Africa      Automotive        2016-01\n",
       "1            Africa      Automotive        2016-02\n",
       "2            Africa      Automotive        2016-03\n",
       "3            Africa      Automotive        2016-04\n",
       "4            Africa      Automotive        2016-05"
      ]
     },
     "execution_count": 25,
     "metadata": {},
     "output_type": "execute_result"
    }
   ],
   "source": [
    "indexes.head()"
   ]
  },
  {
   "cell_type": "code",
   "execution_count": 26,
   "metadata": {},
   "outputs": [],
   "source": [
    "new_df = indexes.merge(forecast_data, on = [\"CustomerContinent\", \"ProductCategory\", \"dateOfPurchase\"], how = 'left')"
   ]
  },
  {
   "cell_type": "code",
   "execution_count": 27,
   "metadata": {},
   "outputs": [
    {
     "data": {
      "text/html": [
       "<div>\n",
       "<style scoped>\n",
       "    .dataframe tbody tr th:only-of-type {\n",
       "        vertical-align: middle;\n",
       "    }\n",
       "\n",
       "    .dataframe tbody tr th {\n",
       "        vertical-align: top;\n",
       "    }\n",
       "\n",
       "    .dataframe thead th {\n",
       "        text-align: right;\n",
       "    }\n",
       "</style>\n",
       "<table border=\"1\" class=\"dataframe\">\n",
       "  <thead>\n",
       "    <tr style=\"text-align: right;\">\n",
       "      <th></th>\n",
       "      <th>CustomerContinent</th>\n",
       "      <th>ProductCategory</th>\n",
       "      <th>dateOfPurchase</th>\n",
       "      <th>TotalQuantity</th>\n",
       "      <th>TotalRevenue</th>\n",
       "    </tr>\n",
       "  </thead>\n",
       "  <tbody>\n",
       "    <tr>\n",
       "      <th>0</th>\n",
       "      <td>Africa</td>\n",
       "      <td>Automotive</td>\n",
       "      <td>2016-01</td>\n",
       "      <td>1.0</td>\n",
       "      <td>961.27</td>\n",
       "    </tr>\n",
       "    <tr>\n",
       "      <th>1</th>\n",
       "      <td>Africa</td>\n",
       "      <td>Automotive</td>\n",
       "      <td>2016-02</td>\n",
       "      <td>22.0</td>\n",
       "      <td>6736.86</td>\n",
       "    </tr>\n",
       "    <tr>\n",
       "      <th>2</th>\n",
       "      <td>Africa</td>\n",
       "      <td>Automotive</td>\n",
       "      <td>2016-03</td>\n",
       "      <td>10.0</td>\n",
       "      <td>6633.20</td>\n",
       "    </tr>\n",
       "    <tr>\n",
       "      <th>3</th>\n",
       "      <td>Africa</td>\n",
       "      <td>Automotive</td>\n",
       "      <td>2016-04</td>\n",
       "      <td>23.0</td>\n",
       "      <td>10619.63</td>\n",
       "    </tr>\n",
       "    <tr>\n",
       "      <th>4</th>\n",
       "      <td>Africa</td>\n",
       "      <td>Automotive</td>\n",
       "      <td>2016-05</td>\n",
       "      <td>18.0</td>\n",
       "      <td>8175.08</td>\n",
       "    </tr>\n",
       "  </tbody>\n",
       "</table>\n",
       "</div>"
      ],
      "text/plain": [
       "  CustomerContinent ProductCategory dateOfPurchase  TotalQuantity  \\\n",
       "0            Africa      Automotive        2016-01            1.0   \n",
       "1            Africa      Automotive        2016-02           22.0   \n",
       "2            Africa      Automotive        2016-03           10.0   \n",
       "3            Africa      Automotive        2016-04           23.0   \n",
       "4            Africa      Automotive        2016-05           18.0   \n",
       "\n",
       "   TotalRevenue  \n",
       "0        961.27  \n",
       "1       6736.86  \n",
       "2       6633.20  \n",
       "3      10619.63  \n",
       "4       8175.08  "
      ]
     },
     "execution_count": 27,
     "metadata": {},
     "output_type": "execute_result"
    }
   ],
   "source": [
    "new_df.head()"
   ]
  },
  {
   "cell_type": "code",
   "execution_count": 28,
   "metadata": {},
   "outputs": [
    {
     "name": "stdout",
     "output_type": "stream",
     "text": [
      "<class 'pandas.core.frame.DataFrame'>\n",
      "Int64Index: 9240 entries, 0 to 9239\n",
      "Data columns (total 5 columns):\n",
      " #   Column             Non-Null Count  Dtype    \n",
      "---  ------             --------------  -----    \n",
      " 0   CustomerContinent  9240 non-null   object   \n",
      " 1   ProductCategory    9240 non-null   object   \n",
      " 2   dateOfPurchase     9240 non-null   period[M]\n",
      " 3   TotalQuantity      6611 non-null   float64  \n",
      " 4   TotalRevenue       6611 non-null   float64  \n",
      "dtypes: float64(2), object(2), period[M](1)\n",
      "memory usage: 433.1+ KB\n"
     ]
    }
   ],
   "source": [
    "new_df.info()"
   ]
  },
  {
   "cell_type": "code",
   "execution_count": 29,
   "metadata": {},
   "outputs": [],
   "source": [
    "new_df.to_csv(\"../data/forecast.csv\")"
   ]
  },
  {
   "attachments": {},
   "cell_type": "markdown",
   "metadata": {},
   "source": [
    "MULTIVARIATE HIERARCHICAL FORECASTING"
   ]
  },
  {
   "attachments": {},
   "cell_type": "markdown",
   "metadata": {},
   "source": [
    "Model Selection"
   ]
  },
  {
   "cell_type": "code",
   "execution_count": 30,
   "metadata": {},
   "outputs": [],
   "source": [
    "import sktime\n",
    "\n",
    "from sktime.registry import all_estimators\n"
   ]
  },
  {
   "cell_type": "code",
   "execution_count": 31,
   "metadata": {},
   "outputs": [
    {
     "name": "stderr",
     "output_type": "stream",
     "text": [
      "c:\\Users\\HP\\Downloads\\mybooks\\project\\hierarchical-forecasting\\.venv\\lib\\site-packages\\sktime\\utils\\validation\\_dependencies.py:143: UserWarning: str requires package 'dtw-python' to be present in the python environment, but 'dtw-python' was not found. 'dtw-python' is a soft dependency and not included in the base sktime installation. Please run: `pip install dtw-python` to install the dtw-python package. To install all soft dependencies, run: `pip install sktime[all_extras]`\n",
      "  warnings.warn(msg)\n",
      "c:\\Users\\HP\\Downloads\\mybooks\\project\\hierarchical-forecasting\\.venv\\lib\\site-packages\\sktime\\utils\\validation\\_dependencies.py:143: UserWarning: No module named 'pyod'. 'pyod' is a soft dependency and not included in the base sktime installation. Please run: `pip install pyod` to install the pyod package. To install all soft dependencies, run: `pip install sktime[all_extras]`\n",
      "  warnings.warn(msg)\n",
      "c:\\Users\\HP\\Downloads\\mybooks\\project\\hierarchical-forecasting\\.venv\\lib\\site-packages\\sktime\\utils\\validation\\_dependencies.py:143: UserWarning: No module named 'hmmlearn'. 'hmmlearn.hmm' is a soft dependency and not included in the base sktime installation. Please run: `pip install hmmlearn.hmm` to install the hmmlearn.hmm package. To install all soft dependencies, run: `pip install sktime[all_extras]`\n",
      "  warnings.warn(msg)\n",
      "c:\\Users\\HP\\Downloads\\mybooks\\project\\hierarchical-forecasting\\.venv\\lib\\site-packages\\sktime\\utils\\validation\\_dependencies.py:226: UserWarning: tensorflow and tensorflow-probability are required for deep learning and probabilistic functionality in `sktime`. To install these dependencies, run: `pip install sktime[dl]`\n",
      "  warnings.warn(msg)\n",
      "c:\\Users\\HP\\Downloads\\mybooks\\project\\hierarchical-forecasting\\.venv\\lib\\site-packages\\sktime\\utils\\validation\\_dependencies.py:143: UserWarning: No module named 'keras_self_attention'. 'keras-self-attention' is a soft dependency and not included in the base sktime installation. Please run: `pip install keras-self-attention` to install the keras-self-attention package. To install all soft dependencies, run: `pip install sktime[all_extras]`\n",
      "  warnings.warn(msg)\n",
      "c:\\Users\\HP\\Downloads\\mybooks\\project\\hierarchical-forecasting\\.venv\\lib\\site-packages\\sktime\\utils\\validation\\_dependencies.py:143: UserWarning: No module named 'tsfresh'. 'tsfresh' is a soft dependency and not included in the base sktime installation. Please run: `pip install tsfresh` to install the tsfresh package. To install all soft dependencies, run: `pip install sktime[all_extras]`\n",
      "  warnings.warn(msg)\n",
      "c:\\Users\\HP\\Downloads\\mybooks\\project\\hierarchical-forecasting\\.venv\\lib\\site-packages\\sktime\\utils\\validation\\_dependencies.py:143: UserWarning: No module named 'esig'. 'esig' is a soft dependency and not included in the base sktime installation. Please run: `pip install esig` to install the esig package. To install all soft dependencies, run: `pip install sktime[all_extras]`\n",
      "  warnings.warn(msg)\n",
      "c:\\Users\\HP\\Downloads\\mybooks\\project\\hierarchical-forecasting\\.venv\\lib\\site-packages\\sktime\\utils\\validation\\_dependencies.py:143: UserWarning: No module named 'tslearn'. 'tslearn' is a soft dependency and not included in the base sktime installation. Please run: `pip install tslearn` to install the tslearn package. To install all soft dependencies, run: `pip install sktime[all_extras]`\n",
      "  warnings.warn(msg)\n",
      "c:\\Users\\HP\\Downloads\\mybooks\\project\\hierarchical-forecasting\\.venv\\lib\\site-packages\\sktime\\utils\\validation\\_dependencies.py:143: UserWarning: No module named 'hcrystalball'. 'hcrystalball' is a soft dependency and not included in the base sktime installation. Please run: `pip install hcrystalball` to install the hcrystalball package. To install all soft dependencies, run: `pip install sktime[all_extras]`\n",
      "  warnings.warn(msg)\n",
      "c:\\Users\\HP\\Downloads\\mybooks\\project\\hierarchical-forecasting\\.venv\\lib\\site-packages\\sktime\\utils\\validation\\_dependencies.py:143: UserWarning: No module named 'pmdarima'. 'pmdarima' is a soft dependency and not included in the base sktime installation. Please run: `pip install pmdarima` to install the pmdarima package. To install all soft dependencies, run: `pip install sktime[all_extras]`\n",
      "  warnings.warn(msg)\n",
      "c:\\Users\\HP\\Downloads\\mybooks\\project\\hierarchical-forecasting\\.venv\\lib\\site-packages\\sktime\\utils\\validation\\_dependencies.py:143: UserWarning: No module named 'tbats'. 'tbats' is a soft dependency and not included in the base sktime installation. Please run: `pip install tbats` to install the tbats package. To install all soft dependencies, run: `pip install sktime[all_extras]`\n",
      "  warnings.warn(msg)\n",
      "c:\\Users\\HP\\Downloads\\mybooks\\project\\hierarchical-forecasting\\.venv\\lib\\site-packages\\sktime\\utils\\validation\\_dependencies.py:143: UserWarning: No module named 'prophet'. 'prophet' is a soft dependency and not included in the base sktime installation. Please run: `pip install prophet` to install the prophet package. To install all soft dependencies, run: `pip install sktime[all_extras]`\n",
      "  warnings.warn(msg)\n",
      "c:\\Users\\HP\\Downloads\\mybooks\\project\\hierarchical-forecasting\\.venv\\lib\\site-packages\\sktime\\utils\\validation\\_dependencies.py:143: UserWarning: No module named 'statsforecast'. 'statsforecast' is a soft dependency and not included in the base sktime installation. Please run: `pip install statsforecast` to install the statsforecast package. To install all soft dependencies, run: `pip install sktime[all_extras]`\n",
      "  warnings.warn(msg)\n",
      "c:\\Users\\HP\\Downloads\\mybooks\\project\\hierarchical-forecasting\\.venv\\lib\\site-packages\\sktime\\utils\\validation\\_dependencies.py:143: UserWarning: No module named 'pycatch22'. 'pycatch22' is a soft dependency and not included in the base sktime installation. Please run: `pip install pycatch22` to install the pycatch22 package. To install all soft dependencies, run: `pip install sktime[all_extras]`\n",
      "  warnings.warn(msg)\n",
      "c:\\Users\\HP\\Downloads\\mybooks\\project\\hierarchical-forecasting\\.venv\\lib\\site-packages\\sktime\\utils\\validation\\_dependencies.py:143: UserWarning: No module named 'mne'. 'mne' is a soft dependency and not included in the base sktime installation. Please run: `pip install mne` to install the mne package. To install all soft dependencies, run: `pip install sktime[all_extras]`\n",
      "  warnings.warn(msg)\n",
      "c:\\Users\\HP\\Downloads\\mybooks\\project\\hierarchical-forecasting\\.venv\\lib\\site-packages\\sktime\\utils\\validation\\_dependencies.py:143: UserWarning: No module named 'pykalman'. 'pykalman' is a soft dependency and not included in the base sktime installation. Please run: `pip install pykalman` to install the pykalman package. To install all soft dependencies, run: `pip install sktime[all_extras]`\n",
      "  warnings.warn(msg)\n",
      "c:\\Users\\HP\\Downloads\\mybooks\\project\\hierarchical-forecasting\\.venv\\lib\\site-packages\\sktime\\utils\\validation\\_dependencies.py:143: UserWarning: No module named 'filterpy'. 'filterpy' is a soft dependency and not included in the base sktime installation. Please run: `pip install filterpy` to install the filterpy package. To install all soft dependencies, run: `pip install sktime[all_extras]`\n",
      "  warnings.warn(msg)\n",
      "c:\\Users\\HP\\Downloads\\mybooks\\project\\hierarchical-forecasting\\.venv\\lib\\site-packages\\sktime\\utils\\validation\\_dependencies.py:143: UserWarning: No module named 'stumpy'. 'stumpy' is a soft dependency and not included in the base sktime installation. Please run: `pip install stumpy` to install the stumpy package. To install all soft dependencies, run: `pip install sktime[all_extras]`\n",
      "  warnings.warn(msg)\n"
     ]
    }
   ],
   "source": [
    "hier_forecasters = all_estimators(\n",
    "    \"forecaster\", as_dataframe=True, return_tags=[\"scitype:y\", \"y_inner_mtype\", \"ignores-exogeneous-X\"]\n",
    ")"
   ]
  },
  {
   "cell_type": "code",
   "execution_count": 32,
   "metadata": {},
   "outputs": [],
   "source": [
    "hier_forecasters = hier_forecasters[(hier_forecasters[\"y_inner_mtype\"] != \"pd.Series\") & \n",
    "                                    (hier_forecasters[\"y_inner_mtype\"] != \"pd.DataFrame\")]"
   ]
  },
  {
   "cell_type": "code",
   "execution_count": 33,
   "metadata": {},
   "outputs": [
    {
     "data": {
      "text/html": [
       "<div>\n",
       "<style scoped>\n",
       "    .dataframe tbody tr th:only-of-type {\n",
       "        vertical-align: middle;\n",
       "    }\n",
       "\n",
       "    .dataframe tbody tr th {\n",
       "        vertical-align: top;\n",
       "    }\n",
       "\n",
       "    .dataframe thead th {\n",
       "        text-align: right;\n",
       "    }\n",
       "</style>\n",
       "<table border=\"1\" class=\"dataframe\">\n",
       "  <thead>\n",
       "    <tr style=\"text-align: right;\">\n",
       "      <th></th>\n",
       "      <th>name</th>\n",
       "      <th>estimator</th>\n",
       "      <th>scitype:y</th>\n",
       "      <th>y_inner_mtype</th>\n",
       "      <th>ignores-exogeneous-X</th>\n",
       "    </tr>\n",
       "  </thead>\n",
       "  <tbody>\n",
       "    <tr>\n",
       "      <th>7</th>\n",
       "      <td>ColumnEnsembleForecaster</td>\n",
       "      <td>&lt;class 'sktime.forecasting.compose._column_ens...</td>\n",
       "      <td>both</td>\n",
       "      <td>[pd.DataFrame, pd-multiindex, pd_multiindex_hier]</td>\n",
       "      <td>False</td>\n",
       "    </tr>\n",
       "    <tr>\n",
       "      <th>14</th>\n",
       "      <td>DontUpdate</td>\n",
       "      <td>&lt;class 'sktime.forecasting.stream._update.Dont...</td>\n",
       "      <td>univariate</td>\n",
       "      <td>[numpy3D, dask_series, np.ndarray, pd_multiind...</td>\n",
       "      <td>False</td>\n",
       "    </tr>\n",
       "    <tr>\n",
       "      <th>16</th>\n",
       "      <td>EnsembleForecaster</td>\n",
       "      <td>&lt;class 'sktime.forecasting.compose._ensemble.E...</td>\n",
       "      <td>both</td>\n",
       "      <td>[pd.DataFrame, pd-multiindex, pd_multiindex_hier]</td>\n",
       "      <td>False</td>\n",
       "    </tr>\n",
       "    <tr>\n",
       "      <th>18</th>\n",
       "      <td>ForecastByLevel</td>\n",
       "      <td>&lt;class 'sktime.forecasting.compose._grouped.Fo...</td>\n",
       "      <td>both</td>\n",
       "      <td>[numpy3D, dask_series, np.ndarray, pd_multiind...</td>\n",
       "      <td>False</td>\n",
       "    </tr>\n",
       "    <tr>\n",
       "      <th>19</th>\n",
       "      <td>ForecastX</td>\n",
       "      <td>&lt;class 'sktime.forecasting.compose._pipeline.F...</td>\n",
       "      <td>univariate</td>\n",
       "      <td>[pd.DataFrame, pd-multiindex, pd_multiindex_hier]</td>\n",
       "      <td>False</td>\n",
       "    </tr>\n",
       "  </tbody>\n",
       "</table>\n",
       "</div>"
      ],
      "text/plain": [
       "                        name  \\\n",
       "7   ColumnEnsembleForecaster   \n",
       "14                DontUpdate   \n",
       "16        EnsembleForecaster   \n",
       "18           ForecastByLevel   \n",
       "19                 ForecastX   \n",
       "\n",
       "                                            estimator   scitype:y  \\\n",
       "7   <class 'sktime.forecasting.compose._column_ens...        both   \n",
       "14  <class 'sktime.forecasting.stream._update.Dont...  univariate   \n",
       "16  <class 'sktime.forecasting.compose._ensemble.E...        both   \n",
       "18  <class 'sktime.forecasting.compose._grouped.Fo...        both   \n",
       "19  <class 'sktime.forecasting.compose._pipeline.F...  univariate   \n",
       "\n",
       "                                        y_inner_mtype  ignores-exogeneous-X  \n",
       "7   [pd.DataFrame, pd-multiindex, pd_multiindex_hier]                 False  \n",
       "14  [numpy3D, dask_series, np.ndarray, pd_multiind...                 False  \n",
       "16  [pd.DataFrame, pd-multiindex, pd_multiindex_hier]                 False  \n",
       "18  [numpy3D, dask_series, np.ndarray, pd_multiind...                 False  \n",
       "19  [pd.DataFrame, pd-multiindex, pd_multiindex_hier]                 False  "
      ]
     },
     "execution_count": 33,
     "metadata": {},
     "output_type": "execute_result"
    }
   ],
   "source": [
    "hier_forecasters.head()"
   ]
  },
  {
   "cell_type": "code",
   "execution_count": 34,
   "metadata": {},
   "outputs": [],
   "source": [
    "unwanted = []\n",
    "for i in hier_forecasters[\"y_inner_mtype\"]:\n",
    "    if \"pd_multiindex_hier\" not in i:\n",
    "        unwanted.append(i)"
   ]
  },
  {
   "cell_type": "code",
   "execution_count": 35,
   "metadata": {},
   "outputs": [
    {
     "data": {
      "text/plain": [
       "[['pd.Series'], ['pd.DataFrame', 'pd.Series']]"
      ]
     },
     "execution_count": 35,
     "metadata": {},
     "output_type": "execute_result"
    }
   ],
   "source": [
    "unwanted"
   ]
  },
  {
   "cell_type": "code",
   "execution_count": 36,
   "metadata": {},
   "outputs": [],
   "source": [
    "hierarchical = hier_forecasters[(hier_forecasters[\"scitype:y\"] != \"univariate\") & (~hier_forecasters[\"y_inner_mtype\"].isin(unwanted))]"
   ]
  },
  {
   "cell_type": "code",
   "execution_count": 37,
   "metadata": {},
   "outputs": [
    {
     "data": {
      "text/html": [
       "<div>\n",
       "<style scoped>\n",
       "    .dataframe tbody tr th:only-of-type {\n",
       "        vertical-align: middle;\n",
       "    }\n",
       "\n",
       "    .dataframe tbody tr th {\n",
       "        vertical-align: top;\n",
       "    }\n",
       "\n",
       "    .dataframe thead th {\n",
       "        text-align: right;\n",
       "    }\n",
       "</style>\n",
       "<table border=\"1\" class=\"dataframe\">\n",
       "  <thead>\n",
       "    <tr style=\"text-align: right;\">\n",
       "      <th></th>\n",
       "      <th>name</th>\n",
       "      <th>estimator</th>\n",
       "      <th>scitype:y</th>\n",
       "      <th>y_inner_mtype</th>\n",
       "      <th>ignores-exogeneous-X</th>\n",
       "    </tr>\n",
       "  </thead>\n",
       "  <tbody>\n",
       "    <tr>\n",
       "      <th>7</th>\n",
       "      <td>ColumnEnsembleForecaster</td>\n",
       "      <td>&lt;class 'sktime.forecasting.compose._column_ens...</td>\n",
       "      <td>both</td>\n",
       "      <td>[pd.DataFrame, pd-multiindex, pd_multiindex_hier]</td>\n",
       "      <td>False</td>\n",
       "    </tr>\n",
       "    <tr>\n",
       "      <th>16</th>\n",
       "      <td>EnsembleForecaster</td>\n",
       "      <td>&lt;class 'sktime.forecasting.compose._ensemble.E...</td>\n",
       "      <td>both</td>\n",
       "      <td>[pd.DataFrame, pd-multiindex, pd_multiindex_hier]</td>\n",
       "      <td>False</td>\n",
       "    </tr>\n",
       "    <tr>\n",
       "      <th>18</th>\n",
       "      <td>ForecastByLevel</td>\n",
       "      <td>&lt;class 'sktime.forecasting.compose._grouped.Fo...</td>\n",
       "      <td>both</td>\n",
       "      <td>[numpy3D, dask_series, np.ndarray, pd_multiind...</td>\n",
       "      <td>False</td>\n",
       "    </tr>\n",
       "    <tr>\n",
       "      <th>21</th>\n",
       "      <td>ForecastingPipeline</td>\n",
       "      <td>&lt;class 'sktime.forecasting.compose._pipeline.F...</td>\n",
       "      <td>both</td>\n",
       "      <td>[pd.DataFrame, pd-multiindex, pd_multiindex_hier]</td>\n",
       "      <td>False</td>\n",
       "    </tr>\n",
       "    <tr>\n",
       "      <th>24</th>\n",
       "      <td>HierarchyEnsembleForecaster</td>\n",
       "      <td>&lt;class 'sktime.forecasting.compose._hierarchy_...</td>\n",
       "      <td>both</td>\n",
       "      <td>[pd.DataFrame, pd-multiindex, pd_multiindex_hier]</td>\n",
       "      <td>False</td>\n",
       "    </tr>\n",
       "    <tr>\n",
       "      <th>27</th>\n",
       "      <td>MultiplexForecaster</td>\n",
       "      <td>&lt;class 'sktime.forecasting.compose._multiplexe...</td>\n",
       "      <td>both</td>\n",
       "      <td>[numpy3D, dask_series, np.ndarray, pd_multiind...</td>\n",
       "      <td>False</td>\n",
       "    </tr>\n",
       "    <tr>\n",
       "      <th>31</th>\n",
       "      <td>Permute</td>\n",
       "      <td>&lt;class 'sktime.forecasting.compose._pipeline.P...</td>\n",
       "      <td>both</td>\n",
       "      <td>[numpy3D, dask_series, np.ndarray, pd_multiind...</td>\n",
       "      <td>False</td>\n",
       "    </tr>\n",
       "    <tr>\n",
       "      <th>46</th>\n",
       "      <td>TransformedTargetForecaster</td>\n",
       "      <td>&lt;class 'sktime.forecasting.compose._pipeline.T...</td>\n",
       "      <td>both</td>\n",
       "      <td>[pd.DataFrame, pd-multiindex, pd_multiindex_hier]</td>\n",
       "      <td>False</td>\n",
       "    </tr>\n",
       "  </tbody>\n",
       "</table>\n",
       "</div>"
      ],
      "text/plain": [
       "                           name  \\\n",
       "7      ColumnEnsembleForecaster   \n",
       "16           EnsembleForecaster   \n",
       "18              ForecastByLevel   \n",
       "21          ForecastingPipeline   \n",
       "24  HierarchyEnsembleForecaster   \n",
       "27          MultiplexForecaster   \n",
       "31                      Permute   \n",
       "46  TransformedTargetForecaster   \n",
       "\n",
       "                                            estimator scitype:y  \\\n",
       "7   <class 'sktime.forecasting.compose._column_ens...      both   \n",
       "16  <class 'sktime.forecasting.compose._ensemble.E...      both   \n",
       "18  <class 'sktime.forecasting.compose._grouped.Fo...      both   \n",
       "21  <class 'sktime.forecasting.compose._pipeline.F...      both   \n",
       "24  <class 'sktime.forecasting.compose._hierarchy_...      both   \n",
       "27  <class 'sktime.forecasting.compose._multiplexe...      both   \n",
       "31  <class 'sktime.forecasting.compose._pipeline.P...      both   \n",
       "46  <class 'sktime.forecasting.compose._pipeline.T...      both   \n",
       "\n",
       "                                        y_inner_mtype  ignores-exogeneous-X  \n",
       "7   [pd.DataFrame, pd-multiindex, pd_multiindex_hier]                 False  \n",
       "16  [pd.DataFrame, pd-multiindex, pd_multiindex_hier]                 False  \n",
       "18  [numpy3D, dask_series, np.ndarray, pd_multiind...                 False  \n",
       "21  [pd.DataFrame, pd-multiindex, pd_multiindex_hier]                 False  \n",
       "24  [pd.DataFrame, pd-multiindex, pd_multiindex_hier]                 False  \n",
       "27  [numpy3D, dask_series, np.ndarray, pd_multiind...                 False  \n",
       "31  [numpy3D, dask_series, np.ndarray, pd_multiind...                 False  \n",
       "46  [pd.DataFrame, pd-multiindex, pd_multiindex_hier]                 False  "
      ]
     },
     "execution_count": 37,
     "metadata": {},
     "output_type": "execute_result"
    }
   ],
   "source": [
    "hierarchical"
   ]
  },
  {
   "attachments": {},
   "cell_type": "markdown",
   "metadata": {},
   "source": [
    "the above estimators accept hierarchical, multivariate and exogenous data"
   ]
  },
  {
   "attachments": {},
   "cell_type": "markdown",
   "metadata": {},
   "source": [
    "Column Ensemble Forecaster"
   ]
  },
  {
   "cell_type": "code",
   "execution_count": 38,
   "metadata": {},
   "outputs": [],
   "source": [
    "from sktime.forecasting.compose import ColumnEnsembleForecaster\n",
    "from sktime.forecasting.trend import PolynomialTrendForecaster\n",
    "from sktime.forecasting.naive import NaiveForecaster"
   ]
  },
  {
   "cell_type": "code",
   "execution_count": 39,
   "metadata": {},
   "outputs": [],
   "source": [
    "forecasters = [(\"trend\", PolynomialTrendForecaster(), 0),(\"naive\", NaiveForecaster(), 1)]\n",
    "model_one = ColumnEnsembleForecaster(forecasters= forecasters)"
   ]
  },
  {
   "cell_type": "code",
   "execution_count": 40,
   "metadata": {},
   "outputs": [],
   "source": [
    "model_df = new_df.groupby([\"CustomerContinent\", \"ProductCategory\", \"dateOfPurchase\"]).agg(\n",
    "                                TotalQuantity = pd.NamedAgg(column = \"TotalQuantity\", aggfunc=sum),\n",
    "                                TotalRevenue = pd.NamedAgg(column = \"TotalRevenue\", aggfunc = sum)\n",
    ")"
   ]
  },
  {
   "cell_type": "code",
   "execution_count": 41,
   "metadata": {},
   "outputs": [
    {
     "data": {
      "text/html": [
       "<div>\n",
       "<style scoped>\n",
       "    .dataframe tbody tr th:only-of-type {\n",
       "        vertical-align: middle;\n",
       "    }\n",
       "\n",
       "    .dataframe tbody tr th {\n",
       "        vertical-align: top;\n",
       "    }\n",
       "\n",
       "    .dataframe thead th {\n",
       "        text-align: right;\n",
       "    }\n",
       "</style>\n",
       "<table border=\"1\" class=\"dataframe\">\n",
       "  <thead>\n",
       "    <tr style=\"text-align: right;\">\n",
       "      <th></th>\n",
       "      <th></th>\n",
       "      <th></th>\n",
       "      <th>TotalQuantity</th>\n",
       "      <th>TotalRevenue</th>\n",
       "    </tr>\n",
       "    <tr>\n",
       "      <th>CustomerContinent</th>\n",
       "      <th>ProductCategory</th>\n",
       "      <th>dateOfPurchase</th>\n",
       "      <th></th>\n",
       "      <th></th>\n",
       "    </tr>\n",
       "  </thead>\n",
       "  <tbody>\n",
       "    <tr>\n",
       "      <th rowspan=\"5\" valign=\"top\">South America</th>\n",
       "      <th rowspan=\"5\" valign=\"top\">Toys</th>\n",
       "      <th>2020-08</th>\n",
       "      <td>4.0</td>\n",
       "      <td>190.12</td>\n",
       "    </tr>\n",
       "    <tr>\n",
       "      <th>2020-09</th>\n",
       "      <td>0.0</td>\n",
       "      <td>0.00</td>\n",
       "    </tr>\n",
       "    <tr>\n",
       "      <th>2020-10</th>\n",
       "      <td>0.0</td>\n",
       "      <td>0.00</td>\n",
       "    </tr>\n",
       "    <tr>\n",
       "      <th>2020-11</th>\n",
       "      <td>0.0</td>\n",
       "      <td>0.00</td>\n",
       "    </tr>\n",
       "    <tr>\n",
       "      <th>2020-12</th>\n",
       "      <td>0.0</td>\n",
       "      <td>0.00</td>\n",
       "    </tr>\n",
       "  </tbody>\n",
       "</table>\n",
       "</div>"
      ],
      "text/plain": [
       "                                                  TotalQuantity  TotalRevenue\n",
       "CustomerContinent ProductCategory dateOfPurchase                             \n",
       "South America     Toys            2020-08                   4.0        190.12\n",
       "                                  2020-09                   0.0          0.00\n",
       "                                  2020-10                   0.0          0.00\n",
       "                                  2020-11                   0.0          0.00\n",
       "                                  2020-12                   0.0          0.00"
      ]
     },
     "execution_count": 41,
     "metadata": {},
     "output_type": "execute_result"
    }
   ],
   "source": [
    "model_df.tail()"
   ]
  },
  {
   "cell_type": "code",
   "execution_count": 42,
   "metadata": {},
   "outputs": [],
   "source": [
    "y_train = model_df[model_df.index.get_level_values('dateOfPurchase')<\"2019-01\"]\n",
    "y_validate = model_df[model_df.index.get_level_values('dateOfPurchase')>=\"2019-01\"]"
   ]
  },
  {
   "cell_type": "code",
   "execution_count": 43,
   "metadata": {},
   "outputs": [],
   "source": [
    "from sktime.forecasting.base import ForecastingHorizon\n",
    "fh = ForecastingHorizon(\n",
    "    pd.PeriodIndex(pd.date_range(\"2019-01\", periods= 24, freq=\"M\")), is_relative=False\n",
    ")"
   ]
  },
  {
   "cell_type": "code",
   "execution_count": 44,
   "metadata": {},
   "outputs": [
    {
     "data": {
      "text/plain": [
       "ForecastingHorizon(['2019-01', '2019-02', '2019-03', '2019-04', '2019-05', '2019-06',\n",
       "             '2019-07', '2019-08', '2019-09', '2019-10', '2019-11', '2019-12',\n",
       "             '2020-01', '2020-02', '2020-03', '2020-04', '2020-05', '2020-06',\n",
       "             '2020-07', '2020-08', '2020-09', '2020-10', '2020-11', '2020-12'],\n",
       "            dtype='period[M]', is_relative=False)"
      ]
     },
     "execution_count": 44,
     "metadata": {},
     "output_type": "execute_result"
    }
   ],
   "source": [
    "fh"
   ]
  },
  {
   "cell_type": "code",
   "execution_count": 45,
   "metadata": {},
   "outputs": [
    {
     "data": {
      "text/html": [
       "<div>\n",
       "<style scoped>\n",
       "    .dataframe tbody tr th:only-of-type {\n",
       "        vertical-align: middle;\n",
       "    }\n",
       "\n",
       "    .dataframe tbody tr th {\n",
       "        vertical-align: top;\n",
       "    }\n",
       "\n",
       "    .dataframe thead th {\n",
       "        text-align: right;\n",
       "    }\n",
       "</style>\n",
       "<table border=\"1\" class=\"dataframe\">\n",
       "  <thead>\n",
       "    <tr style=\"text-align: right;\">\n",
       "      <th></th>\n",
       "      <th></th>\n",
       "      <th></th>\n",
       "      <th>TotalQuantity</th>\n",
       "      <th>TotalRevenue</th>\n",
       "    </tr>\n",
       "    <tr>\n",
       "      <th>CustomerContinent</th>\n",
       "      <th>ProductCategory</th>\n",
       "      <th>dateOfPurchase</th>\n",
       "      <th></th>\n",
       "      <th></th>\n",
       "    </tr>\n",
       "  </thead>\n",
       "  <tbody>\n",
       "    <tr>\n",
       "      <th rowspan=\"5\" valign=\"top\">Africa</th>\n",
       "      <th rowspan=\"5\" valign=\"top\">Automotive</th>\n",
       "      <th>2016-01</th>\n",
       "      <td>1.0</td>\n",
       "      <td>961.27</td>\n",
       "    </tr>\n",
       "    <tr>\n",
       "      <th>2016-02</th>\n",
       "      <td>22.0</td>\n",
       "      <td>6736.86</td>\n",
       "    </tr>\n",
       "    <tr>\n",
       "      <th>2016-03</th>\n",
       "      <td>10.0</td>\n",
       "      <td>6633.20</td>\n",
       "    </tr>\n",
       "    <tr>\n",
       "      <th>2016-04</th>\n",
       "      <td>23.0</td>\n",
       "      <td>10619.63</td>\n",
       "    </tr>\n",
       "    <tr>\n",
       "      <th>2016-05</th>\n",
       "      <td>18.0</td>\n",
       "      <td>8175.08</td>\n",
       "    </tr>\n",
       "  </tbody>\n",
       "</table>\n",
       "</div>"
      ],
      "text/plain": [
       "                                                  TotalQuantity  TotalRevenue\n",
       "CustomerContinent ProductCategory dateOfPurchase                             \n",
       "Africa            Automotive      2016-01                   1.0        961.27\n",
       "                                  2016-02                  22.0       6736.86\n",
       "                                  2016-03                  10.0       6633.20\n",
       "                                  2016-04                  23.0      10619.63\n",
       "                                  2016-05                  18.0       8175.08"
      ]
     },
     "execution_count": 45,
     "metadata": {},
     "output_type": "execute_result"
    }
   ],
   "source": [
    "y_train.head()"
   ]
  },
  {
   "cell_type": "code",
   "execution_count": 46,
   "metadata": {},
   "outputs": [],
   "source": [
    "model_one = model_one.fit(y= y_train, fh = fh)"
   ]
  },
  {
   "cell_type": "code",
   "execution_count": 47,
   "metadata": {},
   "outputs": [],
   "source": [
    "predict_one = model_one.predict(fh)"
   ]
  },
  {
   "cell_type": "code",
   "execution_count": 48,
   "metadata": {},
   "outputs": [],
   "source": [
    "from sklearn.metrics import r2_score"
   ]
  },
  {
   "cell_type": "code",
   "execution_count": 49,
   "metadata": {},
   "outputs": [
    {
     "data": {
      "text/html": [
       "<div>\n",
       "<style scoped>\n",
       "    .dataframe tbody tr th:only-of-type {\n",
       "        vertical-align: middle;\n",
       "    }\n",
       "\n",
       "    .dataframe tbody tr th {\n",
       "        vertical-align: top;\n",
       "    }\n",
       "\n",
       "    .dataframe thead th {\n",
       "        text-align: right;\n",
       "    }\n",
       "</style>\n",
       "<table border=\"1\" class=\"dataframe\">\n",
       "  <thead>\n",
       "    <tr style=\"text-align: right;\">\n",
       "      <th></th>\n",
       "      <th></th>\n",
       "      <th></th>\n",
       "      <th>TotalQuantity</th>\n",
       "      <th>TotalRevenue</th>\n",
       "    </tr>\n",
       "    <tr>\n",
       "      <th>CustomerContinent</th>\n",
       "      <th>ProductCategory</th>\n",
       "      <th>dateOfPurchase</th>\n",
       "      <th></th>\n",
       "      <th></th>\n",
       "    </tr>\n",
       "  </thead>\n",
       "  <tbody>\n",
       "    <tr>\n",
       "      <th rowspan=\"5\" valign=\"top\">Africa</th>\n",
       "      <th rowspan=\"5\" valign=\"top\">Automotive</th>\n",
       "      <th>2016-01</th>\n",
       "      <td>1.0</td>\n",
       "      <td>961.27</td>\n",
       "    </tr>\n",
       "    <tr>\n",
       "      <th>2016-02</th>\n",
       "      <td>22.0</td>\n",
       "      <td>6736.86</td>\n",
       "    </tr>\n",
       "    <tr>\n",
       "      <th>2016-03</th>\n",
       "      <td>10.0</td>\n",
       "      <td>6633.20</td>\n",
       "    </tr>\n",
       "    <tr>\n",
       "      <th>2016-04</th>\n",
       "      <td>23.0</td>\n",
       "      <td>10619.63</td>\n",
       "    </tr>\n",
       "    <tr>\n",
       "      <th>2016-05</th>\n",
       "      <td>18.0</td>\n",
       "      <td>8175.08</td>\n",
       "    </tr>\n",
       "  </tbody>\n",
       "</table>\n",
       "</div>"
      ],
      "text/plain": [
       "                                                  TotalQuantity  TotalRevenue\n",
       "CustomerContinent ProductCategory dateOfPurchase                             \n",
       "Africa            Automotive      2016-01                   1.0        961.27\n",
       "                                  2016-02                  22.0       6736.86\n",
       "                                  2016-03                  10.0       6633.20\n",
       "                                  2016-04                  23.0      10619.63\n",
       "                                  2016-05                  18.0       8175.08"
      ]
     },
     "execution_count": 49,
     "metadata": {},
     "output_type": "execute_result"
    }
   ],
   "source": [
    "y_train.head()"
   ]
  },
  {
   "cell_type": "code",
   "execution_count": 50,
   "metadata": {},
   "outputs": [
    {
     "data": {
      "text/plain": [
       "<bound method DataFrame.info of                                                   TotalQuantity  TotalRevenue\n",
       "CustomerContinent ProductCategory dateOfPurchase                             \n",
       "Africa            Automotive      2019-01                   3.0       2262.69\n",
       "                                  2019-02                  11.0       7667.67\n",
       "                                  2019-03                  49.0      26881.05\n",
       "                                  2019-04                  20.0      15699.49\n",
       "                                  2019-05                  19.0      10007.80\n",
       "...                                                         ...           ...\n",
       "South America     Toys            2020-08                   4.0        190.12\n",
       "                                  2020-09                   0.0          0.00\n",
       "                                  2020-10                   0.0          0.00\n",
       "                                  2020-11                   0.0          0.00\n",
       "                                  2020-12                   0.0          0.00\n",
       "\n",
       "[3696 rows x 2 columns]>"
      ]
     },
     "execution_count": 50,
     "metadata": {},
     "output_type": "execute_result"
    }
   ],
   "source": [
    "y_validate.info"
   ]
  },
  {
   "cell_type": "code",
   "execution_count": 51,
   "metadata": {},
   "outputs": [],
   "source": [
    "score_one = r2_score(y_validate, predict_one)"
   ]
  },
  {
   "cell_type": "code",
   "execution_count": 52,
   "metadata": {},
   "outputs": [
    {
     "data": {
      "text/plain": [
       "-0.12546910133609557"
      ]
     },
     "execution_count": 52,
     "metadata": {},
     "output_type": "execute_result"
    }
   ],
   "source": [
    "score_one"
   ]
  },
  {
   "cell_type": "code",
   "execution_count": 53,
   "metadata": {},
   "outputs": [],
   "source": [
    "from sktime.forecasting.compose._ensemble import EnsembleForecaster"
   ]
  },
  {
   "cell_type": "code",
   "execution_count": 54,
   "metadata": {},
   "outputs": [],
   "source": [
    "forecasters = [(\"trend\", PolynomialTrendForecaster()),(\"naive\", NaiveForecaster())]\n",
    "model_two = EnsembleForecaster(forecasters= forecasters, weights= [4, 10])"
   ]
  },
  {
   "cell_type": "code",
   "execution_count": 55,
   "metadata": {},
   "outputs": [],
   "source": [
    "model_two = model_two.fit(y = y_train, fh =fh)"
   ]
  },
  {
   "cell_type": "code",
   "execution_count": 56,
   "metadata": {},
   "outputs": [],
   "source": [
    "predict_two = model_two.predict()"
   ]
  },
  {
   "cell_type": "code",
   "execution_count": 57,
   "metadata": {},
   "outputs": [],
   "source": [
    "score_two = r2_score(y_validate, predict_two)"
   ]
  },
  {
   "cell_type": "code",
   "execution_count": 58,
   "metadata": {},
   "outputs": [
    {
     "data": {
      "text/plain": [
       "-0.11239237731372087"
      ]
     },
     "execution_count": 58,
     "metadata": {},
     "output_type": "execute_result"
    }
   ],
   "source": [
    "score_two"
   ]
  },
  {
   "cell_type": "code",
   "execution_count": 59,
   "metadata": {},
   "outputs": [],
   "source": [
    "forecasters = [(\"trend\", PolynomialTrendForecaster()),(\"naive\", NaiveForecaster())]\n",
    "model_three = EnsembleForecaster(forecasters= forecasters, weights= [8, 14])"
   ]
  },
  {
   "cell_type": "code",
   "execution_count": 60,
   "metadata": {},
   "outputs": [
    {
     "data": {
      "text/plain": [
       "-0.05900794930854758"
      ]
     },
     "execution_count": 60,
     "metadata": {},
     "output_type": "execute_result"
    }
   ],
   "source": [
    "model_three = model_three.fit(y = y_train, fh =fh)\n",
    "predict_three = model_three.predict()\n",
    "score_three = r2_score(y_validate, predict_three)\n",
    "score_three"
   ]
  },
  {
   "cell_type": "code",
   "execution_count": 61,
   "metadata": {},
   "outputs": [
    {
     "data": {
      "text/plain": [
       "-0.036705463326935805"
      ]
     },
     "execution_count": 61,
     "metadata": {},
     "output_type": "execute_result"
    }
   ],
   "source": [
    "forecasters = [(\"trend\", PolynomialTrendForecaster()),(\"naive\", NaiveForecaster())]\n",
    "model_four = EnsembleForecaster(forecasters= forecasters, weights= [20, 30])\n",
    "model_four = model_four.fit(y = y_train, fh =fh)\n",
    "predict_four = model_four.predict()\n",
    "score_four = r2_score(y_validate, predict_four)\n",
    "score_four"
   ]
  },
  {
   "cell_type": "code",
   "execution_count": 62,
   "metadata": {},
   "outputs": [
    {
     "data": {
      "text/plain": [
       "0.0979955298576024"
      ]
     },
     "execution_count": 62,
     "metadata": {},
     "output_type": "execute_result"
    }
   ],
   "source": [
    "forecasters = [(\"trend\", PolynomialTrendForecaster()),(\"naive\", NaiveForecaster())]\n",
    "model_five = EnsembleForecaster(forecasters= forecasters, weights= [300, 80])\n",
    "model_five = model_five.fit(y = y_train, fh =fh)\n",
    "predict_five = model_five.predict()\n",
    "score_five = r2_score(y_validate, predict_five)\n",
    "score_five"
   ]
  },
  {
   "cell_type": "code",
   "execution_count": 63,
   "metadata": {},
   "outputs": [],
   "source": [
    "#standardizing data\n",
    "from sklearn.preprocessing import StandardScaler\n",
    "\n",
    "scaler = StandardScaler()\n",
    "# quantity_scaler = scaler.fit(y_train[\"TotalQuantity\"])\n",
    "# revenue_scaler = scaler.fit(y_train[\"TotalRevenue\"])\n",
    "# y_train[\"TotalQuantity\"] = quantity_scaler.transform(y_train[\"TotalQuantity\"].to_numpy().reshape(-1, 1))\n",
    "# y_train[\"TotalRevenue\"] = quantity_scaler.fit_transform(y_train[\"TotalRevenue\"].to_numpy().reshape(-1, 1))\n"
   ]
  },
  {
   "cell_type": "code",
   "execution_count": 64,
   "metadata": {},
   "outputs": [
    {
     "data": {
      "text/plain": [
       "array([[1.000000e+00, 9.612700e+02],\n",
       "       [2.200000e+01, 6.736860e+03],\n",
       "       [1.000000e+01, 6.633200e+03],\n",
       "       ...,\n",
       "       [3.000000e+00, 2.637180e+03],\n",
       "       [2.400000e+01, 1.440849e+04],\n",
       "       [8.000000e+00, 4.761600e+03]])"
      ]
     },
     "execution_count": 64,
     "metadata": {},
     "output_type": "execute_result"
    }
   ],
   "source": [
    "y_train.values"
   ]
  },
  {
   "cell_type": "code",
   "execution_count": 65,
   "metadata": {},
   "outputs": [],
   "source": [
    "index = y_train.index\n",
    "columns = y_train.columns"
   ]
  },
  {
   "cell_type": "code",
   "execution_count": 66,
   "metadata": {},
   "outputs": [],
   "source": [
    "scaled_values = scaler.fit_transform(y_train.values)"
   ]
  },
  {
   "cell_type": "code",
   "execution_count": 67,
   "metadata": {},
   "outputs": [
    {
     "data": {
      "text/plain": [
       "array([[-0.87405298, -0.68006979],\n",
       "       [ 1.40614653,  0.50069846],\n",
       "       [ 0.10317539,  0.47950609],\n",
       "       ...,\n",
       "       [-0.65689112, -0.33744483],\n",
       "       [ 1.62330839,  2.06909531],\n",
       "       [-0.11398647,  0.09687404]])"
      ]
     },
     "execution_count": 67,
     "metadata": {},
     "output_type": "execute_result"
    }
   ],
   "source": [
    "scaled_values"
   ]
  },
  {
   "cell_type": "code",
   "execution_count": 68,
   "metadata": {},
   "outputs": [],
   "source": [
    "scaled_y = pd.DataFrame(scaled_values, columns = columns, index = index)"
   ]
  },
  {
   "cell_type": "code",
   "execution_count": 69,
   "metadata": {},
   "outputs": [
    {
     "data": {
      "text/html": [
       "<div>\n",
       "<style scoped>\n",
       "    .dataframe tbody tr th:only-of-type {\n",
       "        vertical-align: middle;\n",
       "    }\n",
       "\n",
       "    .dataframe tbody tr th {\n",
       "        vertical-align: top;\n",
       "    }\n",
       "\n",
       "    .dataframe thead th {\n",
       "        text-align: right;\n",
       "    }\n",
       "</style>\n",
       "<table border=\"1\" class=\"dataframe\">\n",
       "  <thead>\n",
       "    <tr style=\"text-align: right;\">\n",
       "      <th></th>\n",
       "      <th></th>\n",
       "      <th></th>\n",
       "      <th>TotalQuantity</th>\n",
       "      <th>TotalRevenue</th>\n",
       "    </tr>\n",
       "    <tr>\n",
       "      <th>CustomerContinent</th>\n",
       "      <th>ProductCategory</th>\n",
       "      <th>dateOfPurchase</th>\n",
       "      <th></th>\n",
       "      <th></th>\n",
       "    </tr>\n",
       "  </thead>\n",
       "  <tbody>\n",
       "    <tr>\n",
       "      <th rowspan=\"5\" valign=\"top\">Africa</th>\n",
       "      <th rowspan=\"5\" valign=\"top\">Automotive</th>\n",
       "      <th>2016-01</th>\n",
       "      <td>-0.874053</td>\n",
       "      <td>-0.680070</td>\n",
       "    </tr>\n",
       "    <tr>\n",
       "      <th>2016-02</th>\n",
       "      <td>1.406147</td>\n",
       "      <td>0.500698</td>\n",
       "    </tr>\n",
       "    <tr>\n",
       "      <th>2016-03</th>\n",
       "      <td>0.103175</td>\n",
       "      <td>0.479506</td>\n",
       "    </tr>\n",
       "    <tr>\n",
       "      <th>2016-04</th>\n",
       "      <td>1.514727</td>\n",
       "      <td>1.294496</td>\n",
       "    </tr>\n",
       "    <tr>\n",
       "      <th>2016-05</th>\n",
       "      <td>0.971823</td>\n",
       "      <td>0.794730</td>\n",
       "    </tr>\n",
       "  </tbody>\n",
       "</table>\n",
       "</div>"
      ],
      "text/plain": [
       "                                                  TotalQuantity  TotalRevenue\n",
       "CustomerContinent ProductCategory dateOfPurchase                             \n",
       "Africa            Automotive      2016-01             -0.874053     -0.680070\n",
       "                                  2016-02              1.406147      0.500698\n",
       "                                  2016-03              0.103175      0.479506\n",
       "                                  2016-04              1.514727      1.294496\n",
       "                                  2016-05              0.971823      0.794730"
      ]
     },
     "execution_count": 69,
     "metadata": {},
     "output_type": "execute_result"
    }
   ],
   "source": [
    "scaled_y.head()"
   ]
  },
  {
   "cell_type": "code",
   "execution_count": 70,
   "metadata": {},
   "outputs": [],
   "source": [
    "# scaler.inverse_transform(y_train)"
   ]
  },
  {
   "cell_type": "code",
   "execution_count": 71,
   "metadata": {},
   "outputs": [],
   "source": [
    "forecasters = [(\"trend\", PolynomialTrendForecaster()),(\"naive\", NaiveForecaster())]\n",
    "model_six = EnsembleForecaster(forecasters= forecasters, weights= [4,10])\n",
    "model_six = model_six.fit(y = scaled_y, fh =fh)\n",
    "predict_six = model_six.predict()\n",
    "# predicted = scaler.inverse_transform(predict_six)\n",
    "# score_six = r2_score(y_validate, predicted)\n",
    "# score_six"
   ]
  },
  {
   "cell_type": "code",
   "execution_count": 72,
   "metadata": {},
   "outputs": [
    {
     "data": {
      "text/html": [
       "<div>\n",
       "<style scoped>\n",
       "    .dataframe tbody tr th:only-of-type {\n",
       "        vertical-align: middle;\n",
       "    }\n",
       "\n",
       "    .dataframe tbody tr th {\n",
       "        vertical-align: top;\n",
       "    }\n",
       "\n",
       "    .dataframe thead th {\n",
       "        text-align: right;\n",
       "    }\n",
       "</style>\n",
       "<table border=\"1\" class=\"dataframe\">\n",
       "  <thead>\n",
       "    <tr style=\"text-align: right;\">\n",
       "      <th></th>\n",
       "      <th></th>\n",
       "      <th></th>\n",
       "      <th>TotalQuantity</th>\n",
       "      <th>TotalRevenue</th>\n",
       "    </tr>\n",
       "    <tr>\n",
       "      <th>CustomerContinent</th>\n",
       "      <th>ProductCategory</th>\n",
       "      <th>dateOfPurchase</th>\n",
       "      <th></th>\n",
       "      <th></th>\n",
       "    </tr>\n",
       "  </thead>\n",
       "  <tbody>\n",
       "    <tr>\n",
       "      <th rowspan=\"5\" valign=\"top\">Africa</th>\n",
       "      <th rowspan=\"5\" valign=\"top\">Automotive</th>\n",
       "      <th>2019-01</th>\n",
       "      <td>-0.042190</td>\n",
       "      <td>0.296996</td>\n",
       "    </tr>\n",
       "    <tr>\n",
       "      <th>2019-02</th>\n",
       "      <td>-0.042781</td>\n",
       "      <td>0.301099</td>\n",
       "    </tr>\n",
       "    <tr>\n",
       "      <th>2019-03</th>\n",
       "      <td>-0.043372</td>\n",
       "      <td>0.305201</td>\n",
       "    </tr>\n",
       "    <tr>\n",
       "      <th>2019-04</th>\n",
       "      <td>-0.043963</td>\n",
       "      <td>0.309304</td>\n",
       "    </tr>\n",
       "    <tr>\n",
       "      <th>2019-05</th>\n",
       "      <td>-0.044554</td>\n",
       "      <td>0.313407</td>\n",
       "    </tr>\n",
       "  </tbody>\n",
       "</table>\n",
       "</div>"
      ],
      "text/plain": [
       "                                                  TotalQuantity  TotalRevenue\n",
       "CustomerContinent ProductCategory dateOfPurchase                             \n",
       "Africa            Automotive      2019-01             -0.042190      0.296996\n",
       "                                  2019-02             -0.042781      0.301099\n",
       "                                  2019-03             -0.043372      0.305201\n",
       "                                  2019-04             -0.043963      0.309304\n",
       "                                  2019-05             -0.044554      0.313407"
      ]
     },
     "execution_count": 72,
     "metadata": {},
     "output_type": "execute_result"
    }
   ],
   "source": [
    "predict_six.head()"
   ]
  },
  {
   "cell_type": "code",
   "execution_count": 73,
   "metadata": {},
   "outputs": [
    {
     "data": {
      "text/plain": [
       "array([[   8.66122449, 5740.47188662],\n",
       "       [   8.65578231, 5760.54025544],\n",
       "       [   8.65034014, 5780.60862426],\n",
       "       ...,\n",
       "       [   7.30678434, 4494.12079328],\n",
       "       [   7.31575657, 4505.60902715],\n",
       "       [   7.32472881, 4517.09726102]])"
      ]
     },
     "execution_count": 73,
     "metadata": {},
     "output_type": "execute_result"
    }
   ],
   "source": [
    "predicted_index = predict_six.index\n",
    "predicted_columns = predict_six.columns\n",
    "\n",
    "inversed_prediction = scaler.inverse_transform(predict_six)\n",
    "inversed_prediction"
   ]
  },
  {
   "cell_type": "code",
   "execution_count": 74,
   "metadata": {},
   "outputs": [
    {
     "data": {
      "text/html": [
       "<div>\n",
       "<style scoped>\n",
       "    .dataframe tbody tr th:only-of-type {\n",
       "        vertical-align: middle;\n",
       "    }\n",
       "\n",
       "    .dataframe tbody tr th {\n",
       "        vertical-align: top;\n",
       "    }\n",
       "\n",
       "    .dataframe thead th {\n",
       "        text-align: right;\n",
       "    }\n",
       "</style>\n",
       "<table border=\"1\" class=\"dataframe\">\n",
       "  <thead>\n",
       "    <tr style=\"text-align: right;\">\n",
       "      <th></th>\n",
       "      <th></th>\n",
       "      <th></th>\n",
       "      <th>TotalQuantity</th>\n",
       "      <th>TotalRevenue</th>\n",
       "    </tr>\n",
       "    <tr>\n",
       "      <th>CustomerContinent</th>\n",
       "      <th>ProductCategory</th>\n",
       "      <th>dateOfPurchase</th>\n",
       "      <th></th>\n",
       "      <th></th>\n",
       "    </tr>\n",
       "  </thead>\n",
       "  <tbody>\n",
       "    <tr>\n",
       "      <th rowspan=\"5\" valign=\"top\">Africa</th>\n",
       "      <th rowspan=\"5\" valign=\"top\">Automotive</th>\n",
       "      <th>2019-01</th>\n",
       "      <td>8.661224</td>\n",
       "      <td>5740.471887</td>\n",
       "    </tr>\n",
       "    <tr>\n",
       "      <th>2019-02</th>\n",
       "      <td>8.655782</td>\n",
       "      <td>5760.540255</td>\n",
       "    </tr>\n",
       "    <tr>\n",
       "      <th>2019-03</th>\n",
       "      <td>8.650340</td>\n",
       "      <td>5780.608624</td>\n",
       "    </tr>\n",
       "    <tr>\n",
       "      <th>2019-04</th>\n",
       "      <td>8.644898</td>\n",
       "      <td>5800.676993</td>\n",
       "    </tr>\n",
       "    <tr>\n",
       "      <th>2019-05</th>\n",
       "      <td>8.639456</td>\n",
       "      <td>5820.745362</td>\n",
       "    </tr>\n",
       "  </tbody>\n",
       "</table>\n",
       "</div>"
      ],
      "text/plain": [
       "                                                  TotalQuantity  TotalRevenue\n",
       "CustomerContinent ProductCategory dateOfPurchase                             \n",
       "Africa            Automotive      2019-01              8.661224   5740.471887\n",
       "                                  2019-02              8.655782   5760.540255\n",
       "                                  2019-03              8.650340   5780.608624\n",
       "                                  2019-04              8.644898   5800.676993\n",
       "                                  2019-05              8.639456   5820.745362"
      ]
     },
     "execution_count": 74,
     "metadata": {},
     "output_type": "execute_result"
    }
   ],
   "source": [
    "predicted_data = pd.DataFrame(inversed_prediction, index = predicted_index, columns = predicted_columns)\n",
    "predicted_data.head()"
   ]
  },
  {
   "cell_type": "code",
   "execution_count": 75,
   "metadata": {},
   "outputs": [
    {
     "data": {
      "text/plain": [
       "-0.11239237731372087"
      ]
     },
     "execution_count": 75,
     "metadata": {},
     "output_type": "execute_result"
    }
   ],
   "source": [
    "score_six = r2_score(y_validate, predicted_data)\n",
    "score_six"
   ]
  },
  {
   "cell_type": "code",
   "execution_count": 76,
   "metadata": {},
   "outputs": [
    {
     "data": {
      "text/html": [
       "<div>\n",
       "<style scoped>\n",
       "    .dataframe tbody tr th:only-of-type {\n",
       "        vertical-align: middle;\n",
       "    }\n",
       "\n",
       "    .dataframe tbody tr th {\n",
       "        vertical-align: top;\n",
       "    }\n",
       "\n",
       "    .dataframe thead th {\n",
       "        text-align: right;\n",
       "    }\n",
       "</style>\n",
       "<table border=\"1\" class=\"dataframe\">\n",
       "  <thead>\n",
       "    <tr style=\"text-align: right;\">\n",
       "      <th></th>\n",
       "      <th></th>\n",
       "      <th></th>\n",
       "      <th>TotalQuantity</th>\n",
       "      <th>TotalRevenue</th>\n",
       "    </tr>\n",
       "    <tr>\n",
       "      <th>CustomerContinent</th>\n",
       "      <th>ProductCategory</th>\n",
       "      <th>dateOfPurchase</th>\n",
       "      <th></th>\n",
       "      <th></th>\n",
       "    </tr>\n",
       "  </thead>\n",
       "  <tbody>\n",
       "    <tr>\n",
       "      <th rowspan=\"5\" valign=\"top\">Africa</th>\n",
       "      <th rowspan=\"5\" valign=\"top\">Automotive</th>\n",
       "      <th>2019-01</th>\n",
       "      <td>3.0</td>\n",
       "      <td>2262.69</td>\n",
       "    </tr>\n",
       "    <tr>\n",
       "      <th>2019-02</th>\n",
       "      <td>11.0</td>\n",
       "      <td>7667.67</td>\n",
       "    </tr>\n",
       "    <tr>\n",
       "      <th>2019-03</th>\n",
       "      <td>49.0</td>\n",
       "      <td>26881.05</td>\n",
       "    </tr>\n",
       "    <tr>\n",
       "      <th>2019-04</th>\n",
       "      <td>20.0</td>\n",
       "      <td>15699.49</td>\n",
       "    </tr>\n",
       "    <tr>\n",
       "      <th>2019-05</th>\n",
       "      <td>19.0</td>\n",
       "      <td>10007.80</td>\n",
       "    </tr>\n",
       "  </tbody>\n",
       "</table>\n",
       "</div>"
      ],
      "text/plain": [
       "                                                  TotalQuantity  TotalRevenue\n",
       "CustomerContinent ProductCategory dateOfPurchase                             \n",
       "Africa            Automotive      2019-01                   3.0       2262.69\n",
       "                                  2019-02                  11.0       7667.67\n",
       "                                  2019-03                  49.0      26881.05\n",
       "                                  2019-04                  20.0      15699.49\n",
       "                                  2019-05                  19.0      10007.80"
      ]
     },
     "execution_count": 76,
     "metadata": {},
     "output_type": "execute_result"
    }
   ],
   "source": [
    "y_validate.head()"
   ]
  },
  {
   "attachments": {},
   "cell_type": "markdown",
   "metadata": {},
   "source": [
    "Applying exogenous data"
   ]
  },
  {
   "cell_type": "code",
   "execution_count": 77,
   "metadata": {},
   "outputs": [
    {
     "data": {
      "text/plain": [
       "Index(['CustomerContinent', 'ProductCategory', 'dateOfPurchase',\n",
       "       'TotalQuantity', 'TotalRevenue', 'AvgPrice', 'MedPrice', 'AvgCost',\n",
       "       'AvgDiscount'],\n",
       "      dtype='object')"
      ]
     },
     "execution_count": 77,
     "metadata": {},
     "output_type": "execute_result"
    }
   ],
   "source": [
    "model_data.columns"
   ]
  },
  {
   "cell_type": "code",
   "execution_count": 78,
   "metadata": {},
   "outputs": [],
   "source": [
    "X= model_data[['AvgPrice', 'MedPrice', 'AvgCost',\n",
    "       'AvgDiscount']]"
   ]
  },
  {
   "cell_type": "code",
   "execution_count": 79,
   "metadata": {},
   "outputs": [],
   "source": [
    "forecasters = all_estimators(\n",
    "    \"forecaster\", as_dataframe=True, return_tags=[\"scitype:y\", \"y_inner_mtype\", \"ignores-exogeneous-X\"]\n",
    ")"
   ]
  },
  {
   "cell_type": "code",
   "execution_count": 80,
   "metadata": {},
   "outputs": [],
   "source": [
    "# forecasters"
   ]
  },
  {
   "cell_type": "code",
   "execution_count": 81,
   "metadata": {},
   "outputs": [],
   "source": [
    "multi_forecasters = forecasters[forecasters[\"scitype:y\"] != 'univariate']"
   ]
  },
  {
   "cell_type": "code",
   "execution_count": 82,
   "metadata": {},
   "outputs": [
    {
     "data": {
      "text/html": [
       "<div>\n",
       "<style scoped>\n",
       "    .dataframe tbody tr th:only-of-type {\n",
       "        vertical-align: middle;\n",
       "    }\n",
       "\n",
       "    .dataframe tbody tr th {\n",
       "        vertical-align: top;\n",
       "    }\n",
       "\n",
       "    .dataframe thead th {\n",
       "        text-align: right;\n",
       "    }\n",
       "</style>\n",
       "<table border=\"1\" class=\"dataframe\">\n",
       "  <thead>\n",
       "    <tr style=\"text-align: right;\">\n",
       "      <th></th>\n",
       "      <th>name</th>\n",
       "      <th>estimator</th>\n",
       "      <th>scitype:y</th>\n",
       "      <th>y_inner_mtype</th>\n",
       "      <th>ignores-exogeneous-X</th>\n",
       "    </tr>\n",
       "  </thead>\n",
       "  <tbody>\n",
       "    <tr>\n",
       "      <th>7</th>\n",
       "      <td>ColumnEnsembleForecaster</td>\n",
       "      <td>&lt;class 'sktime.forecasting.compose._column_ens...</td>\n",
       "      <td>both</td>\n",
       "      <td>[pd.DataFrame, pd-multiindex, pd_multiindex_hier]</td>\n",
       "      <td>False</td>\n",
       "    </tr>\n",
       "    <tr>\n",
       "      <th>15</th>\n",
       "      <td>DynamicFactor</td>\n",
       "      <td>&lt;class 'sktime.forecasting.dynamic_factor.Dyna...</td>\n",
       "      <td>multivariate</td>\n",
       "      <td>pd.DataFrame</td>\n",
       "      <td>False</td>\n",
       "    </tr>\n",
       "    <tr>\n",
       "      <th>16</th>\n",
       "      <td>EnsembleForecaster</td>\n",
       "      <td>&lt;class 'sktime.forecasting.compose._ensemble.E...</td>\n",
       "      <td>both</td>\n",
       "      <td>[pd.DataFrame, pd-multiindex, pd_multiindex_hier]</td>\n",
       "      <td>False</td>\n",
       "    </tr>\n",
       "    <tr>\n",
       "      <th>18</th>\n",
       "      <td>ForecastByLevel</td>\n",
       "      <td>&lt;class 'sktime.forecasting.compose._grouped.Fo...</td>\n",
       "      <td>both</td>\n",
       "      <td>[numpy3D, dask_series, np.ndarray, pd_multiind...</td>\n",
       "      <td>False</td>\n",
       "    </tr>\n",
       "    <tr>\n",
       "      <th>20</th>\n",
       "      <td>ForecastingGridSearchCV</td>\n",
       "      <td>&lt;class 'sktime.forecasting.model_selection._tu...</td>\n",
       "      <td>both</td>\n",
       "      <td>pd.Series</td>\n",
       "      <td>True</td>\n",
       "    </tr>\n",
       "    <tr>\n",
       "      <th>21</th>\n",
       "      <td>ForecastingPipeline</td>\n",
       "      <td>&lt;class 'sktime.forecasting.compose._pipeline.F...</td>\n",
       "      <td>both</td>\n",
       "      <td>[pd.DataFrame, pd-multiindex, pd_multiindex_hier]</td>\n",
       "      <td>False</td>\n",
       "    </tr>\n",
       "    <tr>\n",
       "      <th>22</th>\n",
       "      <td>ForecastingRandomizedSearchCV</td>\n",
       "      <td>&lt;class 'sktime.forecasting.model_selection._tu...</td>\n",
       "      <td>both</td>\n",
       "      <td>pd.Series</td>\n",
       "      <td>True</td>\n",
       "    </tr>\n",
       "    <tr>\n",
       "      <th>24</th>\n",
       "      <td>HierarchyEnsembleForecaster</td>\n",
       "      <td>&lt;class 'sktime.forecasting.compose._hierarchy_...</td>\n",
       "      <td>both</td>\n",
       "      <td>[pd.DataFrame, pd-multiindex, pd_multiindex_hier]</td>\n",
       "      <td>False</td>\n",
       "    </tr>\n",
       "    <tr>\n",
       "      <th>27</th>\n",
       "      <td>MultiplexForecaster</td>\n",
       "      <td>&lt;class 'sktime.forecasting.compose._multiplexe...</td>\n",
       "      <td>both</td>\n",
       "      <td>[numpy3D, dask_series, np.ndarray, pd_multiind...</td>\n",
       "      <td>False</td>\n",
       "    </tr>\n",
       "    <tr>\n",
       "      <th>31</th>\n",
       "      <td>Permute</td>\n",
       "      <td>&lt;class 'sktime.forecasting.compose._pipeline.P...</td>\n",
       "      <td>both</td>\n",
       "      <td>[numpy3D, dask_series, np.ndarray, pd_multiind...</td>\n",
       "      <td>False</td>\n",
       "    </tr>\n",
       "    <tr>\n",
       "      <th>32</th>\n",
       "      <td>PluginParamsForecaster</td>\n",
       "      <td>&lt;class 'sktime.param_est.plugin.PluginParamsFo...</td>\n",
       "      <td>both</td>\n",
       "      <td>[pd.DataFrame, pd.Series]</td>\n",
       "      <td>False</td>\n",
       "    </tr>\n",
       "    <tr>\n",
       "      <th>46</th>\n",
       "      <td>TransformedTargetForecaster</td>\n",
       "      <td>&lt;class 'sktime.forecasting.compose._pipeline.T...</td>\n",
       "      <td>both</td>\n",
       "      <td>[pd.DataFrame, pd-multiindex, pd_multiindex_hier]</td>\n",
       "      <td>False</td>\n",
       "    </tr>\n",
       "    <tr>\n",
       "      <th>51</th>\n",
       "      <td>VAR</td>\n",
       "      <td>&lt;class 'sktime.forecasting.var.VAR'&gt;</td>\n",
       "      <td>multivariate</td>\n",
       "      <td>pd.DataFrame</td>\n",
       "      <td>True</td>\n",
       "    </tr>\n",
       "    <tr>\n",
       "      <th>52</th>\n",
       "      <td>VARMAX</td>\n",
       "      <td>&lt;class 'sktime.forecasting.varmax.VARMAX'&gt;</td>\n",
       "      <td>multivariate</td>\n",
       "      <td>pd.DataFrame</td>\n",
       "      <td>False</td>\n",
       "    </tr>\n",
       "    <tr>\n",
       "      <th>53</th>\n",
       "      <td>VECM</td>\n",
       "      <td>&lt;class 'sktime.forecasting.vecm.VECM'&gt;</td>\n",
       "      <td>multivariate</td>\n",
       "      <td>pd.DataFrame</td>\n",
       "      <td>False</td>\n",
       "    </tr>\n",
       "  </tbody>\n",
       "</table>\n",
       "</div>"
      ],
      "text/plain": [
       "                             name  \\\n",
       "7        ColumnEnsembleForecaster   \n",
       "15                  DynamicFactor   \n",
       "16             EnsembleForecaster   \n",
       "18                ForecastByLevel   \n",
       "20        ForecastingGridSearchCV   \n",
       "21            ForecastingPipeline   \n",
       "22  ForecastingRandomizedSearchCV   \n",
       "24    HierarchyEnsembleForecaster   \n",
       "27            MultiplexForecaster   \n",
       "31                        Permute   \n",
       "32         PluginParamsForecaster   \n",
       "46    TransformedTargetForecaster   \n",
       "51                            VAR   \n",
       "52                         VARMAX   \n",
       "53                           VECM   \n",
       "\n",
       "                                            estimator     scitype:y  \\\n",
       "7   <class 'sktime.forecasting.compose._column_ens...          both   \n",
       "15  <class 'sktime.forecasting.dynamic_factor.Dyna...  multivariate   \n",
       "16  <class 'sktime.forecasting.compose._ensemble.E...          both   \n",
       "18  <class 'sktime.forecasting.compose._grouped.Fo...          both   \n",
       "20  <class 'sktime.forecasting.model_selection._tu...          both   \n",
       "21  <class 'sktime.forecasting.compose._pipeline.F...          both   \n",
       "22  <class 'sktime.forecasting.model_selection._tu...          both   \n",
       "24  <class 'sktime.forecasting.compose._hierarchy_...          both   \n",
       "27  <class 'sktime.forecasting.compose._multiplexe...          both   \n",
       "31  <class 'sktime.forecasting.compose._pipeline.P...          both   \n",
       "32  <class 'sktime.param_est.plugin.PluginParamsFo...          both   \n",
       "46  <class 'sktime.forecasting.compose._pipeline.T...          both   \n",
       "51               <class 'sktime.forecasting.var.VAR'>  multivariate   \n",
       "52         <class 'sktime.forecasting.varmax.VARMAX'>  multivariate   \n",
       "53             <class 'sktime.forecasting.vecm.VECM'>  multivariate   \n",
       "\n",
       "                                        y_inner_mtype  ignores-exogeneous-X  \n",
       "7   [pd.DataFrame, pd-multiindex, pd_multiindex_hier]                 False  \n",
       "15                                       pd.DataFrame                 False  \n",
       "16  [pd.DataFrame, pd-multiindex, pd_multiindex_hier]                 False  \n",
       "18  [numpy3D, dask_series, np.ndarray, pd_multiind...                 False  \n",
       "20                                          pd.Series                  True  \n",
       "21  [pd.DataFrame, pd-multiindex, pd_multiindex_hier]                 False  \n",
       "22                                          pd.Series                  True  \n",
       "24  [pd.DataFrame, pd-multiindex, pd_multiindex_hier]                 False  \n",
       "27  [numpy3D, dask_series, np.ndarray, pd_multiind...                 False  \n",
       "31  [numpy3D, dask_series, np.ndarray, pd_multiind...                 False  \n",
       "32                          [pd.DataFrame, pd.Series]                 False  \n",
       "46  [pd.DataFrame, pd-multiindex, pd_multiindex_hier]                 False  \n",
       "51                                       pd.DataFrame                  True  \n",
       "52                                       pd.DataFrame                 False  \n",
       "53                                       pd.DataFrame                 False  "
      ]
     },
     "execution_count": 82,
     "metadata": {},
     "output_type": "execute_result"
    }
   ],
   "source": [
    "multi_forecasters"
   ]
  },
  {
   "cell_type": "code",
   "execution_count": 83,
   "metadata": {},
   "outputs": [],
   "source": [
    "# forecasters = [(\"trend\", PolynomialTrendForecaster()),(\"naive\", NaiveForecaster())]\n",
    "# model_seven  = EnsembleForecaster(forecasters= forecasters, weights= [4,10])\n",
    "# model_seven = model_seven.fit(y = scaled_y, X = X.values, fh =fh)\n",
    "# predict_seven = model_seven.predict()"
   ]
  },
  {
   "attachments": {},
   "cell_type": "markdown",
   "metadata": {},
   "source": [
    "using multivariate models as base forecasters for column Ensemble"
   ]
  },
  {
   "cell_type": "code",
   "execution_count": 84,
   "metadata": {},
   "outputs": [],
   "source": [
    "from sktime.forecasting.var import VAR\n",
    "from sktime.forecasting.varmax import VARMAX\n",
    "from sktime.forecasting.dynamic_factor import DynamicFactor\n",
    "from sktime.forecasting.model_selection._tune import ForecastingGridSearchCV\n",
    "from sktime.forecasting.compose._pipeline import Permute\n",
    "from sktime.forecasting.compose._pipeline import TransformedTargetForecaster\n",
    "from sktime.forecasting.compose._hierarchy_ensemble import HierarchyEnsembleForecaster\n",
    "import statsmodels\n"
   ]
  },
  {
   "cell_type": "code",
   "execution_count": 85,
   "metadata": {},
   "outputs": [],
   "source": [
    "forecaster_set = [(\"var\", VAR()), \n",
    "                  (\"varmax\", VARMAX())]"
   ]
  },
  {
   "cell_type": "code",
   "execution_count": 86,
   "metadata": {},
   "outputs": [
    {
     "name": "stderr",
     "output_type": "stream",
     "text": [
      "c:\\Users\\HP\\Downloads\\mybooks\\project\\hierarchical-forecasting\\.venv\\lib\\site-packages\\statsmodels\\base\\model.py:604: ConvergenceWarning: Maximum Likelihood optimization failed to converge. Check mle_retvals\n",
      "  warnings.warn(\"Maximum Likelihood optimization failed to \"\n",
      "c:\\Users\\HP\\Downloads\\mybooks\\project\\hierarchical-forecasting\\.venv\\lib\\site-packages\\statsmodels\\base\\model.py:604: ConvergenceWarning: Maximum Likelihood optimization failed to converge. Check mle_retvals\n",
      "  warnings.warn(\"Maximum Likelihood optimization failed to \"\n"
     ]
    }
   ],
   "source": [
    "\n",
    "model_eight = EnsembleForecaster(forecasters= forecaster_set, weights= [4,10])\n",
    "model_eight = model_eight.fit(y = scaled_y, fh =fh)\n",
    "predict_eight = model_eight.predict()"
   ]
  },
  {
   "cell_type": "code",
   "execution_count": 87,
   "metadata": {},
   "outputs": [
    {
     "data": {
      "text/html": [
       "<div>\n",
       "<style scoped>\n",
       "    .dataframe tbody tr th:only-of-type {\n",
       "        vertical-align: middle;\n",
       "    }\n",
       "\n",
       "    .dataframe tbody tr th {\n",
       "        vertical-align: top;\n",
       "    }\n",
       "\n",
       "    .dataframe thead th {\n",
       "        text-align: right;\n",
       "    }\n",
       "</style>\n",
       "<table border=\"1\" class=\"dataframe\">\n",
       "  <thead>\n",
       "    <tr style=\"text-align: right;\">\n",
       "      <th></th>\n",
       "      <th></th>\n",
       "      <th></th>\n",
       "      <th>TotalQuantity</th>\n",
       "      <th>TotalRevenue</th>\n",
       "    </tr>\n",
       "    <tr>\n",
       "      <th>CustomerContinent</th>\n",
       "      <th>ProductCategory</th>\n",
       "      <th>dateOfPurchase</th>\n",
       "      <th></th>\n",
       "      <th></th>\n",
       "    </tr>\n",
       "  </thead>\n",
       "  <tbody>\n",
       "    <tr>\n",
       "      <th rowspan=\"5\" valign=\"top\">Africa</th>\n",
       "      <th rowspan=\"5\" valign=\"top\">Automotive</th>\n",
       "      <th>2019-01</th>\n",
       "      <td>0.512409</td>\n",
       "      <td>0.439037</td>\n",
       "    </tr>\n",
       "    <tr>\n",
       "      <th>2019-02</th>\n",
       "      <td>0.443572</td>\n",
       "      <td>0.303534</td>\n",
       "    </tr>\n",
       "    <tr>\n",
       "      <th>2019-03</th>\n",
       "      <td>0.463387</td>\n",
       "      <td>0.321716</td>\n",
       "    </tr>\n",
       "    <tr>\n",
       "      <th>2019-04</th>\n",
       "      <td>0.460169</td>\n",
       "      <td>0.317503</td>\n",
       "    </tr>\n",
       "    <tr>\n",
       "      <th>2019-05</th>\n",
       "      <td>0.460842</td>\n",
       "      <td>0.318249</td>\n",
       "    </tr>\n",
       "  </tbody>\n",
       "</table>\n",
       "</div>"
      ],
      "text/plain": [
       "                                                  TotalQuantity  TotalRevenue\n",
       "CustomerContinent ProductCategory dateOfPurchase                             \n",
       "Africa            Automotive      2019-01              0.512409      0.439037\n",
       "                                  2019-02              0.443572      0.303534\n",
       "                                  2019-03              0.463387      0.321716\n",
       "                                  2019-04              0.460169      0.317503\n",
       "                                  2019-05              0.460842      0.318249"
      ]
     },
     "execution_count": 87,
     "metadata": {},
     "output_type": "execute_result"
    }
   ],
   "source": [
    "predict_eight.head()\n"
   ]
  },
  {
   "cell_type": "code",
   "execution_count": 88,
   "metadata": {},
   "outputs": [
    {
     "data": {
      "text/html": [
       "<div>\n",
       "<style scoped>\n",
       "    .dataframe tbody tr th:only-of-type {\n",
       "        vertical-align: middle;\n",
       "    }\n",
       "\n",
       "    .dataframe tbody tr th {\n",
       "        vertical-align: top;\n",
       "    }\n",
       "\n",
       "    .dataframe thead th {\n",
       "        text-align: right;\n",
       "    }\n",
       "</style>\n",
       "<table border=\"1\" class=\"dataframe\">\n",
       "  <thead>\n",
       "    <tr style=\"text-align: right;\">\n",
       "      <th></th>\n",
       "      <th></th>\n",
       "      <th></th>\n",
       "      <th>TotalQuantity</th>\n",
       "      <th>TotalRevenue</th>\n",
       "    </tr>\n",
       "    <tr>\n",
       "      <th>CustomerContinent</th>\n",
       "      <th>ProductCategory</th>\n",
       "      <th>dateOfPurchase</th>\n",
       "      <th></th>\n",
       "      <th></th>\n",
       "    </tr>\n",
       "  </thead>\n",
       "  <tbody>\n",
       "    <tr>\n",
       "      <th rowspan=\"5\" valign=\"top\">Africa</th>\n",
       "      <th rowspan=\"5\" valign=\"top\">Automotive</th>\n",
       "      <th>2019-01</th>\n",
       "      <td>13.768926</td>\n",
       "      <td>6435.248388</td>\n",
       "    </tr>\n",
       "    <tr>\n",
       "      <th>2019-02</th>\n",
       "      <td>13.134957</td>\n",
       "      <td>5772.451854</td>\n",
       "    </tr>\n",
       "    <tr>\n",
       "      <th>2019-03</th>\n",
       "      <td>13.317444</td>\n",
       "      <td>5861.388702</td>\n",
       "    </tr>\n",
       "    <tr>\n",
       "      <th>2019-04</th>\n",
       "      <td>13.287810</td>\n",
       "      <td>5840.783034</td>\n",
       "    </tr>\n",
       "    <tr>\n",
       "      <th>2019-05</th>\n",
       "      <td>13.294009</td>\n",
       "      <td>5844.431664</td>\n",
       "    </tr>\n",
       "  </tbody>\n",
       "</table>\n",
       "</div>"
      ],
      "text/plain": [
       "                                                  TotalQuantity  TotalRevenue\n",
       "CustomerContinent ProductCategory dateOfPurchase                             \n",
       "Africa            Automotive      2019-01             13.768926   6435.248388\n",
       "                                  2019-02             13.134957   5772.451854\n",
       "                                  2019-03             13.317444   5861.388702\n",
       "                                  2019-04             13.287810   5840.783034\n",
       "                                  2019-05             13.294009   5844.431664"
      ]
     },
     "execution_count": 88,
     "metadata": {},
     "output_type": "execute_result"
    }
   ],
   "source": [
    "predicted_index = predict_eight.index\n",
    "predicted_columns = predict_eight.columns\n",
    "\n",
    "inversed_prediction = scaler.inverse_transform(predict_eight)\n",
    "inversed_prediction\n",
    "predicted_data = pd.DataFrame(inversed_prediction, index = predicted_index, columns = predicted_columns)\n",
    "predicted_data.head()\n"
   ]
  },
  {
   "cell_type": "code",
   "execution_count": 89,
   "metadata": {},
   "outputs": [
    {
     "data": {
      "text/plain": [
       "0.21635772638645562"
      ]
     },
     "execution_count": 89,
     "metadata": {},
     "output_type": "execute_result"
    }
   ],
   "source": [
    "score_eight = r2_score(y_validate, predicted_data)\n",
    "score_eight"
   ]
  },
  {
   "cell_type": "code",
   "execution_count": 90,
   "metadata": {},
   "outputs": [],
   "source": [
    "from sktime.forecasting.compose._multiplexer import MultiplexForecaster"
   ]
  },
  {
   "cell_type": "code",
   "execution_count": 91,
   "metadata": {},
   "outputs": [
    {
     "data": {
      "text/plain": [
       "0.2157577423184316"
      ]
     },
     "execution_count": 91,
     "metadata": {},
     "output_type": "execute_result"
    }
   ],
   "source": [
    "forecaster_set = [(\"var\", VAR()), \n",
    "                  (\"varmax\", VARMAX())]\n",
    "\n",
    "model_nine = MultiplexForecaster(forecasters= forecaster_set)\n",
    "model_nine = model_nine.fit(y = scaled_y, fh =fh)\n",
    "predict_nine = model_nine.predict()\n",
    "predict_nine.head()\n",
    "\n",
    "predicted_index = predict_nine.index\n",
    "predicted_columns = predict_nine.columns\n",
    "\n",
    "inversed_prediction = scaler.inverse_transform(predict_nine)\n",
    "inversed_prediction\n",
    "predicted_data = pd.DataFrame(inversed_prediction, index = predicted_index, columns = predicted_columns)\n",
    "predicted_data.head()\n",
    "\n",
    "score_nine = r2_score(y_validate, predicted_data)\n",
    "score_nine"
   ]
  },
  {
   "cell_type": "code",
   "execution_count": 92,
   "metadata": {},
   "outputs": [],
   "source": [
    "from sktime.forecasting.model_selection import SlidingWindowSplitter\n",
    "forecaster_set = [(\"var\", VAR()), \n",
    "                  (\"varmax\", VARMAX())]\n",
    "fh = ForecastingHorizon(\n",
    "    pd.PeriodIndex(pd.date_range(\"2019-01\", periods= 24, freq=\"M\")), is_relative=False\n",
    ")\n",
    "horizon=pd.Series({\"CustomerContinent\": 24, \"ProductCategory\": 24})\n",
    "cv = SlidingWindowSplitter(fh= horizon, window_length=24)"
   ]
  },
  {
   "cell_type": "code",
   "execution_count": 93,
   "metadata": {},
   "outputs": [],
   "source": [
    "# param_grid = {\n",
    "#     \"forecasters__var__trend\" : [\"c\", \"ct\", \"ctt\", \"n\"],\n",
    "#     \"forecasters__var__ic\": ['aic', 'fpe', 'hqic', 'bic', None],\n",
    "#     \"forecasters__var__method\":[\"ols\",\"gls\", \"gmm\",\"ml\", \"irf\",\"mvd\"],\n",
    "#     \"forecasters__varmax__trend\": [\"n\", \"c\",\"t\", \"ct\"],\n",
    "#     \"forecasters__varmax__method\":[\"newton\",\"nf\",\"bfgs\",\"lbfgs\", \"powell\",\"cg\",\"ncg\",\"basinhopping\"]\n",
    "# }\n",
    "# param_grid = [    {        \"forecasters\": [\"var\"],\n",
    "#         \"forecasters__trend\": [\"c\", \"ct\", \"ctt\", \"n\"],\n",
    "#         \"forecasters__ic\": ['aic', 'fpe', 'hqic', 'bic', None],\n",
    "#         \"forecaster__method\": [\"ols\", \"gls\", \"gmm\", \"ml\", \"irf\", \"mvd\"],\n",
    "#     },\n",
    "#     {\n",
    "#         \"forecasters\": [\"varmax\"],\n",
    "#         \"forecasters__trend\": [\"n\", \"c\", \"t\", \"ct\"],\n",
    "#         \"forecasters__method\": [\"newton\", \"nf\", \"bfgs\", \"lbfgs\", \"powell\", \"cg\", \"ncg\", \"basinhopping\"],\n",
    "#     },\n",
    "# ]\n",
    "\n",
    "\n",
    "# model_ten = ForecastingGridSearchCV(forecaster = MultiplexForecaster(forecasters= forecaster_set),\n",
    "#                                     cv =cv , param_grid = param_grid)\n"
   ]
  },
  {
   "cell_type": "code",
   "execution_count": 94,
   "metadata": {},
   "outputs": [],
   "source": [
    "# param_grid"
   ]
  },
  {
   "cell_type": "code",
   "execution_count": 95,
   "metadata": {},
   "outputs": [],
   "source": [
    "# from sktime.performance_metrics.forecasting import mean_absolute_percentage_error\n",
    "# # def my_custom_scoring_function(y_true, y_pred):\n",
    "# #     return r2_score(y_true, y_pred)\n",
    "\n",
    "\n",
    "# model_ten = ForecastingGridSearchCV(\n",
    "#     forecaster=MultiplexForecaster(forecasters=forecaster_set),\n",
    "#     cv=cv,\n",
    "#     param_grid=param_grid,\n",
    "#     scoring= mean_absolute_percentage_error,\n",
    "# )\n",
    "\n",
    "# model_ten.fit(y=scaled_y)\n"
   ]
  },
  {
   "cell_type": "code",
   "execution_count": 96,
   "metadata": {},
   "outputs": [],
   "source": [
    "\n",
    "# import numpy as np\n",
    "\n",
    "\n",
    "# # Define forecast horizon\n",
    "# # fh = ForecastingHorizon(y_validate.index, is_relative=False)\n",
    "\n",
    "# # Define base forecasters\n",
    "# forecaster1 = VAR()\n",
    "# forecaster2 = VARMAX( trend='n', error_cov_type='unstructured')\n",
    "\n",
    "# # Define hyperparameters grid\n",
    "# param_grid = {'weights': [0.5, 0.6, 0.7]}\n",
    "\n",
    "# # Define multiplex forecaster\n",
    "# forecaster = EnsembleForecaster(forecasters= forecaster_set, weights=[4,10])\n",
    "\n",
    "# # Define grid search object\n",
    "# gscv = ForecastingGridSearchCV(forecaster, param_grid=param_grid, cv=cv,)\n",
    "\n",
    "# # Fit and predict\n",
    "# gscv.fit(scaled_y,  fh )\n",
    "# y_pred = gscv.predict()\n",
    "\n",
    "# # Print best parameters\n",
    "# print(\"Best parameters: \", gscv.best_params_)"
   ]
  },
  {
   "cell_type": "code",
   "execution_count": 97,
   "metadata": {},
   "outputs": [],
   "source": [
    "# model_ten = model_ten.fit(y = scaled_y)\n"
   ]
  },
  {
   "cell_type": "code",
   "execution_count": 98,
   "metadata": {},
   "outputs": [],
   "source": [
    "# predict_ten = model_ten.predict()\n",
    "# predict_ten.head()\n",
    "\n",
    "# predicted_index = predict_ten.index\n",
    "# predicted_columns = predict_ten.columns\n",
    "\n",
    "# inversed_prediction = scaler.inverse_transform(predict_ten)\n",
    "# inversed_prediction\n",
    "# predicted_data = pd.DataFrame(inversed_prediction, index = predicted_index, columns = predicted_columns)\n",
    "# predicted_data.head()\n",
    "\n",
    "# score_ten = r2_score(y_validate, predicted_data)\n",
    "# score_ten"
   ]
  },
  {
   "cell_type": "code",
   "execution_count": 99,
   "metadata": {},
   "outputs": [
    {
     "data": {
      "text/plain": [
       "{'dates': None,\n",
       " 'freq': None,\n",
       " 'ic': None,\n",
       " 'maxlags': None,\n",
       " 'method': 'ols',\n",
       " 'missing': 'none',\n",
       " 'random_state': None,\n",
       " 'trend': 'c',\n",
       " 'verbose': False}"
      ]
     },
     "execution_count": 99,
     "metadata": {},
     "output_type": "execute_result"
    }
   ],
   "source": [
    "VAR().get_params()"
   ]
  },
  {
   "cell_type": "code",
   "execution_count": 100,
   "metadata": {},
   "outputs": [
    {
     "data": {
      "text/plain": [
       "dict_keys(['callback', 'cov_kwds', 'cov_type', 'disp', 'dynamic', 'enforce_invertibility', 'enforce_stationarity', 'error_cov_type', 'flags', 'full_output', 'includes_fixed', 'information_set', 'low_memory', 'maxiter', 'measurement_error', 'method', 'optim_complex_step', 'optim_hessian', 'optim_score', 'order', 'return_params', 'signal_only', 'start_params', 'suppress_warnings', 'transformed', 'trend', 'trend_offset'])"
      ]
     },
     "execution_count": 100,
     "metadata": {},
     "output_type": "execute_result"
    }
   ],
   "source": [
    "VARMAX().get_params().keys()"
   ]
  },
  {
   "cell_type": "code",
   "execution_count": 101,
   "metadata": {},
   "outputs": [
    {
     "data": {
      "text/plain": [
       "dict_keys(['sp', 'strategy', 'window_length'])"
      ]
     },
     "execution_count": 101,
     "metadata": {},
     "output_type": "execute_result"
    }
   ],
   "source": [
    "NaiveForecaster().get_params().keys()"
   ]
  },
  {
   "cell_type": "code",
   "execution_count": null,
   "metadata": {},
   "outputs": [],
   "source": []
  }
 ],
 "metadata": {
  "kernelspec": {
   "display_name": ".venv",
   "language": "python",
   "name": "python3"
  },
  "language_info": {
   "codemirror_mode": {
    "name": "ipython",
    "version": 3
   },
   "file_extension": ".py",
   "mimetype": "text/x-python",
   "name": "python",
   "nbconvert_exporter": "python",
   "pygments_lexer": "ipython3",
   "version": "3.9.13"
  },
  "orig_nbformat": 4,
  "vscode": {
   "interpreter": {
    "hash": "07e3f9f0bd263ebdc5ed306d412323439adec39cc42c2eb1f0ee9c6ddc668827"
   }
  }
 },
 "nbformat": 4,
 "nbformat_minor": 2
}
