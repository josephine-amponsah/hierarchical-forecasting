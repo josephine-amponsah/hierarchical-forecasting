{
 "cells": [
  {
   "cell_type": "code",
   "execution_count": 1,
   "metadata": {},
   "outputs": [],
   "source": [
    "import pandas as pd \n",
    "import numpy as np \n",
    "import matplotlib.pyplot as plt  \n",
    "import seaborn as sns"
   ]
  },
  {
   "cell_type": "code",
   "execution_count": 2,
   "metadata": {},
   "outputs": [],
   "source": [
    "data_df = pd.read_csv(r\"../data/rev-data.csv\", index_col = 0)"
   ]
  },
  {
   "cell_type": "code",
   "execution_count": 3,
   "metadata": {},
   "outputs": [
    {
     "name": "stdout",
     "output_type": "stream",
     "text": [
      "<class 'pandas.core.frame.DataFrame'>\n",
      "Int64Index: 676 entries, 0 to 675\n",
      "Data columns (total 32 columns):\n",
      " #   Column                      Non-Null Count  Dtype  \n",
      "---  ------                      --------------  -----  \n",
      " 0   product_id                  676 non-null    object \n",
      " 1   product_category_name       676 non-null    object \n",
      " 2   month_year                  676 non-null    object \n",
      " 3   qty                         676 non-null    int64  \n",
      " 4   total_price                 676 non-null    float64\n",
      " 5   freight_price               676 non-null    float64\n",
      " 6   unit_price                  676 non-null    float64\n",
      " 7   product_name_lenght         676 non-null    int64  \n",
      " 8   product_description_lenght  676 non-null    int64  \n",
      " 9   product_photos_qty          676 non-null    int64  \n",
      " 10  product_weight_g            676 non-null    int64  \n",
      " 11  product_score               676 non-null    float64\n",
      " 12  customers                   676 non-null    int64  \n",
      " 13  weekday                     676 non-null    int64  \n",
      " 14  weekend                     676 non-null    int64  \n",
      " 15  holiday                     676 non-null    int64  \n",
      " 16  month                       676 non-null    int64  \n",
      " 17  year                        676 non-null    int64  \n",
      " 18  s                           676 non-null    float64\n",
      " 19  volume                      676 non-null    int64  \n",
      " 20  comp_1                      676 non-null    float64\n",
      " 21  ps1                         676 non-null    float64\n",
      " 22  fp1                         676 non-null    float64\n",
      " 23  comp_2                      676 non-null    float64\n",
      " 24  ps2                         676 non-null    float64\n",
      " 25  fp2                         676 non-null    float64\n",
      " 26  comp_3                      676 non-null    float64\n",
      " 27  ps3                         676 non-null    float64\n",
      " 28  fp3                         676 non-null    float64\n",
      " 29  lag_price                   676 non-null    float64\n",
      " 30  revenue                     676 non-null    float64\n",
      " 31  total_revenue               676 non-null    float64\n",
      "dtypes: float64(17), int64(12), object(3)\n",
      "memory usage: 174.3+ KB\n"
     ]
    }
   ],
   "source": [
    "data_df.info()"
   ]
  },
  {
   "cell_type": "code",
   "execution_count": 4,
   "metadata": {},
   "outputs": [
    {
     "data": {
      "text/html": [
       "<div>\n",
       "<style scoped>\n",
       "    .dataframe tbody tr th:only-of-type {\n",
       "        vertical-align: middle;\n",
       "    }\n",
       "\n",
       "    .dataframe tbody tr th {\n",
       "        vertical-align: top;\n",
       "    }\n",
       "\n",
       "    .dataframe thead th {\n",
       "        text-align: right;\n",
       "    }\n",
       "</style>\n",
       "<table border=\"1\" class=\"dataframe\">\n",
       "  <thead>\n",
       "    <tr style=\"text-align: right;\">\n",
       "      <th></th>\n",
       "      <th>product_id</th>\n",
       "      <th>product_category_name</th>\n",
       "      <th>month_year</th>\n",
       "      <th>qty</th>\n",
       "      <th>total_price</th>\n",
       "      <th>freight_price</th>\n",
       "      <th>unit_price</th>\n",
       "      <th>product_name_lenght</th>\n",
       "      <th>product_description_lenght</th>\n",
       "      <th>product_photos_qty</th>\n",
       "      <th>...</th>\n",
       "      <th>fp1</th>\n",
       "      <th>comp_2</th>\n",
       "      <th>ps2</th>\n",
       "      <th>fp2</th>\n",
       "      <th>comp_3</th>\n",
       "      <th>ps3</th>\n",
       "      <th>fp3</th>\n",
       "      <th>lag_price</th>\n",
       "      <th>revenue</th>\n",
       "      <th>total_revenue</th>\n",
       "    </tr>\n",
       "  </thead>\n",
       "  <tbody>\n",
       "    <tr>\n",
       "      <th>0</th>\n",
       "      <td>bed1</td>\n",
       "      <td>bed_bath_table</td>\n",
       "      <td>2020-05-01</td>\n",
       "      <td>1</td>\n",
       "      <td>45.95</td>\n",
       "      <td>15.100000</td>\n",
       "      <td>45.95</td>\n",
       "      <td>39</td>\n",
       "      <td>161</td>\n",
       "      <td>2</td>\n",
       "      <td>...</td>\n",
       "      <td>15.011897</td>\n",
       "      <td>215.000000</td>\n",
       "      <td>4.4</td>\n",
       "      <td>8.760000</td>\n",
       "      <td>45.95</td>\n",
       "      <td>4.0</td>\n",
       "      <td>15.100000</td>\n",
       "      <td>45.90</td>\n",
       "      <td>45.95</td>\n",
       "      <td>61.050000</td>\n",
       "    </tr>\n",
       "    <tr>\n",
       "      <th>1</th>\n",
       "      <td>bed1</td>\n",
       "      <td>bed_bath_table</td>\n",
       "      <td>2020-06-01</td>\n",
       "      <td>3</td>\n",
       "      <td>137.85</td>\n",
       "      <td>12.933333</td>\n",
       "      <td>45.95</td>\n",
       "      <td>39</td>\n",
       "      <td>161</td>\n",
       "      <td>2</td>\n",
       "      <td>...</td>\n",
       "      <td>14.769216</td>\n",
       "      <td>209.000000</td>\n",
       "      <td>4.4</td>\n",
       "      <td>21.322000</td>\n",
       "      <td>45.95</td>\n",
       "      <td>4.0</td>\n",
       "      <td>12.933333</td>\n",
       "      <td>45.95</td>\n",
       "      <td>137.85</td>\n",
       "      <td>150.783333</td>\n",
       "    </tr>\n",
       "    <tr>\n",
       "      <th>2</th>\n",
       "      <td>bed1</td>\n",
       "      <td>bed_bath_table</td>\n",
       "      <td>2020-07-01</td>\n",
       "      <td>6</td>\n",
       "      <td>275.70</td>\n",
       "      <td>14.840000</td>\n",
       "      <td>45.95</td>\n",
       "      <td>39</td>\n",
       "      <td>161</td>\n",
       "      <td>2</td>\n",
       "      <td>...</td>\n",
       "      <td>13.993833</td>\n",
       "      <td>205.000000</td>\n",
       "      <td>4.4</td>\n",
       "      <td>22.195932</td>\n",
       "      <td>45.95</td>\n",
       "      <td>4.0</td>\n",
       "      <td>14.840000</td>\n",
       "      <td>45.95</td>\n",
       "      <td>275.70</td>\n",
       "      <td>290.540000</td>\n",
       "    </tr>\n",
       "    <tr>\n",
       "      <th>3</th>\n",
       "      <td>bed1</td>\n",
       "      <td>bed_bath_table</td>\n",
       "      <td>2020-08-01</td>\n",
       "      <td>4</td>\n",
       "      <td>183.80</td>\n",
       "      <td>14.287500</td>\n",
       "      <td>45.95</td>\n",
       "      <td>39</td>\n",
       "      <td>161</td>\n",
       "      <td>2</td>\n",
       "      <td>...</td>\n",
       "      <td>14.656757</td>\n",
       "      <td>199.509804</td>\n",
       "      <td>4.4</td>\n",
       "      <td>19.412885</td>\n",
       "      <td>45.95</td>\n",
       "      <td>4.0</td>\n",
       "      <td>14.287500</td>\n",
       "      <td>45.95</td>\n",
       "      <td>183.80</td>\n",
       "      <td>198.087500</td>\n",
       "    </tr>\n",
       "    <tr>\n",
       "      <th>4</th>\n",
       "      <td>bed1</td>\n",
       "      <td>bed_bath_table</td>\n",
       "      <td>2020-09-01</td>\n",
       "      <td>2</td>\n",
       "      <td>91.90</td>\n",
       "      <td>15.100000</td>\n",
       "      <td>45.95</td>\n",
       "      <td>39</td>\n",
       "      <td>161</td>\n",
       "      <td>2</td>\n",
       "      <td>...</td>\n",
       "      <td>18.776522</td>\n",
       "      <td>163.398710</td>\n",
       "      <td>4.4</td>\n",
       "      <td>24.324687</td>\n",
       "      <td>45.95</td>\n",
       "      <td>4.0</td>\n",
       "      <td>15.100000</td>\n",
       "      <td>45.95</td>\n",
       "      <td>91.90</td>\n",
       "      <td>107.000000</td>\n",
       "    </tr>\n",
       "  </tbody>\n",
       "</table>\n",
       "<p>5 rows × 32 columns</p>\n",
       "</div>"
      ],
      "text/plain": [
       "  product_id product_category_name  month_year  qty  total_price  \\\n",
       "0       bed1        bed_bath_table  2020-05-01    1        45.95   \n",
       "1       bed1        bed_bath_table  2020-06-01    3       137.85   \n",
       "2       bed1        bed_bath_table  2020-07-01    6       275.70   \n",
       "3       bed1        bed_bath_table  2020-08-01    4       183.80   \n",
       "4       bed1        bed_bath_table  2020-09-01    2        91.90   \n",
       "\n",
       "   freight_price  unit_price  product_name_lenght  product_description_lenght  \\\n",
       "0      15.100000       45.95                   39                         161   \n",
       "1      12.933333       45.95                   39                         161   \n",
       "2      14.840000       45.95                   39                         161   \n",
       "3      14.287500       45.95                   39                         161   \n",
       "4      15.100000       45.95                   39                         161   \n",
       "\n",
       "   product_photos_qty  ...        fp1      comp_2  ps2        fp2  comp_3  \\\n",
       "0                   2  ...  15.011897  215.000000  4.4   8.760000   45.95   \n",
       "1                   2  ...  14.769216  209.000000  4.4  21.322000   45.95   \n",
       "2                   2  ...  13.993833  205.000000  4.4  22.195932   45.95   \n",
       "3                   2  ...  14.656757  199.509804  4.4  19.412885   45.95   \n",
       "4                   2  ...  18.776522  163.398710  4.4  24.324687   45.95   \n",
       "\n",
       "   ps3        fp3  lag_price  revenue  total_revenue  \n",
       "0  4.0  15.100000      45.90    45.95      61.050000  \n",
       "1  4.0  12.933333      45.95   137.85     150.783333  \n",
       "2  4.0  14.840000      45.95   275.70     290.540000  \n",
       "3  4.0  14.287500      45.95   183.80     198.087500  \n",
       "4  4.0  15.100000      45.95    91.90     107.000000  \n",
       "\n",
       "[5 rows x 32 columns]"
      ]
     },
     "execution_count": 4,
     "metadata": {},
     "output_type": "execute_result"
    }
   ],
   "source": [
    "data_df.head()"
   ]
  },
  {
   "cell_type": "code",
   "execution_count": 5,
   "metadata": {},
   "outputs": [],
   "source": [
    "#since total price is accounted for in total Revenue and revenue and total price are the same, we drop those columns along with product name,\n",
    "#description, photos.\n",
    "data_df = data_df.drop([\"total_price\", \"product_name_lenght\", \"product_description_lenght\", \"product_photos_qty\", \"revenue\"], axis = 1)"
   ]
  },
  {
   "cell_type": "code",
   "execution_count": 6,
   "metadata": {},
   "outputs": [
    {
     "data": {
      "text/html": [
       "<div>\n",
       "<style scoped>\n",
       "    .dataframe tbody tr th:only-of-type {\n",
       "        vertical-align: middle;\n",
       "    }\n",
       "\n",
       "    .dataframe tbody tr th {\n",
       "        vertical-align: top;\n",
       "    }\n",
       "\n",
       "    .dataframe thead th {\n",
       "        text-align: right;\n",
       "    }\n",
       "</style>\n",
       "<table border=\"1\" class=\"dataframe\">\n",
       "  <thead>\n",
       "    <tr style=\"text-align: right;\">\n",
       "      <th></th>\n",
       "      <th>product_id</th>\n",
       "      <th>product_category_name</th>\n",
       "      <th>month_year</th>\n",
       "      <th>qty</th>\n",
       "      <th>freight_price</th>\n",
       "      <th>unit_price</th>\n",
       "      <th>product_weight_g</th>\n",
       "      <th>product_score</th>\n",
       "      <th>customers</th>\n",
       "      <th>weekday</th>\n",
       "      <th>...</th>\n",
       "      <th>ps1</th>\n",
       "      <th>fp1</th>\n",
       "      <th>comp_2</th>\n",
       "      <th>ps2</th>\n",
       "      <th>fp2</th>\n",
       "      <th>comp_3</th>\n",
       "      <th>ps3</th>\n",
       "      <th>fp3</th>\n",
       "      <th>lag_price</th>\n",
       "      <th>total_revenue</th>\n",
       "    </tr>\n",
       "  </thead>\n",
       "  <tbody>\n",
       "    <tr>\n",
       "      <th>0</th>\n",
       "      <td>bed1</td>\n",
       "      <td>bed_bath_table</td>\n",
       "      <td>2020-05-01</td>\n",
       "      <td>1</td>\n",
       "      <td>15.100000</td>\n",
       "      <td>45.95</td>\n",
       "      <td>350</td>\n",
       "      <td>4.0</td>\n",
       "      <td>57</td>\n",
       "      <td>23</td>\n",
       "      <td>...</td>\n",
       "      <td>3.9</td>\n",
       "      <td>15.011897</td>\n",
       "      <td>215.000000</td>\n",
       "      <td>4.4</td>\n",
       "      <td>8.760000</td>\n",
       "      <td>45.95</td>\n",
       "      <td>4.0</td>\n",
       "      <td>15.100000</td>\n",
       "      <td>45.90</td>\n",
       "      <td>61.050000</td>\n",
       "    </tr>\n",
       "    <tr>\n",
       "      <th>1</th>\n",
       "      <td>bed1</td>\n",
       "      <td>bed_bath_table</td>\n",
       "      <td>2020-06-01</td>\n",
       "      <td>3</td>\n",
       "      <td>12.933333</td>\n",
       "      <td>45.95</td>\n",
       "      <td>350</td>\n",
       "      <td>4.0</td>\n",
       "      <td>61</td>\n",
       "      <td>22</td>\n",
       "      <td>...</td>\n",
       "      <td>3.9</td>\n",
       "      <td>14.769216</td>\n",
       "      <td>209.000000</td>\n",
       "      <td>4.4</td>\n",
       "      <td>21.322000</td>\n",
       "      <td>45.95</td>\n",
       "      <td>4.0</td>\n",
       "      <td>12.933333</td>\n",
       "      <td>45.95</td>\n",
       "      <td>150.783333</td>\n",
       "    </tr>\n",
       "    <tr>\n",
       "      <th>2</th>\n",
       "      <td>bed1</td>\n",
       "      <td>bed_bath_table</td>\n",
       "      <td>2020-07-01</td>\n",
       "      <td>6</td>\n",
       "      <td>14.840000</td>\n",
       "      <td>45.95</td>\n",
       "      <td>350</td>\n",
       "      <td>4.0</td>\n",
       "      <td>123</td>\n",
       "      <td>21</td>\n",
       "      <td>...</td>\n",
       "      <td>3.9</td>\n",
       "      <td>13.993833</td>\n",
       "      <td>205.000000</td>\n",
       "      <td>4.4</td>\n",
       "      <td>22.195932</td>\n",
       "      <td>45.95</td>\n",
       "      <td>4.0</td>\n",
       "      <td>14.840000</td>\n",
       "      <td>45.95</td>\n",
       "      <td>290.540000</td>\n",
       "    </tr>\n",
       "    <tr>\n",
       "      <th>3</th>\n",
       "      <td>bed1</td>\n",
       "      <td>bed_bath_table</td>\n",
       "      <td>2020-08-01</td>\n",
       "      <td>4</td>\n",
       "      <td>14.287500</td>\n",
       "      <td>45.95</td>\n",
       "      <td>350</td>\n",
       "      <td>4.0</td>\n",
       "      <td>90</td>\n",
       "      <td>23</td>\n",
       "      <td>...</td>\n",
       "      <td>3.9</td>\n",
       "      <td>14.656757</td>\n",
       "      <td>199.509804</td>\n",
       "      <td>4.4</td>\n",
       "      <td>19.412885</td>\n",
       "      <td>45.95</td>\n",
       "      <td>4.0</td>\n",
       "      <td>14.287500</td>\n",
       "      <td>45.95</td>\n",
       "      <td>198.087500</td>\n",
       "    </tr>\n",
       "    <tr>\n",
       "      <th>4</th>\n",
       "      <td>bed1</td>\n",
       "      <td>bed_bath_table</td>\n",
       "      <td>2020-09-01</td>\n",
       "      <td>2</td>\n",
       "      <td>15.100000</td>\n",
       "      <td>45.95</td>\n",
       "      <td>350</td>\n",
       "      <td>4.0</td>\n",
       "      <td>54</td>\n",
       "      <td>21</td>\n",
       "      <td>...</td>\n",
       "      <td>3.9</td>\n",
       "      <td>18.776522</td>\n",
       "      <td>163.398710</td>\n",
       "      <td>4.4</td>\n",
       "      <td>24.324687</td>\n",
       "      <td>45.95</td>\n",
       "      <td>4.0</td>\n",
       "      <td>15.100000</td>\n",
       "      <td>45.95</td>\n",
       "      <td>107.000000</td>\n",
       "    </tr>\n",
       "  </tbody>\n",
       "</table>\n",
       "<p>5 rows × 27 columns</p>\n",
       "</div>"
      ],
      "text/plain": [
       "  product_id product_category_name  month_year  qty  freight_price  \\\n",
       "0       bed1        bed_bath_table  2020-05-01    1      15.100000   \n",
       "1       bed1        bed_bath_table  2020-06-01    3      12.933333   \n",
       "2       bed1        bed_bath_table  2020-07-01    6      14.840000   \n",
       "3       bed1        bed_bath_table  2020-08-01    4      14.287500   \n",
       "4       bed1        bed_bath_table  2020-09-01    2      15.100000   \n",
       "\n",
       "   unit_price  product_weight_g  product_score  customers  weekday  ...  ps1  \\\n",
       "0       45.95               350            4.0         57       23  ...  3.9   \n",
       "1       45.95               350            4.0         61       22  ...  3.9   \n",
       "2       45.95               350            4.0        123       21  ...  3.9   \n",
       "3       45.95               350            4.0         90       23  ...  3.9   \n",
       "4       45.95               350            4.0         54       21  ...  3.9   \n",
       "\n",
       "         fp1      comp_2  ps2        fp2  comp_3  ps3        fp3  lag_price  \\\n",
       "0  15.011897  215.000000  4.4   8.760000   45.95  4.0  15.100000      45.90   \n",
       "1  14.769216  209.000000  4.4  21.322000   45.95  4.0  12.933333      45.95   \n",
       "2  13.993833  205.000000  4.4  22.195932   45.95  4.0  14.840000      45.95   \n",
       "3  14.656757  199.509804  4.4  19.412885   45.95  4.0  14.287500      45.95   \n",
       "4  18.776522  163.398710  4.4  24.324687   45.95  4.0  15.100000      45.95   \n",
       "\n",
       "   total_revenue  \n",
       "0      61.050000  \n",
       "1     150.783333  \n",
       "2     290.540000  \n",
       "3     198.087500  \n",
       "4     107.000000  \n",
       "\n",
       "[5 rows x 27 columns]"
      ]
     },
     "execution_count": 6,
     "metadata": {},
     "output_type": "execute_result"
    }
   ],
   "source": [
    "data_df.head()"
   ]
  },
  {
   "cell_type": "code",
   "execution_count": 7,
   "metadata": {},
   "outputs": [
    {
     "name": "stdout",
     "output_type": "stream",
     "text": [
      "<class 'pandas.core.frame.DataFrame'>\n",
      "Int64Index: 676 entries, 0 to 675\n",
      "Data columns (total 27 columns):\n",
      " #   Column                 Non-Null Count  Dtype  \n",
      "---  ------                 --------------  -----  \n",
      " 0   product_id             676 non-null    object \n",
      " 1   product_category_name  676 non-null    object \n",
      " 2   month_year             676 non-null    object \n",
      " 3   qty                    676 non-null    int64  \n",
      " 4   freight_price          676 non-null    float64\n",
      " 5   unit_price             676 non-null    float64\n",
      " 6   product_weight_g       676 non-null    int64  \n",
      " 7   product_score          676 non-null    float64\n",
      " 8   customers              676 non-null    int64  \n",
      " 9   weekday                676 non-null    int64  \n",
      " 10  weekend                676 non-null    int64  \n",
      " 11  holiday                676 non-null    int64  \n",
      " 12  month                  676 non-null    int64  \n",
      " 13  year                   676 non-null    int64  \n",
      " 14  s                      676 non-null    float64\n",
      " 15  volume                 676 non-null    int64  \n",
      " 16  comp_1                 676 non-null    float64\n",
      " 17  ps1                    676 non-null    float64\n",
      " 18  fp1                    676 non-null    float64\n",
      " 19  comp_2                 676 non-null    float64\n",
      " 20  ps2                    676 non-null    float64\n",
      " 21  fp2                    676 non-null    float64\n",
      " 22  comp_3                 676 non-null    float64\n",
      " 23  ps3                    676 non-null    float64\n",
      " 24  fp3                    676 non-null    float64\n",
      " 25  lag_price              676 non-null    float64\n",
      " 26  total_revenue          676 non-null    float64\n",
      "dtypes: float64(15), int64(9), object(3)\n",
      "memory usage: 147.9+ KB\n"
     ]
    }
   ],
   "source": [
    "data_df.info()"
   ]
  },
  {
   "cell_type": "code",
   "execution_count": 8,
   "metadata": {},
   "outputs": [
    {
     "data": {
      "text/html": [
       "<div>\n",
       "<style scoped>\n",
       "    .dataframe tbody tr th:only-of-type {\n",
       "        vertical-align: middle;\n",
       "    }\n",
       "\n",
       "    .dataframe tbody tr th {\n",
       "        vertical-align: top;\n",
       "    }\n",
       "\n",
       "    .dataframe thead th {\n",
       "        text-align: right;\n",
       "    }\n",
       "</style>\n",
       "<table border=\"1\" class=\"dataframe\">\n",
       "  <thead>\n",
       "    <tr style=\"text-align: right;\">\n",
       "      <th></th>\n",
       "      <th>month</th>\n",
       "      <th>s</th>\n",
       "      <th>volume</th>\n",
       "    </tr>\n",
       "  </thead>\n",
       "  <tbody>\n",
       "    <tr>\n",
       "      <th>0</th>\n",
       "      <td>5</td>\n",
       "      <td>10.267394</td>\n",
       "      <td>3800</td>\n",
       "    </tr>\n",
       "    <tr>\n",
       "      <th>1</th>\n",
       "      <td>6</td>\n",
       "      <td>6.503115</td>\n",
       "      <td>3800</td>\n",
       "    </tr>\n",
       "    <tr>\n",
       "      <th>2</th>\n",
       "      <td>7</td>\n",
       "      <td>12.071651</td>\n",
       "      <td>3800</td>\n",
       "    </tr>\n",
       "    <tr>\n",
       "      <th>3</th>\n",
       "      <td>8</td>\n",
       "      <td>9.293873</td>\n",
       "      <td>3800</td>\n",
       "    </tr>\n",
       "    <tr>\n",
       "      <th>4</th>\n",
       "      <td>9</td>\n",
       "      <td>5.555556</td>\n",
       "      <td>3800</td>\n",
       "    </tr>\n",
       "  </tbody>\n",
       "</table>\n",
       "</div>"
      ],
      "text/plain": [
       "   month          s  volume\n",
       "0      5  10.267394    3800\n",
       "1      6   6.503115    3800\n",
       "2      7  12.071651    3800\n",
       "3      8   9.293873    3800\n",
       "4      9   5.555556    3800"
      ]
     },
     "execution_count": 8,
     "metadata": {},
     "output_type": "execute_result"
    }
   ],
   "source": [
    "review = data_df[[\"month\", \"s\", \"volume\"]]\n",
    "review.head()"
   ]
  },
  {
   "attachments": {},
   "cell_type": "markdown",
   "metadata": {},
   "source": [
    "# MULTIVARIATE HIERARCHICAL FORECASTING"
   ]
  },
  {
   "attachments": {},
   "cell_type": "markdown",
   "metadata": {},
   "source": [
    "Feature Engineering"
   ]
  },
  {
   "cell_type": "code",
   "execution_count": 9,
   "metadata": {},
   "outputs": [],
   "source": [
    "#In this data, the seasonality has already been accounted for. But since the estimators used derive this by themeselves, that column will be dropped\n",
    "data_df = data_df.drop(\"s\", axis= 1)"
   ]
  },
  {
   "cell_type": "code",
   "execution_count": 10,
   "metadata": {},
   "outputs": [],
   "source": [
    "model_data = data_df[[\"product_id\", \"product_category_name\", \"month_year\", \"qty\", \"total_revenue\"]]"
   ]
  },
  {
   "cell_type": "code",
   "execution_count": 11,
   "metadata": {},
   "outputs": [],
   "source": [
    "model_data = model_data.groupby([\"product_category_name\", \"product_id\", \"month_year\"],as_index=False).agg( \n",
    "                        total_qty = pd.NamedAgg(column = \"qty\", aggfunc=sum), \n",
    "                        total_revenue = pd.NamedAgg(column = \"total_revenue\", aggfunc=sum))"
   ]
  },
  {
   "cell_type": "code",
   "execution_count": 12,
   "metadata": {},
   "outputs": [
    {
     "data": {
      "text/html": [
       "<div>\n",
       "<style scoped>\n",
       "    .dataframe tbody tr th:only-of-type {\n",
       "        vertical-align: middle;\n",
       "    }\n",
       "\n",
       "    .dataframe tbody tr th {\n",
       "        vertical-align: top;\n",
       "    }\n",
       "\n",
       "    .dataframe thead th {\n",
       "        text-align: right;\n",
       "    }\n",
       "</style>\n",
       "<table border=\"1\" class=\"dataframe\">\n",
       "  <thead>\n",
       "    <tr style=\"text-align: right;\">\n",
       "      <th></th>\n",
       "      <th>product_category_name</th>\n",
       "      <th>product_id</th>\n",
       "      <th>month_year</th>\n",
       "      <th>total_qty</th>\n",
       "      <th>total_revenue</th>\n",
       "    </tr>\n",
       "  </thead>\n",
       "  <tbody>\n",
       "    <tr>\n",
       "      <th>0</th>\n",
       "      <td>bed_bath_table</td>\n",
       "      <td>bed1</td>\n",
       "      <td>2020-05-01</td>\n",
       "      <td>1</td>\n",
       "      <td>61.050000</td>\n",
       "    </tr>\n",
       "    <tr>\n",
       "      <th>1</th>\n",
       "      <td>bed_bath_table</td>\n",
       "      <td>bed1</td>\n",
       "      <td>2020-06-01</td>\n",
       "      <td>3</td>\n",
       "      <td>150.783333</td>\n",
       "    </tr>\n",
       "    <tr>\n",
       "      <th>2</th>\n",
       "      <td>bed_bath_table</td>\n",
       "      <td>bed1</td>\n",
       "      <td>2020-07-01</td>\n",
       "      <td>6</td>\n",
       "      <td>290.540000</td>\n",
       "    </tr>\n",
       "    <tr>\n",
       "      <th>3</th>\n",
       "      <td>bed_bath_table</td>\n",
       "      <td>bed1</td>\n",
       "      <td>2020-08-01</td>\n",
       "      <td>4</td>\n",
       "      <td>198.087500</td>\n",
       "    </tr>\n",
       "    <tr>\n",
       "      <th>4</th>\n",
       "      <td>bed_bath_table</td>\n",
       "      <td>bed1</td>\n",
       "      <td>2020-09-01</td>\n",
       "      <td>2</td>\n",
       "      <td>107.000000</td>\n",
       "    </tr>\n",
       "    <tr>\n",
       "      <th>5</th>\n",
       "      <td>bed_bath_table</td>\n",
       "      <td>bed1</td>\n",
       "      <td>2020-10-01</td>\n",
       "      <td>3</td>\n",
       "      <td>152.950000</td>\n",
       "    </tr>\n",
       "    <tr>\n",
       "      <th>6</th>\n",
       "      <td>bed_bath_table</td>\n",
       "      <td>bed1</td>\n",
       "      <td>2020-11-01</td>\n",
       "      <td>11</td>\n",
       "      <td>461.682727</td>\n",
       "    </tr>\n",
       "    <tr>\n",
       "      <th>7</th>\n",
       "      <td>bed_bath_table</td>\n",
       "      <td>bed1</td>\n",
       "      <td>2020-12-01</td>\n",
       "      <td>6</td>\n",
       "      <td>255.170000</td>\n",
       "    </tr>\n",
       "    <tr>\n",
       "      <th>8</th>\n",
       "      <td>bed_bath_table</td>\n",
       "      <td>bed1</td>\n",
       "      <td>2021-01-01</td>\n",
       "      <td>19</td>\n",
       "      <td>776.343684</td>\n",
       "    </tr>\n",
       "    <tr>\n",
       "      <th>9</th>\n",
       "      <td>bed_bath_table</td>\n",
       "      <td>bed1</td>\n",
       "      <td>2021-02-01</td>\n",
       "      <td>18</td>\n",
       "      <td>733.569444</td>\n",
       "    </tr>\n",
       "    <tr>\n",
       "      <th>10</th>\n",
       "      <td>bed_bath_table</td>\n",
       "      <td>bed1</td>\n",
       "      <td>2021-03-01</td>\n",
       "      <td>17</td>\n",
       "      <td>696.292353</td>\n",
       "    </tr>\n",
       "    <tr>\n",
       "      <th>11</th>\n",
       "      <td>bed_bath_table</td>\n",
       "      <td>bed1</td>\n",
       "      <td>2021-04-01</td>\n",
       "      <td>13</td>\n",
       "      <td>534.106154</td>\n",
       "    </tr>\n",
       "    <tr>\n",
       "      <th>12</th>\n",
       "      <td>bed_bath_table</td>\n",
       "      <td>bed1</td>\n",
       "      <td>2021-05-01</td>\n",
       "      <td>19</td>\n",
       "      <td>770.066316</td>\n",
       "    </tr>\n",
       "    <tr>\n",
       "      <th>13</th>\n",
       "      <td>bed_bath_table</td>\n",
       "      <td>bed1</td>\n",
       "      <td>2021-06-01</td>\n",
       "      <td>5</td>\n",
       "      <td>213.948000</td>\n",
       "    </tr>\n",
       "    <tr>\n",
       "      <th>14</th>\n",
       "      <td>bed_bath_table</td>\n",
       "      <td>bed1</td>\n",
       "      <td>2021-07-01</td>\n",
       "      <td>8</td>\n",
       "      <td>340.337500</td>\n",
       "    </tr>\n",
       "  </tbody>\n",
       "</table>\n",
       "</div>"
      ],
      "text/plain": [
       "   product_category_name product_id  month_year  total_qty  total_revenue\n",
       "0         bed_bath_table       bed1  2020-05-01          1      61.050000\n",
       "1         bed_bath_table       bed1  2020-06-01          3     150.783333\n",
       "2         bed_bath_table       bed1  2020-07-01          6     290.540000\n",
       "3         bed_bath_table       bed1  2020-08-01          4     198.087500\n",
       "4         bed_bath_table       bed1  2020-09-01          2     107.000000\n",
       "5         bed_bath_table       bed1  2020-10-01          3     152.950000\n",
       "6         bed_bath_table       bed1  2020-11-01         11     461.682727\n",
       "7         bed_bath_table       bed1  2020-12-01          6     255.170000\n",
       "8         bed_bath_table       bed1  2021-01-01         19     776.343684\n",
       "9         bed_bath_table       bed1  2021-02-01         18     733.569444\n",
       "10        bed_bath_table       bed1  2021-03-01         17     696.292353\n",
       "11        bed_bath_table       bed1  2021-04-01         13     534.106154\n",
       "12        bed_bath_table       bed1  2021-05-01         19     770.066316\n",
       "13        bed_bath_table       bed1  2021-06-01          5     213.948000\n",
       "14        bed_bath_table       bed1  2021-07-01          8     340.337500"
      ]
     },
     "execution_count": 12,
     "metadata": {},
     "output_type": "execute_result"
    }
   ],
   "source": [
    "model_data.head(15)"
   ]
  },
  {
   "cell_type": "code",
   "execution_count": 13,
   "metadata": {},
   "outputs": [],
   "source": [
    "#create category and product pairs\n",
    "cat_prod_pairs = model_data[[\"product_category_name\", \"product_id\"]].drop_duplicates()"
   ]
  },
  {
   "cell_type": "code",
   "execution_count": 14,
   "metadata": {},
   "outputs": [],
   "source": [
    "date = pd.DataFrame(model_data.month_year.drop_duplicates())"
   ]
  },
  {
   "cell_type": "code",
   "execution_count": 15,
   "metadata": {},
   "outputs": [
    {
     "data": {
      "text/html": [
       "<div>\n",
       "<style scoped>\n",
       "    .dataframe tbody tr th:only-of-type {\n",
       "        vertical-align: middle;\n",
       "    }\n",
       "\n",
       "    .dataframe tbody tr th {\n",
       "        vertical-align: top;\n",
       "    }\n",
       "\n",
       "    .dataframe thead th {\n",
       "        text-align: right;\n",
       "    }\n",
       "</style>\n",
       "<table border=\"1\" class=\"dataframe\">\n",
       "  <thead>\n",
       "    <tr style=\"text-align: right;\">\n",
       "      <th></th>\n",
       "      <th>month_year</th>\n",
       "    </tr>\n",
       "  </thead>\n",
       "  <tbody>\n",
       "    <tr>\n",
       "      <th>0</th>\n",
       "      <td>2020-05-01</td>\n",
       "    </tr>\n",
       "    <tr>\n",
       "      <th>1</th>\n",
       "      <td>2020-06-01</td>\n",
       "    </tr>\n",
       "    <tr>\n",
       "      <th>2</th>\n",
       "      <td>2020-07-01</td>\n",
       "    </tr>\n",
       "    <tr>\n",
       "      <th>3</th>\n",
       "      <td>2020-08-01</td>\n",
       "    </tr>\n",
       "    <tr>\n",
       "      <th>4</th>\n",
       "      <td>2020-09-01</td>\n",
       "    </tr>\n",
       "  </tbody>\n",
       "</table>\n",
       "</div>"
      ],
      "text/plain": [
       "   month_year\n",
       "0  2020-05-01\n",
       "1  2020-06-01\n",
       "2  2020-07-01\n",
       "3  2020-08-01\n",
       "4  2020-09-01"
      ]
     },
     "execution_count": 15,
     "metadata": {},
     "output_type": "execute_result"
    }
   ],
   "source": [
    "date.head()"
   ]
  },
  {
   "cell_type": "code",
   "execution_count": 16,
   "metadata": {},
   "outputs": [
    {
     "data": {
      "text/plain": [
       "'2020-01-01'"
      ]
     },
     "execution_count": 16,
     "metadata": {},
     "output_type": "execute_result"
    }
   ],
   "source": [
    "date[\"month_year\"].min()"
   ]
  },
  {
   "cell_type": "code",
   "execution_count": 17,
   "metadata": {},
   "outputs": [],
   "source": [
    "categorization = cat_prod_pairs.merge(date, how='cross')"
   ]
  },
  {
   "cell_type": "code",
   "execution_count": 18,
   "metadata": {},
   "outputs": [],
   "source": [
    "final_df = categorization.merge(model_data, on = [\"product_category_name\", \"product_id\", \"month_year\"], how = 'left')"
   ]
  },
  {
   "cell_type": "code",
   "execution_count": 19,
   "metadata": {},
   "outputs": [
    {
     "data": {
      "text/html": [
       "<div>\n",
       "<style scoped>\n",
       "    .dataframe tbody tr th:only-of-type {\n",
       "        vertical-align: middle;\n",
       "    }\n",
       "\n",
       "    .dataframe tbody tr th {\n",
       "        vertical-align: top;\n",
       "    }\n",
       "\n",
       "    .dataframe thead th {\n",
       "        text-align: right;\n",
       "    }\n",
       "</style>\n",
       "<table border=\"1\" class=\"dataframe\">\n",
       "  <thead>\n",
       "    <tr style=\"text-align: right;\">\n",
       "      <th></th>\n",
       "      <th>product_category_name</th>\n",
       "      <th>product_id</th>\n",
       "      <th>month_year</th>\n",
       "      <th>total_qty</th>\n",
       "      <th>total_revenue</th>\n",
       "    </tr>\n",
       "  </thead>\n",
       "  <tbody>\n",
       "    <tr>\n",
       "      <th>0</th>\n",
       "      <td>bed_bath_table</td>\n",
       "      <td>bed1</td>\n",
       "      <td>2020-05-01</td>\n",
       "      <td>1.0</td>\n",
       "      <td>61.050000</td>\n",
       "    </tr>\n",
       "    <tr>\n",
       "      <th>1</th>\n",
       "      <td>bed_bath_table</td>\n",
       "      <td>bed1</td>\n",
       "      <td>2020-06-01</td>\n",
       "      <td>3.0</td>\n",
       "      <td>150.783333</td>\n",
       "    </tr>\n",
       "    <tr>\n",
       "      <th>2</th>\n",
       "      <td>bed_bath_table</td>\n",
       "      <td>bed1</td>\n",
       "      <td>2020-07-01</td>\n",
       "      <td>6.0</td>\n",
       "      <td>290.540000</td>\n",
       "    </tr>\n",
       "    <tr>\n",
       "      <th>3</th>\n",
       "      <td>bed_bath_table</td>\n",
       "      <td>bed1</td>\n",
       "      <td>2020-08-01</td>\n",
       "      <td>4.0</td>\n",
       "      <td>198.087500</td>\n",
       "    </tr>\n",
       "    <tr>\n",
       "      <th>4</th>\n",
       "      <td>bed_bath_table</td>\n",
       "      <td>bed1</td>\n",
       "      <td>2020-09-01</td>\n",
       "      <td>2.0</td>\n",
       "      <td>107.000000</td>\n",
       "    </tr>\n",
       "  </tbody>\n",
       "</table>\n",
       "</div>"
      ],
      "text/plain": [
       "  product_category_name product_id  month_year  total_qty  total_revenue\n",
       "0        bed_bath_table       bed1  2020-05-01        1.0      61.050000\n",
       "1        bed_bath_table       bed1  2020-06-01        3.0     150.783333\n",
       "2        bed_bath_table       bed1  2020-07-01        6.0     290.540000\n",
       "3        bed_bath_table       bed1  2020-08-01        4.0     198.087500\n",
       "4        bed_bath_table       bed1  2020-09-01        2.0     107.000000"
      ]
     },
     "execution_count": 19,
     "metadata": {},
     "output_type": "execute_result"
    }
   ],
   "source": [
    "final_df.head()"
   ]
  },
  {
   "cell_type": "code",
   "execution_count": 20,
   "metadata": {},
   "outputs": [
    {
     "name": "stdout",
     "output_type": "stream",
     "text": [
      "<class 'pandas.core.frame.DataFrame'>\n",
      "Int64Index: 1040 entries, 0 to 1039\n",
      "Data columns (total 5 columns):\n",
      " #   Column                 Non-Null Count  Dtype  \n",
      "---  ------                 --------------  -----  \n",
      " 0   product_category_name  1040 non-null   object \n",
      " 1   product_id             1040 non-null   object \n",
      " 2   month_year             1040 non-null   object \n",
      " 3   total_qty              676 non-null    float64\n",
      " 4   total_revenue          676 non-null    float64\n",
      "dtypes: float64(2), object(3)\n",
      "memory usage: 48.8+ KB\n"
     ]
    }
   ],
   "source": [
    "final_df.info()"
   ]
  },
  {
   "cell_type": "code",
   "execution_count": 21,
   "metadata": {},
   "outputs": [],
   "source": [
    "final_df = final_df.fillna(0)"
   ]
  },
  {
   "cell_type": "code",
   "execution_count": 22,
   "metadata": {},
   "outputs": [],
   "source": [
    "final_df[\"month_year\"] = pd.to_datetime(final_df[\"month_year\"], format = '%Y-%m')\n",
    "final_df[\"month_year\"] = final_df[\"month_year\"].dt.to_period('M')"
   ]
  },
  {
   "cell_type": "code",
   "execution_count": 23,
   "metadata": {},
   "outputs": [
    {
     "name": "stdout",
     "output_type": "stream",
     "text": [
      "<class 'pandas.core.frame.DataFrame'>\n",
      "Int64Index: 1040 entries, 0 to 1039\n",
      "Data columns (total 5 columns):\n",
      " #   Column                 Non-Null Count  Dtype    \n",
      "---  ------                 --------------  -----    \n",
      " 0   product_category_name  1040 non-null   object   \n",
      " 1   product_id             1040 non-null   object   \n",
      " 2   month_year             1040 non-null   period[M]\n",
      " 3   total_qty              1040 non-null   float64  \n",
      " 4   total_revenue          1040 non-null   float64  \n",
      "dtypes: float64(2), object(2), period[M](1)\n",
      "memory usage: 48.8+ KB\n"
     ]
    }
   ],
   "source": [
    "final_df.info()"
   ]
  },
  {
   "cell_type": "code",
   "execution_count": 24,
   "metadata": {},
   "outputs": [],
   "source": [
    "final_df = final_df.groupby([\"product_category_name\", \"product_id\", \"month_year\"]).agg( \n",
    "                        total_qty = pd.NamedAgg(column = \"total_qty\", aggfunc=sum), \n",
    "                        total_revenue = pd.NamedAgg(column = \"total_revenue\", aggfunc=sum))"
   ]
  },
  {
   "cell_type": "code",
   "execution_count": 25,
   "metadata": {},
   "outputs": [
    {
     "data": {
      "text/html": [
       "<div>\n",
       "<style scoped>\n",
       "    .dataframe tbody tr th:only-of-type {\n",
       "        vertical-align: middle;\n",
       "    }\n",
       "\n",
       "    .dataframe tbody tr th {\n",
       "        vertical-align: top;\n",
       "    }\n",
       "\n",
       "    .dataframe thead th {\n",
       "        text-align: right;\n",
       "    }\n",
       "</style>\n",
       "<table border=\"1\" class=\"dataframe\">\n",
       "  <thead>\n",
       "    <tr style=\"text-align: right;\">\n",
       "      <th></th>\n",
       "      <th></th>\n",
       "      <th></th>\n",
       "      <th>total_qty</th>\n",
       "      <th>total_revenue</th>\n",
       "    </tr>\n",
       "    <tr>\n",
       "      <th>product_category_name</th>\n",
       "      <th>product_id</th>\n",
       "      <th>month_year</th>\n",
       "      <th></th>\n",
       "      <th></th>\n",
       "    </tr>\n",
       "  </thead>\n",
       "  <tbody>\n",
       "    <tr>\n",
       "      <th rowspan=\"10\" valign=\"top\">bed_bath_table</th>\n",
       "      <th rowspan=\"10\" valign=\"top\">bed1</th>\n",
       "      <th>2020-01</th>\n",
       "      <td>0.0</td>\n",
       "      <td>0.000000</td>\n",
       "    </tr>\n",
       "    <tr>\n",
       "      <th>2020-02</th>\n",
       "      <td>0.0</td>\n",
       "      <td>0.000000</td>\n",
       "    </tr>\n",
       "    <tr>\n",
       "      <th>2020-03</th>\n",
       "      <td>0.0</td>\n",
       "      <td>0.000000</td>\n",
       "    </tr>\n",
       "    <tr>\n",
       "      <th>2020-04</th>\n",
       "      <td>0.0</td>\n",
       "      <td>0.000000</td>\n",
       "    </tr>\n",
       "    <tr>\n",
       "      <th>2020-05</th>\n",
       "      <td>1.0</td>\n",
       "      <td>61.050000</td>\n",
       "    </tr>\n",
       "    <tr>\n",
       "      <th>2020-06</th>\n",
       "      <td>3.0</td>\n",
       "      <td>150.783333</td>\n",
       "    </tr>\n",
       "    <tr>\n",
       "      <th>2020-07</th>\n",
       "      <td>6.0</td>\n",
       "      <td>290.540000</td>\n",
       "    </tr>\n",
       "    <tr>\n",
       "      <th>2020-08</th>\n",
       "      <td>4.0</td>\n",
       "      <td>198.087500</td>\n",
       "    </tr>\n",
       "    <tr>\n",
       "      <th>2020-09</th>\n",
       "      <td>2.0</td>\n",
       "      <td>107.000000</td>\n",
       "    </tr>\n",
       "    <tr>\n",
       "      <th>2020-10</th>\n",
       "      <td>3.0</td>\n",
       "      <td>152.950000</td>\n",
       "    </tr>\n",
       "  </tbody>\n",
       "</table>\n",
       "</div>"
      ],
      "text/plain": [
       "                                             total_qty  total_revenue\n",
       "product_category_name product_id month_year                          \n",
       "bed_bath_table        bed1       2020-01           0.0       0.000000\n",
       "                                 2020-02           0.0       0.000000\n",
       "                                 2020-03           0.0       0.000000\n",
       "                                 2020-04           0.0       0.000000\n",
       "                                 2020-05           1.0      61.050000\n",
       "                                 2020-06           3.0     150.783333\n",
       "                                 2020-07           6.0     290.540000\n",
       "                                 2020-08           4.0     198.087500\n",
       "                                 2020-09           2.0     107.000000\n",
       "                                 2020-10           3.0     152.950000"
      ]
     },
     "execution_count": 25,
     "metadata": {},
     "output_type": "execute_result"
    }
   ],
   "source": [
    "final_df.head(10)"
   ]
  },
  {
   "cell_type": "code",
   "execution_count": 26,
   "metadata": {},
   "outputs": [
    {
     "data": {
      "text/html": [
       "<div>\n",
       "<style scoped>\n",
       "    .dataframe tbody tr th:only-of-type {\n",
       "        vertical-align: middle;\n",
       "    }\n",
       "\n",
       "    .dataframe tbody tr th {\n",
       "        vertical-align: top;\n",
       "    }\n",
       "\n",
       "    .dataframe thead th {\n",
       "        text-align: right;\n",
       "    }\n",
       "</style>\n",
       "<table border=\"1\" class=\"dataframe\">\n",
       "  <thead>\n",
       "    <tr style=\"text-align: right;\">\n",
       "      <th></th>\n",
       "      <th></th>\n",
       "      <th></th>\n",
       "      <th>total_qty</th>\n",
       "      <th>total_revenue</th>\n",
       "    </tr>\n",
       "    <tr>\n",
       "      <th>product_category_name</th>\n",
       "      <th>product_id</th>\n",
       "      <th>month_year</th>\n",
       "      <th></th>\n",
       "      <th></th>\n",
       "    </tr>\n",
       "  </thead>\n",
       "  <tbody>\n",
       "    <tr>\n",
       "      <th rowspan=\"5\" valign=\"top\">watches_gifts</th>\n",
       "      <th rowspan=\"5\" valign=\"top\">watches8</th>\n",
       "      <th>2021-04</th>\n",
       "      <td>26.0</td>\n",
       "      <td>3926.401923</td>\n",
       "    </tr>\n",
       "    <tr>\n",
       "      <th>2021-05</th>\n",
       "      <td>30.0</td>\n",
       "      <td>4371.259001</td>\n",
       "    </tr>\n",
       "    <tr>\n",
       "      <th>2021-06</th>\n",
       "      <td>3.0</td>\n",
       "      <td>477.070000</td>\n",
       "    </tr>\n",
       "    <tr>\n",
       "      <th>2021-07</th>\n",
       "      <td>14.0</td>\n",
       "      <td>2216.657142</td>\n",
       "    </tr>\n",
       "    <tr>\n",
       "      <th>2021-08</th>\n",
       "      <td>11.0</td>\n",
       "      <td>1751.992727</td>\n",
       "    </tr>\n",
       "  </tbody>\n",
       "</table>\n",
       "</div>"
      ],
      "text/plain": [
       "                                             total_qty  total_revenue\n",
       "product_category_name product_id month_year                          \n",
       "watches_gifts         watches8   2021-04          26.0    3926.401923\n",
       "                                 2021-05          30.0    4371.259001\n",
       "                                 2021-06           3.0     477.070000\n",
       "                                 2021-07          14.0    2216.657142\n",
       "                                 2021-08          11.0    1751.992727"
      ]
     },
     "execution_count": 26,
     "metadata": {},
     "output_type": "execute_result"
    }
   ],
   "source": [
    "final_df.tail()"
   ]
  },
  {
   "attachments": {},
   "cell_type": "markdown",
   "metadata": {},
   "source": [
    "MULTIVARIATE HIERARCHICAL FORECASTING"
   ]
  },
  {
   "cell_type": "code",
   "execution_count": 27,
   "metadata": {},
   "outputs": [],
   "source": [
    "import sktime\n",
    "from sktime.forecasting.compose import EnsembleForecaster\n",
    "from sktime.forecasting.naive import NaiveForecaster\n",
    "from sktime.forecasting.trend import PolynomialTrendForecaster\n",
    "from sktime.forecasting.compose import ColumnEnsembleForecaster\n",
    "from sktime.forecasting.base import ForecastingHorizon\n",
    "\n",
    "from sktime.performance_metrics.forecasting import mean_absolute_percentage_error"
   ]
  },
  {
   "cell_type": "code",
   "execution_count": 28,
   "metadata": {},
   "outputs": [],
   "source": [
    "train = final_df[final_df.index.get_level_values('month_year') <= \"2021-02\"]\n",
    "validation = final_df[final_df.index.get_level_values('month_year') > \"2021-02\"]"
   ]
  },
  {
   "cell_type": "code",
   "execution_count": 29,
   "metadata": {},
   "outputs": [
    {
     "data": {
      "text/html": [
       "<div>\n",
       "<style scoped>\n",
       "    .dataframe tbody tr th:only-of-type {\n",
       "        vertical-align: middle;\n",
       "    }\n",
       "\n",
       "    .dataframe tbody tr th {\n",
       "        vertical-align: top;\n",
       "    }\n",
       "\n",
       "    .dataframe thead th {\n",
       "        text-align: right;\n",
       "    }\n",
       "</style>\n",
       "<table border=\"1\" class=\"dataframe\">\n",
       "  <thead>\n",
       "    <tr style=\"text-align: right;\">\n",
       "      <th></th>\n",
       "      <th></th>\n",
       "      <th></th>\n",
       "      <th>total_qty</th>\n",
       "      <th>total_revenue</th>\n",
       "    </tr>\n",
       "    <tr>\n",
       "      <th>product_category_name</th>\n",
       "      <th>product_id</th>\n",
       "      <th>month_year</th>\n",
       "      <th></th>\n",
       "      <th></th>\n",
       "    </tr>\n",
       "  </thead>\n",
       "  <tbody>\n",
       "    <tr>\n",
       "      <th rowspan=\"5\" valign=\"top\">watches_gifts</th>\n",
       "      <th rowspan=\"5\" valign=\"top\">watches8</th>\n",
       "      <th>2020-10</th>\n",
       "      <td>2.0</td>\n",
       "      <td>491.020000</td>\n",
       "    </tr>\n",
       "    <tr>\n",
       "      <th>2020-11</th>\n",
       "      <td>0.0</td>\n",
       "      <td>0.000000</td>\n",
       "    </tr>\n",
       "    <tr>\n",
       "      <th>2020-12</th>\n",
       "      <td>0.0</td>\n",
       "      <td>0.000000</td>\n",
       "    </tr>\n",
       "    <tr>\n",
       "      <th>2021-01</th>\n",
       "      <td>2.0</td>\n",
       "      <td>476.160000</td>\n",
       "    </tr>\n",
       "    <tr>\n",
       "      <th>2021-02</th>\n",
       "      <td>11.0</td>\n",
       "      <td>2267.825454</td>\n",
       "    </tr>\n",
       "  </tbody>\n",
       "</table>\n",
       "</div>"
      ],
      "text/plain": [
       "                                             total_qty  total_revenue\n",
       "product_category_name product_id month_year                          \n",
       "watches_gifts         watches8   2020-10           2.0     491.020000\n",
       "                                 2020-11           0.0       0.000000\n",
       "                                 2020-12           0.0       0.000000\n",
       "                                 2021-01           2.0     476.160000\n",
       "                                 2021-02          11.0    2267.825454"
      ]
     },
     "execution_count": 29,
     "metadata": {},
     "output_type": "execute_result"
    }
   ],
   "source": [
    "train.tail()"
   ]
  },
  {
   "cell_type": "code",
   "execution_count": 30,
   "metadata": {},
   "outputs": [
    {
     "data": {
      "text/html": [
       "<div>\n",
       "<style scoped>\n",
       "    .dataframe tbody tr th:only-of-type {\n",
       "        vertical-align: middle;\n",
       "    }\n",
       "\n",
       "    .dataframe tbody tr th {\n",
       "        vertical-align: top;\n",
       "    }\n",
       "\n",
       "    .dataframe thead th {\n",
       "        text-align: right;\n",
       "    }\n",
       "</style>\n",
       "<table border=\"1\" class=\"dataframe\">\n",
       "  <thead>\n",
       "    <tr style=\"text-align: right;\">\n",
       "      <th></th>\n",
       "      <th></th>\n",
       "      <th></th>\n",
       "      <th>total_qty</th>\n",
       "      <th>total_revenue</th>\n",
       "    </tr>\n",
       "    <tr>\n",
       "      <th>product_category_name</th>\n",
       "      <th>product_id</th>\n",
       "      <th>month_year</th>\n",
       "      <th></th>\n",
       "      <th></th>\n",
       "    </tr>\n",
       "  </thead>\n",
       "  <tbody>\n",
       "    <tr>\n",
       "      <th rowspan=\"5\" valign=\"top\">bed_bath_table</th>\n",
       "      <th rowspan=\"5\" valign=\"top\">bed1</th>\n",
       "      <th>2021-03</th>\n",
       "      <td>17.0</td>\n",
       "      <td>696.292353</td>\n",
       "    </tr>\n",
       "    <tr>\n",
       "      <th>2021-04</th>\n",
       "      <td>13.0</td>\n",
       "      <td>534.106154</td>\n",
       "    </tr>\n",
       "    <tr>\n",
       "      <th>2021-05</th>\n",
       "      <td>19.0</td>\n",
       "      <td>770.066316</td>\n",
       "    </tr>\n",
       "    <tr>\n",
       "      <th>2021-06</th>\n",
       "      <td>5.0</td>\n",
       "      <td>213.948000</td>\n",
       "    </tr>\n",
       "    <tr>\n",
       "      <th>2021-07</th>\n",
       "      <td>8.0</td>\n",
       "      <td>340.337500</td>\n",
       "    </tr>\n",
       "  </tbody>\n",
       "</table>\n",
       "</div>"
      ],
      "text/plain": [
       "                                             total_qty  total_revenue\n",
       "product_category_name product_id month_year                          \n",
       "bed_bath_table        bed1       2021-03          17.0     696.292353\n",
       "                                 2021-04          13.0     534.106154\n",
       "                                 2021-05          19.0     770.066316\n",
       "                                 2021-06           5.0     213.948000\n",
       "                                 2021-07           8.0     340.337500"
      ]
     },
     "execution_count": 30,
     "metadata": {},
     "output_type": "execute_result"
    }
   ],
   "source": [
    "validation.head()"
   ]
  },
  {
   "cell_type": "code",
   "execution_count": 38,
   "metadata": {},
   "outputs": [],
   "source": [
    "# building first model with column ensemble forecaster\n",
    "forecasters = [(\"trend\", PolynomialTrendForecaster(),0), \n",
    "               (\"naive\",  NaiveForecaster(), 1)]\n",
    "\n",
    "forecaster = ColumnEnsembleForecaster(forecasters = forecasters)\n",
    "fh = ForecastingHorizon(\n",
    "    pd.PeriodIndex(pd.date_range(\"2021-03\", periods= 6, freq=\"M\")), is_relative=False\n",
    ")"
   ]
  },
  {
   "cell_type": "code",
   "execution_count": 39,
   "metadata": {},
   "outputs": [],
   "source": [
    "model = forecaster.fit(y=train, fh = fh)"
   ]
  },
  {
   "cell_type": "code",
   "execution_count": 40,
   "metadata": {},
   "outputs": [
    {
     "data": {
      "text/html": [
       "<div>\n",
       "<style scoped>\n",
       "    .dataframe tbody tr th:only-of-type {\n",
       "        vertical-align: middle;\n",
       "    }\n",
       "\n",
       "    .dataframe tbody tr th {\n",
       "        vertical-align: top;\n",
       "    }\n",
       "\n",
       "    .dataframe thead th {\n",
       "        text-align: right;\n",
       "    }\n",
       "</style>\n",
       "<table border=\"1\" class=\"dataframe\">\n",
       "  <thead>\n",
       "    <tr style=\"text-align: right;\">\n",
       "      <th></th>\n",
       "      <th></th>\n",
       "      <th></th>\n",
       "      <th>total_qty</th>\n",
       "      <th>total_revenue</th>\n",
       "    </tr>\n",
       "    <tr>\n",
       "      <th>product_category_name</th>\n",
       "      <th>product_id</th>\n",
       "      <th>month_year</th>\n",
       "      <th></th>\n",
       "      <th></th>\n",
       "    </tr>\n",
       "  </thead>\n",
       "  <tbody>\n",
       "    <tr>\n",
       "      <th rowspan=\"5\" valign=\"top\">bed_bath_table</th>\n",
       "      <th rowspan=\"5\" valign=\"top\">bed1</th>\n",
       "      <th>2020-01</th>\n",
       "      <td>0.0</td>\n",
       "      <td>0.00</td>\n",
       "    </tr>\n",
       "    <tr>\n",
       "      <th>2020-02</th>\n",
       "      <td>0.0</td>\n",
       "      <td>0.00</td>\n",
       "    </tr>\n",
       "    <tr>\n",
       "      <th>2020-03</th>\n",
       "      <td>0.0</td>\n",
       "      <td>0.00</td>\n",
       "    </tr>\n",
       "    <tr>\n",
       "      <th>2020-04</th>\n",
       "      <td>0.0</td>\n",
       "      <td>0.00</td>\n",
       "    </tr>\n",
       "    <tr>\n",
       "      <th>2020-05</th>\n",
       "      <td>1.0</td>\n",
       "      <td>61.05</td>\n",
       "    </tr>\n",
       "  </tbody>\n",
       "</table>\n",
       "</div>"
      ],
      "text/plain": [
       "                                             total_qty  total_revenue\n",
       "product_category_name product_id month_year                          \n",
       "bed_bath_table        bed1       2020-01           0.0           0.00\n",
       "                                 2020-02           0.0           0.00\n",
       "                                 2020-03           0.0           0.00\n",
       "                                 2020-04           0.0           0.00\n",
       "                                 2020-05           1.0          61.05"
      ]
     },
     "execution_count": 40,
     "metadata": {},
     "output_type": "execute_result"
    }
   ],
   "source": [
    "train.head()"
   ]
  },
  {
   "cell_type": "code",
   "execution_count": 41,
   "metadata": {},
   "outputs": [
    {
     "data": {
      "text/plain": [
       "ForecastingHorizon(['2021-03', '2021-04', '2021-05', '2021-06', '2021-07', '2021-08'], dtype='period[M]', is_relative=False)"
      ]
     },
     "execution_count": 41,
     "metadata": {},
     "output_type": "execute_result"
    }
   ],
   "source": [
    "fh"
   ]
  },
  {
   "cell_type": "code",
   "execution_count": 42,
   "metadata": {},
   "outputs": [],
   "source": [
    "predicted = model.predict()"
   ]
  },
  {
   "cell_type": "code",
   "execution_count": 43,
   "metadata": {},
   "outputs": [
    {
     "data": {
      "text/html": [
       "<div>\n",
       "<style scoped>\n",
       "    .dataframe tbody tr th:only-of-type {\n",
       "        vertical-align: middle;\n",
       "    }\n",
       "\n",
       "    .dataframe tbody tr th {\n",
       "        vertical-align: top;\n",
       "    }\n",
       "\n",
       "    .dataframe thead th {\n",
       "        text-align: right;\n",
       "    }\n",
       "</style>\n",
       "<table border=\"1\" class=\"dataframe\">\n",
       "  <thead>\n",
       "    <tr style=\"text-align: right;\">\n",
       "      <th></th>\n",
       "      <th></th>\n",
       "      <th></th>\n",
       "      <th>total_qty</th>\n",
       "      <th>total_revenue</th>\n",
       "    </tr>\n",
       "    <tr>\n",
       "      <th>product_category_name</th>\n",
       "      <th>product_id</th>\n",
       "      <th>month_year</th>\n",
       "      <th></th>\n",
       "      <th></th>\n",
       "    </tr>\n",
       "  </thead>\n",
       "  <tbody>\n",
       "    <tr>\n",
       "      <th rowspan=\"5\" valign=\"top\">bed_bath_table</th>\n",
       "      <th rowspan=\"5\" valign=\"top\">bed1</th>\n",
       "      <th>2021-03</th>\n",
       "      <td>14.758242</td>\n",
       "      <td>733.569444</td>\n",
       "    </tr>\n",
       "    <tr>\n",
       "      <th>2021-04</th>\n",
       "      <td>16.030769</td>\n",
       "      <td>733.569444</td>\n",
       "    </tr>\n",
       "    <tr>\n",
       "      <th>2021-05</th>\n",
       "      <td>17.303297</td>\n",
       "      <td>733.569444</td>\n",
       "    </tr>\n",
       "    <tr>\n",
       "      <th>2021-06</th>\n",
       "      <td>18.575824</td>\n",
       "      <td>733.569444</td>\n",
       "    </tr>\n",
       "    <tr>\n",
       "      <th>2021-07</th>\n",
       "      <td>19.848352</td>\n",
       "      <td>733.569444</td>\n",
       "    </tr>\n",
       "    <tr>\n",
       "      <th>...</th>\n",
       "      <th>...</th>\n",
       "      <th>...</th>\n",
       "      <td>...</td>\n",
       "      <td>...</td>\n",
       "    </tr>\n",
       "    <tr>\n",
       "      <th rowspan=\"5\" valign=\"top\">watches_gifts</th>\n",
       "      <th rowspan=\"5\" valign=\"top\">watches8</th>\n",
       "      <th>2021-04</th>\n",
       "      <td>4.446154</td>\n",
       "      <td>2267.825454</td>\n",
       "    </tr>\n",
       "    <tr>\n",
       "      <th>2021-05</th>\n",
       "      <td>4.826374</td>\n",
       "      <td>2267.825454</td>\n",
       "    </tr>\n",
       "    <tr>\n",
       "      <th>2021-06</th>\n",
       "      <td>5.206593</td>\n",
       "      <td>2267.825454</td>\n",
       "    </tr>\n",
       "    <tr>\n",
       "      <th>2021-07</th>\n",
       "      <td>5.586813</td>\n",
       "      <td>2267.825454</td>\n",
       "    </tr>\n",
       "    <tr>\n",
       "      <th>2021-08</th>\n",
       "      <td>5.967033</td>\n",
       "      <td>2267.825454</td>\n",
       "    </tr>\n",
       "  </tbody>\n",
       "</table>\n",
       "<p>312 rows × 2 columns</p>\n",
       "</div>"
      ],
      "text/plain": [
       "                                             total_qty  total_revenue\n",
       "product_category_name product_id month_year                          \n",
       "bed_bath_table        bed1       2021-03     14.758242     733.569444\n",
       "                                 2021-04     16.030769     733.569444\n",
       "                                 2021-05     17.303297     733.569444\n",
       "                                 2021-06     18.575824     733.569444\n",
       "                                 2021-07     19.848352     733.569444\n",
       "...                                                ...            ...\n",
       "watches_gifts         watches8   2021-04      4.446154    2267.825454\n",
       "                                 2021-05      4.826374    2267.825454\n",
       "                                 2021-06      5.206593    2267.825454\n",
       "                                 2021-07      5.586813    2267.825454\n",
       "                                 2021-08      5.967033    2267.825454\n",
       "\n",
       "[312 rows x 2 columns]"
      ]
     },
     "execution_count": 43,
     "metadata": {},
     "output_type": "execute_result"
    }
   ],
   "source": [
    "predicted"
   ]
  },
  {
   "cell_type": "code",
   "execution_count": 44,
   "metadata": {},
   "outputs": [
    {
     "name": "stdout",
     "output_type": "stream",
     "text": [
      "<class 'pandas.core.frame.DataFrame'>\n",
      "MultiIndex: 312 entries, ('bed_bath_table', 'bed1', Period('2021-03', 'M')) to ('watches_gifts', 'watches8', Period('2021-08', 'M'))\n",
      "Data columns (total 2 columns):\n",
      " #   Column         Non-Null Count  Dtype  \n",
      "---  ------         --------------  -----  \n",
      " 0   total_qty      312 non-null    float64\n",
      " 1   total_revenue  312 non-null    float64\n",
      "dtypes: float64(2)\n",
      "memory usage: 6.6+ KB\n"
     ]
    }
   ],
   "source": [
    "validation.info()"
   ]
  },
  {
   "cell_type": "code",
   "execution_count": 45,
   "metadata": {},
   "outputs": [],
   "source": [
    "# model evaluation\n",
    "from sklearn.metrics import r2_score\n",
    "\n",
    "score = r2_score(validation, predicted)"
   ]
  },
  {
   "cell_type": "code",
   "execution_count": 46,
   "metadata": {},
   "outputs": [
    {
     "data": {
      "text/plain": [
       "-0.8398550416412105"
      ]
     },
     "execution_count": 46,
     "metadata": {},
     "output_type": "execute_result"
    }
   ],
   "source": [
    "score"
   ]
  },
  {
   "cell_type": "code",
   "execution_count": 49,
   "metadata": {},
   "outputs": [],
   "source": [
    "# ensemble forecaster\n",
    "forecasters = [\n",
    "    (\"trend\", PolynomialTrendForecaster()),\n",
    "    (\"naive\", NaiveForecaster()),\n",
    "]\n",
    "ensemble_model = EnsembleForecaster(forecasters = forecasters, weights=[4, 10])"
   ]
  },
  {
   "cell_type": "code",
   "execution_count": 51,
   "metadata": {},
   "outputs": [],
   "source": [
    "model2 = ensemble_model.fit(y=train, fh = fh)"
   ]
  },
  {
   "cell_type": "code",
   "execution_count": 52,
   "metadata": {},
   "outputs": [],
   "source": [
    "prediction2 = model2.predict()"
   ]
  },
  {
   "cell_type": "code",
   "execution_count": 53,
   "metadata": {},
   "outputs": [],
   "source": [
    "score2 = r2_score(validation, prediction2)"
   ]
  },
  {
   "cell_type": "code",
   "execution_count": 54,
   "metadata": {},
   "outputs": [
    {
     "data": {
      "text/plain": [
       "-0.42044603806345293"
      ]
     },
     "execution_count": 54,
     "metadata": {},
     "output_type": "execute_result"
    }
   ],
   "source": [
    "score2"
   ]
  },
  {
   "attachments": {},
   "cell_type": "markdown",
   "metadata": {},
   "source": [
    "Replacing zeros in train data with 1 to see the outcome"
   ]
  },
  {
   "cell_type": "code",
   "execution_count": 55,
   "metadata": {},
   "outputs": [],
   "source": [
    "train = train.replace(0, 1.0)"
   ]
  },
  {
   "cell_type": "code",
   "execution_count": 56,
   "metadata": {},
   "outputs": [],
   "source": [
    "model3 = ensemble_model.fit(y=train, fh = fh)"
   ]
  },
  {
   "cell_type": "code",
   "execution_count": 57,
   "metadata": {},
   "outputs": [],
   "source": [
    "prediction3 = model3.predict()"
   ]
  },
  {
   "cell_type": "code",
   "execution_count": 58,
   "metadata": {},
   "outputs": [
    {
     "data": {
      "text/plain": [
       "-0.41466429131925586"
      ]
     },
     "execution_count": 58,
     "metadata": {},
     "output_type": "execute_result"
    }
   ],
   "source": [
    "score3 = r2_score(validation, prediction3)\n",
    "score3"
   ]
  },
  {
   "cell_type": "code",
   "execution_count": 59,
   "metadata": {},
   "outputs": [],
   "source": [
    "from sktime.forecasting.compose._multiplexer import MultiplexForecaster"
   ]
  },
  {
   "cell_type": "code",
   "execution_count": 60,
   "metadata": {},
   "outputs": [],
   "source": [
    "multiplex_model = MultiplexForecaster(forecasters)"
   ]
  },
  {
   "cell_type": "code",
   "execution_count": 61,
   "metadata": {},
   "outputs": [],
   "source": [
    "model4 = multiplex_model.fit(y = train, fh = fh)"
   ]
  },
  {
   "cell_type": "code",
   "execution_count": 62,
   "metadata": {},
   "outputs": [],
   "source": [
    "prediction4 = model4.predict()"
   ]
  },
  {
   "cell_type": "code",
   "execution_count": 63,
   "metadata": {},
   "outputs": [
    {
     "data": {
      "text/plain": [
       "-0.9361945182319417"
      ]
     },
     "execution_count": 63,
     "metadata": {},
     "output_type": "execute_result"
    }
   ],
   "source": [
    "score4 = r2_score(validation, prediction4)\n",
    "score4"
   ]
  },
  {
   "cell_type": "code",
   "execution_count": 64,
   "metadata": {},
   "outputs": [
    {
     "data": {
      "text/plain": [
       "3.191995850117951e+17"
      ]
     },
     "execution_count": 64,
     "metadata": {},
     "output_type": "execute_result"
    }
   ],
   "source": [
    "#changing model scorer to mape\n",
    "mape_one = mean_absolute_percentage_error(validation, predicted)\n",
    "mape_one"
   ]
  },
  {
   "cell_type": "code",
   "execution_count": 65,
   "metadata": {},
   "outputs": [
    {
     "data": {
      "text/plain": [
       "4.38098420004925e+17"
      ]
     },
     "execution_count": 65,
     "metadata": {},
     "output_type": "execute_result"
    }
   ],
   "source": [
    "mape_two = mean_absolute_percentage_error(validation, prediction2)\n",
    "mape_two"
   ]
  },
  {
   "cell_type": "code",
   "execution_count": 66,
   "metadata": {},
   "outputs": [
    {
     "data": {
      "text/plain": [
       "4.380886262211684e+17"
      ]
     },
     "execution_count": 66,
     "metadata": {},
     "output_type": "execute_result"
    }
   ],
   "source": [
    "mape_three = mean_absolute_percentage_error(validation, prediction3)\n",
    "mape_three"
   ]
  },
  {
   "cell_type": "code",
   "execution_count": 68,
   "metadata": {},
   "outputs": [
    {
     "data": {
      "text/plain": [
       "7.469306918318136e+17"
      ]
     },
     "execution_count": 68,
     "metadata": {},
     "output_type": "execute_result"
    },
    {
     "ename": "",
     "evalue": "",
     "output_type": "error",
     "traceback": [
      "\u001b[1;31mThe Kernel crashed while executing code in the the current cell or a previous cell. Please review the code in the cell(s) to identify a possible cause of the failure. Click <a href='https://aka.ms/vscodeJupyterKernelCrash'>here</a> for more info. View Jupyter <a href='command:jupyter.viewOutput'>log</a> for further details."
     ]
    }
   ],
   "source": [
    "mape_four = mean_absolute_percentage_error(validation, prediction4)\n",
    "mape_four"
   ]
  },
  {
   "attachments": {},
   "cell_type": "markdown",
   "metadata": {},
   "source": [
    "FORECASTING WITH EXOGENOUS DATA"
   ]
  },
  {
   "cell_type": "code",
   "execution_count": null,
   "metadata": {},
   "outputs": [],
   "source": []
  }
 ],
 "metadata": {
  "kernelspec": {
   "display_name": ".venv",
   "language": "python",
   "name": "python3"
  },
  "language_info": {
   "codemirror_mode": {
    "name": "ipython",
    "version": 3
   },
   "file_extension": ".py",
   "mimetype": "text/x-python",
   "name": "python",
   "nbconvert_exporter": "python",
   "pygments_lexer": "ipython3",
   "version": "3.9.13"
  },
  "orig_nbformat": 4,
  "vscode": {
   "interpreter": {
    "hash": "07e3f9f0bd263ebdc5ed306d412323439adec39cc42c2eb1f0ee9c6ddc668827"
   }
  }
 },
 "nbformat": 4,
 "nbformat_minor": 2
}
